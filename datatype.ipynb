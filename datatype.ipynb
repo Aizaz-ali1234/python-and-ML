{
 "cells": [
  {
   "cell_type": "markdown",
   "id": "1d38fd19",
   "metadata": {},
   "source": [
    "## Python and ML 25"
   ]
  },
  {
   "cell_type": "markdown",
   "id": "119e5023",
   "metadata": {},
   "source": [
    "### Python Data type\n",
    "Python has several built-in data types that you can use out of the box because theyʼre built into the language.\n",
    "Note that the term basic refers to objects that can represent data you typically find in real life, such as numbers and text. It doesnʼt include composite data types, such as lists, tuples, dictionaries, and others.\n",
    " In Python, the built-in data types that you can consider basic are the following:"
   ]
  },
  {
   "cell_type": "markdown",
   "id": "d3cd8d8f",
   "metadata": {},
   "source": [
    "##### Integer Numbers\n",
    " Integer numbers are whole numbers with no decimal places. They can be positive or negative numbers. For example, 0, 1, 2, 3,-1, -2, and -3 are all integers."
   ]
  },
  {
   "cell_type": "code",
   "execution_count": 1,
   "id": "5bffc416",
   "metadata": {},
   "outputs": [
    {
     "name": "stdout",
     "output_type": "stream",
     "text": [
      "3\n"
     ]
    }
   ],
   "source": [
    "x=3\n",
    "print(x)"
   ]
  },
  {
   "cell_type": "markdown",
   "id": "76c4e71d",
   "metadata": {},
   "source": [
    "When youʼre working with long integers, you can use the underscore character to make the literals more readable:"
   ]
  },
  {
   "cell_type": "code",
   "execution_count": 2,
   "id": "65f872a0",
   "metadata": {},
   "outputs": [
    {
     "name": "stdout",
     "output_type": "stream",
     "text": [
      "1000000\n"
     ]
    }
   ],
   "source": [
    "x=1_000_000\n",
    "print(x)"
   ]
  },
  {
   "cell_type": "markdown",
   "id": "f8fbe942",
   "metadata": {},
   "source": [
    "##### Integer Method\n",
    "there are different integer Method you will use in python.just like you use             .as_integer_ratio()"
   ]
  },
  {
   "cell_type": "code",
   "execution_count": 3,
   "id": "89b90b94",
   "metadata": {},
   "outputs": [
    {
     "name": "stdout",
     "output_type": "stream",
     "text": [
      "(12, 1)\n"
     ]
    }
   ],
   "source": [
    "x=12\n",
    "print( (x).as_integer_ratio())"
   ]
  },
  {
   "cell_type": "markdown",
   "id": "099d9865",
   "metadata": {},
   "source": [
    "When you call the .as_integer_ratio() method on an integer value, you get the integer as the numerator and 1 as the\n",
    " denominator."
   ]
  },
  {
   "cell_type": "code",
   "execution_count": 4,
   "id": "d5daa06a",
   "metadata": {},
   "outputs": [
    {
     "name": "stdout",
     "output_type": "stream",
     "text": [
      "0\n"
     ]
    }
   ],
   "source": [
    "print(int())"
   ]
  },
  {
   "cell_type": "markdown",
   "id": "07a4e7ea",
   "metadata": {},
   "source": [
    "the int is the built in function when you are calling the int with no aurgument it well return 0.\n",
    "If you use int data type as a string aurgument then you get a value error.\n",
    "e.g>> print(int('one')) in this case you well get a value error."
   ]
  },
  {
   "cell_type": "markdown",
   "id": "5e8f4d29",
   "metadata": {},
   "source": [
    "#### Floating Point number\n",
    " Floating-point numbers, or just float, are numbers with a decimal place. For example, 1.0 and 3.14 are floating-point numbers.\n",
    " You can also have negative float numbers, such as -2.75. In Python, the name of the float class represents floating-point numbers:\n"
   ]
  },
  {
   "cell_type": "code",
   "execution_count": 5,
   "id": "1149abb4",
   "metadata": {},
   "outputs": [
    {
     "name": "stdout",
     "output_type": "stream",
     "text": [
      "<class 'float'>\n"
     ]
    }
   ],
   "source": [
    "x=1.2\n",
    "print(type(x))"
   ]
  },
  {
   "cell_type": "markdown",
   "id": "754f4e12",
   "metadata": {},
   "source": [
    "you can use the characters e or E followed by a positive or negative integer to express the number using scientific notation.\n",
    "e.g .4e7"
   ]
  },
  {
   "cell_type": "code",
   "execution_count": 6,
   "id": "a4e8de69",
   "metadata": {},
   "outputs": [
    {
     "name": "stdout",
     "output_type": "stream",
     "text": [
      "4000000.0\n"
     ]
    }
   ],
   "source": [
    "print(.4e7)"
   ]
  },
  {
   "cell_type": "markdown",
   "id": "39132741",
   "metadata": {},
   "source": [
    "#### Complex Number\n",
    " Python has a built-in type for complex numbers. Complex numbers are composed of real and imaginary parts. They have the\n",
    " form a + bi, where a and b are real numbers, and i is the \n",
    "Python\n",
    " imaginary unit."
   ]
  },
  {
   "cell_type": "code",
   "execution_count": 8,
   "id": "e35b7e01",
   "metadata": {},
   "outputs": [
    {
     "name": "stdout",
     "output_type": "stream",
     "text": [
      "<class 'complex'>\n"
     ]
    }
   ],
   "source": [
    "print(type(2+3j))"
   ]
  },
  {
   "cell_type": "markdown",
   "id": "064f315b",
   "metadata": {},
   "source": [
    "Note that the j canʼt be used alone.if you try to do this then you will get name error."
   ]
  },
  {
   "cell_type": "code",
   "execution_count": null,
   "id": "06d74158",
   "metadata": {},
   "outputs": [
    {
     "ename": "NameError",
     "evalue": "name 'j' is not defined",
     "output_type": "error",
     "traceback": [
      "\u001b[1;31m---------------------------------------------------------------------------\u001b[0m",
      "\u001b[1;31mNameError\u001b[0m                                 Traceback (most recent call last)",
      "Cell \u001b[1;32mIn[9], line 1\u001b[0m\n\u001b[1;32m----> 1\u001b[0m \u001b[38;5;28mprint\u001b[39m(\u001b[38;5;241m1\u001b[39m\u001b[38;5;241m+\u001b[39m\u001b[43mj\u001b[49m)\n",
      "\u001b[1;31mNameError\u001b[0m: name 'j' is not defined"
     ]
    }
   ],
   "source": [
    "print(3+j)"
   ]
  },
  {
   "cell_type": "markdown",
   "id": "6b8059b1",
   "metadata": {},
   "source": [
    " the complex type has a single method called .conjugate()."
   ]
  },
  {
   "cell_type": "code",
   "execution_count": 11,
   "id": "4ee2ea55",
   "metadata": {},
   "outputs": [
    {
     "name": "stdout",
     "output_type": "stream",
     "text": [
      "(3-4j)\n"
     ]
    }
   ],
   "source": [
    "x=3+4j\n",
    "print(x.conjugate())"
   ]
  },
  {
   "cell_type": "markdown",
   "id": "050d8e37",
   "metadata": {},
   "source": [
    "we can also use the complex bult in  function in python.when we call the complex function withe no aurgument then it well return 0."
   ]
  },
  {
   "cell_type": "code",
   "execution_count": 12,
   "id": "0013aa54",
   "metadata": {},
   "outputs": [
    {
     "name": "stdout",
     "output_type": "stream",
     "text": [
      "0j\n"
     ]
    }
   ],
   "source": [
    "print(complex())"
   ]
  },
  {
   "cell_type": "markdown",
   "id": "aba863c8",
   "metadata": {},
   "source": [
    "if you use complex number is a string value then you do not use space between them. if you space between them then you will get value error."
   ]
  },
  {
   "cell_type": "code",
   "execution_count": 17,
   "id": "40326fee",
   "metadata": {},
   "outputs": [
    {
     "name": "stdout",
     "output_type": "stream",
     "text": [
      "(3+4j)\n"
     ]
    },
    {
     "ename": "ValueError",
     "evalue": "complex() arg is a malformed string",
     "output_type": "error",
     "traceback": [
      "\u001b[1;31m---------------------------------------------------------------------------\u001b[0m",
      "\u001b[1;31mValueError\u001b[0m                                Traceback (most recent call last)",
      "Cell \u001b[1;32mIn[17], line 2\u001b[0m\n\u001b[0;32m      1\u001b[0m \u001b[38;5;28mprint\u001b[39m(\u001b[38;5;28mcomplex\u001b[39m(\u001b[38;5;124m'\u001b[39m\u001b[38;5;124m3+4j\u001b[39m\u001b[38;5;124m'\u001b[39m))\n\u001b[1;32m----> 2\u001b[0m \u001b[38;5;28mprint\u001b[39m(\u001b[38;5;28;43mcomplex\u001b[39;49m\u001b[43m(\u001b[49m\u001b[38;5;124;43m'\u001b[39;49m\u001b[38;5;124;43m3 + 4j\u001b[39;49m\u001b[38;5;124;43m'\u001b[39;49m\u001b[43m)\u001b[49m)\n",
      "\u001b[1;31mValueError\u001b[0m: complex() arg is a malformed string"
     ]
    }
   ],
   "source": [
    "print(complex('3+4j'))\n",
    "print(complex('3 + 4j'))"
   ]
  },
  {
   "cell_type": "markdown",
   "id": "56933950",
   "metadata": {},
   "source": [
    "### string \n",
    "in python strings are sequences of character data that you can use to represent and store textual data.\n",
    "the string type in ptyhon is called str."
   ]
  },
  {
   "cell_type": "code",
   "execution_count": 20,
   "id": "9ce22628",
   "metadata": {},
   "outputs": [
    {
     "name": "stdout",
     "output_type": "stream",
     "text": [
      "I am Aizaz Ali\n",
      "<class 'str'>\n"
     ]
    }
   ],
   "source": [
    "print('I am Aizaz Ali')\n",
    "print(type(''))"
   ]
  },
  {
   "cell_type": "markdown",
   "id": "cf6ef93a",
   "metadata": {},
   "source": [
    "you can also use double quota and triple quota to use string.\n",
    "the triple quota use for more then one line."
   ]
  },
  {
   "cell_type": "code",
   "execution_count": 23,
   "id": "9a72dc8a",
   "metadata": {},
   "outputs": [
    {
     "name": "stdout",
     "output_type": "stream",
     "text": [
      "this is triple line quoted string\n"
     ]
    }
   ],
   "source": [
    "print('''this is triple line quoted string''')"
   ]
  },
  {
   "cell_type": "markdown",
   "id": "8c727009",
   "metadata": {},
   "source": [
    "if you use single quoted string in you use between them other single quota then you well get syntax error"
   ]
  },
  {
   "cell_type": "markdown",
   "id": "3d41f8e0",
   "metadata": {},
   "source": [
    "##### string character\n",
    "###### Immutable: Cannot be changed after creation.\n",
    "###### Indexed: Access characters using index (starts from 0).\n",
    "###### Iterable: Can be looped through."
   ]
  },
  {
   "cell_type": "code",
   "execution_count": 25,
   "id": "8bd726a6",
   "metadata": {},
   "outputs": [
    {
     "name": "stdout",
     "output_type": "stream",
     "text": [
      "aizaz ali\n",
      "a\n"
     ]
    }
   ],
   "source": [
    "name='aizaz ali'\n",
    "print(name)\n",
    "print(name[0])"
   ]
  },
  {
   "cell_type": "markdown",
   "id": "18913816",
   "metadata": {},
   "source": [
    "##### Useful String Methods:\n",
    "Method\tDescription\tExample\n",
    ".lower()\tConverts to lowercase\t'Hello'.lower() → 'hello'\n",
    ".upper()\tConverts to uppercase\t'hi'.upper() → 'HI'\n",
    ".strip()\tRemoves whitespace\t' test '.strip() → 'test'\n",
    ".replace(a, b)\tReplaces a with b\t'apple'.replace('a','A')\n",
    ".find(sub)\tFinds index of substring\t'python'.find('t') → 2\n",
    ".split()\tSplits into list\t'a b c'.split() → ['a','b','c']\n",
    ".join(list)\tJoins elements with string\t' '.join(['a','b']) → 'a b'"
   ]
  },
  {
   "cell_type": "code",
   "execution_count": 27,
   "id": "5dd0b3c2",
   "metadata": {},
   "outputs": [
    {
     "name": "stdout",
     "output_type": "stream",
     "text": [
      "aizaz ali\n",
      "AIZAZ ALI\n",
      "aizaz ali\n",
      "AizAz Ali\n"
     ]
    }
   ],
   "source": [
    "name='aizaz ali'\n",
    "print(name.lower())\n",
    "print(name.upper())\n",
    "print(name.strip())\n",
    "print(name.replace('a','A'))"
   ]
  },
  {
   "cell_type": "markdown",
   "id": "a063fbe5",
   "metadata": {},
   "source": [
    "if you use r befor quated in the string then it is called raw string. in raw string the string character did not work."
   ]
  },
  {
   "cell_type": "code",
   "execution_count": 30,
   "id": "815e7e71",
   "metadata": {},
   "outputs": [
    {
     "name": "stdout",
     "output_type": "stream",
     "text": [
      "Aizaz\tAli\n",
      "Aizaz\\tAli\n"
     ]
    }
   ],
   "source": [
    "print('Aizaz\\tAli')\n",
    "print(r'Aizaz\\tAli')"
   ]
  },
  {
   "cell_type": "markdown",
   "id": "398e57d9",
   "metadata": {},
   "source": [
    "##### fstring litter\n"
   ]
  },
  {
   "cell_type": "code",
   "execution_count": 31,
   "id": "9d2e5477",
   "metadata": {},
   "outputs": [
    {
     "name": "stdout",
     "output_type": "stream",
     "text": [
      "my name is Aizaz Ali and my age is 18\n"
     ]
    }
   ],
   "source": [
    "name='Aizaz Ali'\n",
    "age=18\n",
    "print(f\"my name is {name} and my age is {age}\")"
   ]
  },
  {
   "cell_type": "markdown",
   "id": "eb333993",
   "metadata": {},
   "source": [
    "Escape character:\n",
    "\\n give new line \n",
    "\\t give tab space \n",
    "\\  'single\n",
    "\\  \"Double quote\n",
    "\\\\ give bckslash"
   ]
  },
  {
   "cell_type": "markdown",
   "id": "4e696b07",
   "metadata": {},
   "source": [
    "#### Bytes and Bytearrays in Python\n",
    "Python provides two main types to work with binary data:\n",
    "\n",
    "##### bytes\n",
    "Immutable sequence of bytes.\n",
    "\n",
    "Each byte is an integer between 0 and 255.\n",
    "\n",
    "Commonly used for binary files, images, network data, etc.\n",
    "\n",
    " Creating bytes:\n",
    "python\n",
    "Copy\n",
    "Edit\n",
    "You cannot modify a bytes object after creation — it is immutable."
   ]
  },
  {
   "cell_type": "code",
   "execution_count": 35,
   "id": "70fb2af2",
   "metadata": {},
   "outputs": [
    {
     "name": "stdout",
     "output_type": "stream",
     "text": [
      "b'ABCP'\n",
      "65\n"
     ]
    },
    {
     "data": {
      "text/plain": [
       "bytes"
      ]
     },
     "execution_count": 35,
     "metadata": {},
     "output_type": "execute_result"
    }
   ],
   "source": [
    "b = bytes([65, 66, 67,80])  \n",
    "print(b)  \n",
    "print(b[0])    \n",
    "type(b)"
   ]
  },
  {
   "cell_type": "markdown",
   "id": "9bb70bc3",
   "metadata": {},
   "source": [
    " ##### Bytearray\n",
    "Mutable version of bytes.\n",
    "\n",
    "Can be changed (e.g., you can update elements).\n",
    "\n",
    "Used when you need to modify binary data.\n",
    "\n",
    "Creating bytearray:\n",
    "\n"
   ]
  },
  {
   "cell_type": "code",
   "execution_count": 37,
   "id": "dc85f70e",
   "metadata": {},
   "outputs": [
    {
     "name": "stdout",
     "output_type": "stream",
     "text": [
      "bytearray(b'ABC')\n",
      "bytearray(b'ZBC')\n"
     ]
    }
   ],
   "source": [
    "ba = bytearray([65, 66, 67])\n",
    "print(ba)\n",
    "\n",
    "ba[0] = 90      \n",
    "print(ba)        "
   ]
  },
  {
   "cell_type": "markdown",
   "id": "80bb5bba",
   "metadata": {},
   "source": [
    "#### Booleans\n",
    "logic relies on the truth value of expressions and objects.\n",
    "they are may be true or false."
   ]
  },
  {
   "cell_type": "code",
   "execution_count": 38,
   "id": "1ce3c645",
   "metadata": {},
   "outputs": [
    {
     "data": {
      "text/plain": [
       "bool"
      ]
     },
     "execution_count": 38,
     "metadata": {},
     "output_type": "execute_result"
    }
   ],
   "source": [
    "type(True)"
   ]
  },
  {
   "cell_type": "code",
   "execution_count": 39,
   "id": "71059436",
   "metadata": {},
   "outputs": [
    {
     "data": {
      "text/plain": [
       "False"
      ]
     },
     "execution_count": 39,
     "metadata": {},
     "output_type": "execute_result"
    }
   ],
   "source": [
    "bool()#built in boolian function"
   ]
  },
  {
   "cell_type": "code",
   "execution_count": 40,
   "id": "daa5f701",
   "metadata": {},
   "outputs": [
    {
     "name": "stdout",
     "output_type": "stream",
     "text": [
      "False\n",
      "True\n"
     ]
    }
   ],
   "source": [
    "x=5\n",
    "y=10\n",
    "print(x>y)\n",
    "print(x<y)"
   ]
  }
 ],
 "metadata": {
  "kernelspec": {
   "display_name": "sum25",
   "language": "python",
   "name": "python3"
  },
  "language_info": {
   "codemirror_mode": {
    "name": "ipython",
    "version": 3
   },
   "file_extension": ".py",
   "mimetype": "text/x-python",
   "name": "python",
   "nbconvert_exporter": "python",
   "pygments_lexer": "ipython3",
   "version": "3.8.20"
  }
 },
 "nbformat": 4,
 "nbformat_minor": 5
}
