{
 "cells": [
  {
   "cell_type": "markdown",
   "id": "fb8cb912",
   "metadata": {},
   "source": [
    "### Dictionaries in Python\n",
    "A dictionary is a built in data type in python used to store key value pairs."
   ]
  },
  {
   "cell_type": "code",
   "execution_count": 1,
   "id": "e5c5150e",
   "metadata": {},
   "outputs": [
    {
     "name": "stdout",
     "output_type": "stream",
     "text": [
      "{'name': 'Aizaz', 'age': 20, 'grade': 'A'}\n"
     ]
    }
   ],
   "source": [
    "student = {\"name\": \"Aizaz\", \"age\": 20, \"grade\": \"A\"}\n",
    "print(student)"
   ]
  },
  {
   "cell_type": "markdown",
   "id": "305470c4",
   "metadata": {},
   "source": [
    "Key are unique.\n",
    "Values can be of any type.\n",
    "it is defined using curly braces{}."
   ]
  },
  {
   "cell_type": "markdown",
   "id": "0472a9a4",
   "metadata": {},
   "source": [
    "#### Accessing Value \n",
    "when you are accessing any value in dict then you do not use numerical indecing. you use the key."
   ]
  },
  {
   "cell_type": "code",
   "execution_count": 5,
   "id": "c771c70a",
   "metadata": {},
   "outputs": [
    {
     "name": "stdout",
     "output_type": "stream",
     "text": [
      "Aizaz\n"
     ]
    }
   ],
   "source": [
    "student = {\"name\": \"Aizaz\", \"age\": 20, \"grade\": \"A\"}\n",
    "print(student[\"name\"])"
   ]
  },
  {
   "cell_type": "markdown",
   "id": "ac64051f",
   "metadata": {},
   "source": [
    "A Python dictionary consists of a collection of key-value pairs, where each key corresponds to its associated value.In this example the name is the key and the value is the Aizaz."
   ]
  },
  {
   "cell_type": "markdown",
   "id": "7a05e2d6",
   "metadata": {},
   "source": [
    "Retrieving All the Values\n",
    ".vaulues()"
   ]
  },
  {
   "cell_type": "code",
   "execution_count": 26,
   "id": "e523331e",
   "metadata": {},
   "outputs": [
    {
     "data": {
      "text/plain": [
       "dict_values([100, 120, 1300])"
      ]
     },
     "execution_count": 26,
     "metadata": {},
     "output_type": "execute_result"
    }
   ],
   "source": [
    "name={'aizaz':100,'khan':120,'shafiq':1300}\n",
    "name.values()"
   ]
  },
  {
   "cell_type": "markdown",
   "id": "9f04b947",
   "metadata": {},
   "source": [
    "The .value give us the value in the dict."
   ]
  },
  {
   "cell_type": "markdown",
   "id": "853b568c",
   "metadata": {},
   "source": [
    "The .get() function give us the vaule of the key."
   ]
  },
  {
   "cell_type": "code",
   "execution_count": 27,
   "id": "76c20597",
   "metadata": {},
   "outputs": [
    {
     "data": {
      "text/plain": [
       "100"
      ]
     },
     "execution_count": 27,
     "metadata": {},
     "output_type": "execute_result"
    }
   ],
   "source": [
    "name={'aizaz':100,'khan':120,'shafiq':1300}\n",
    "name.get('aizaz')"
   ]
  },
  {
   "cell_type": "code",
   "execution_count": 28,
   "id": "6305c27b",
   "metadata": {},
   "outputs": [
    {
     "data": {
      "text/plain": [
       "dict_keys(['aizaz', 'khan', 'shafiq'])"
      ]
     },
     "execution_count": 28,
     "metadata": {},
     "output_type": "execute_result"
    }
   ],
   "source": [
    "# Accessing All the key\n",
    "name={'aizaz':100,'khan':120,'shafiq':1300}\n",
    "name.keys()"
   ]
  },
  {
   "cell_type": "code",
   "execution_count": 29,
   "id": "5916659a",
   "metadata": {},
   "outputs": [
    {
     "data": {
      "text/plain": [
       "dict_items([('aizaz', 100), ('khan', 120), ('shafiq', 1300)])"
      ]
     },
     "execution_count": 29,
     "metadata": {},
     "output_type": "execute_result"
    }
   ],
   "source": [
    "# Getting All the key value item \n",
    "name={'aizaz':100,'khan':120,'shafiq':1300}\n",
    "name.items()"
   ]
  },
  {
   "cell_type": "markdown",
   "id": "be686882",
   "metadata": {},
   "source": [
    "IF you use the numerical indecing then you will get keyError."
   ]
  },
  {
   "cell_type": "code",
   "execution_count": 6,
   "id": "7e48c6b0",
   "metadata": {},
   "outputs": [
    {
     "ename": "KeyError",
     "evalue": "0",
     "output_type": "error",
     "traceback": [
      "\u001b[1;31m---------------------------------------------------------------------------\u001b[0m",
      "\u001b[1;31mKeyError\u001b[0m                                  Traceback (most recent call last)",
      "Cell \u001b[1;32mIn[6], line 2\u001b[0m\n\u001b[0;32m      1\u001b[0m student \u001b[38;5;241m=\u001b[39m {\u001b[38;5;124m\"\u001b[39m\u001b[38;5;124mname\u001b[39m\u001b[38;5;124m\"\u001b[39m: \u001b[38;5;124m\"\u001b[39m\u001b[38;5;124mAizaz\u001b[39m\u001b[38;5;124m\"\u001b[39m, \u001b[38;5;124m\"\u001b[39m\u001b[38;5;124mage\u001b[39m\u001b[38;5;124m\"\u001b[39m: \u001b[38;5;241m20\u001b[39m, \u001b[38;5;124m\"\u001b[39m\u001b[38;5;124mgrade\u001b[39m\u001b[38;5;124m\"\u001b[39m: \u001b[38;5;124m\"\u001b[39m\u001b[38;5;124mA\u001b[39m\u001b[38;5;124m\"\u001b[39m}\n\u001b[1;32m----> 2\u001b[0m \u001b[38;5;28mprint\u001b[39m(\u001b[43mstudent\u001b[49m\u001b[43m[\u001b[49m\u001b[38;5;241;43m0\u001b[39;49m\u001b[43m]\u001b[49m)\n",
      "\u001b[1;31mKeyError\u001b[0m: 0"
     ]
    }
   ],
   "source": [
    "student = {\"name\": \"Aizaz\", \"age\": 20, \"grade\": \"A\"}\n",
    "print(student[0])# in dict do not use the numerical indexing "
   ]
  },
  {
   "cell_type": "markdown",
   "id": "17602880",
   "metadata": {},
   "source": [
    "Mutable: The dictionary values can be updated in place.\n",
    "\n",
    "Dynamic: Dictionaries can grow and shrink as needed.\n",
    "\n",
    "Efficient: They’re implemented as hash tables, which allows for fast key lookup.\n",
    "\n",
    "Ordered: Starting with Python 3.7, dictionaries keep their items in the same order they were inserted."
   ]
  },
  {
   "cell_type": "markdown",
   "id": "861bb145",
   "metadata": {},
   "source": [
    "The keys of a dictionary have a couple of restrictions. They need to be:\n",
    "\n",
    "Hashable: This means that you can’t use unhashable objects like lists as dictionary keys.\n",
    "Unique: This means that your dictionaries won’t have duplicate keys.you do not use double key in on dictionary."
   ]
  },
  {
   "cell_type": "markdown",
   "id": "22c07459",
   "metadata": {},
   "source": [
    "on the other hand the value of the dictionary is not restriction. They can be any type like int float etc. In dictionary the value is same not restriction."
   ]
  },
  {
   "cell_type": "markdown",
   "id": "edd05b1a",
   "metadata": {},
   "source": [
    "It’s important to note that dictionaries are collections of pairs. So, you can’t insert a key without its corresponding value"
   ]
  },
  {
   "cell_type": "markdown",
   "id": "e6101b95",
   "metadata": {},
   "source": [
    "#### Creating dictionaries in Python\n",
    "You can create Python dictionaries in a two ways, depending on you. The most common way is to use dictionary literals, which are a comma-separated series of key-value pairs in curly braces.\n",
    "\n",
    " The second way is to use the dict() constructor. "
   ]
  },
  {
   "cell_type": "markdown",
   "id": "8a4ae245",
   "metadata": {},
   "source": [
    "You can define a dictionary by enclosing a comma-separated series of key-value pairs in curly braces ({})."
   ]
  },
  {
   "cell_type": "code",
   "execution_count": 7,
   "id": "9b115f4f",
   "metadata": {},
   "outputs": [
    {
     "name": "stdout",
     "output_type": "stream",
     "text": [
      "{42: 'aaa', 2.78: 'bbb', True: 'ccc'}\n"
     ]
    }
   ],
   "source": [
    "x={42: \"aaa\", 2.78: \"bbb\", True: \"ccc\"}\n",
    "print(x)"
   ]
  },
  {
   "cell_type": "markdown",
   "id": "5fef8331",
   "metadata": {},
   "source": [
    "you can’t use unhashable objects as keys. If you try to, then you’ll get an TypeError:"
   ]
  },
  {
   "cell_type": "code",
   "execution_count": 8,
   "id": "ed9f01db",
   "metadata": {},
   "outputs": [
    {
     "ename": "TypeError",
     "evalue": "unhashable type: 'list'",
     "output_type": "error",
     "traceback": [
      "\u001b[1;31m---------------------------------------------------------------------------\u001b[0m",
      "\u001b[1;31mTypeError\u001b[0m                                 Traceback (most recent call last)",
      "Cell \u001b[1;32mIn[8], line 1\u001b[0m\n\u001b[1;32m----> 1\u001b[0m x\u001b[38;5;241m=\u001b[39m{[\u001b[38;5;241m1\u001b[39m,\u001b[38;5;241m2\u001b[39m,\u001b[38;5;241m3\u001b[39m]: \u001b[38;5;124m\"\u001b[39m\u001b[38;5;124mA list as a key\u001b[39m\u001b[38;5;124m\"\u001b[39m}\n\u001b[0;32m      2\u001b[0m \u001b[38;5;28mprint\u001b[39m(x)\n",
      "\u001b[1;31mTypeError\u001b[0m: unhashable type: 'list'"
     ]
    }
   ],
   "source": [
    "x={[1,2,3]: \"A list as a key\"}\n",
    "print(x)"
   ]
  },
  {
   "cell_type": "markdown",
   "id": "7ebe1175",
   "metadata": {},
   "source": [
    "the dict() constructor also used for creating dictionaray in python"
   ]
  },
  {
   "cell_type": "code",
   "execution_count": 12,
   "id": "e617ad08",
   "metadata": {},
   "outputs": [
    {
     "name": "stdout",
     "output_type": "stream",
     "text": [
      "{'Colorado': 'Rockies', 'Chicago': 'White Sox', 'Boston': 'Red Sox', 'Minnesota': 'Twins', 'Milwaukee': 'Brewers', 'Seattle': 'Mariners'}\n"
     ]
    }
   ],
   "source": [
    "MLB_teams = dict(\n",
    "    Colorado=\"Rockies\",\n",
    "    Chicago=\"White Sox\",\n",
    "     Boston=\"Red Sox\",\n",
    "     Minnesota=\"Twins\",\n",
    "     Milwaukee=\"Brewers\",\n",
    "     Seattle=\"Mariners\",\n",
    " )\n",
    "print(MLB_teams)"
   ]
  },
  {
   "cell_type": "code",
   "execution_count": 13,
   "id": "9447b546",
   "metadata": {},
   "outputs": [
    {
     "name": "stdout",
     "output_type": "stream",
     "text": [
      "{'banab': 3, 'apple': 3, 'mango': 3, 'orange': 3}\n"
     ]
    }
   ],
   "source": [
    "fruit=dict.fromkeys(['banab','apple','mango','orange'],3)\n",
    "print(fruit)"
   ]
  },
  {
   "cell_type": "markdown",
   "id": "9097047f",
   "metadata": {},
   "source": [
    "In the above example we create a dictionary to store an fruite. initially we have the list of fruits in stock but don't have the corresponding amount . So we use 3 as the default amount in the call to .fromkeys()."
   ]
  },
  {
   "cell_type": "code",
   "execution_count": 15,
   "id": "2e11c461",
   "metadata": {},
   "outputs": [
    {
     "name": "stdout",
     "output_type": "stream",
     "text": [
      "{'first_name': 'Aizaz', 'last_name': 'Ali', 'age': 18, 'spouse': 'Syed', 'children': ['Azhar', 'Ayyan ', 'Rahan'], 'pets': {'dog': 'Frieda', 'cat': 'Sox'}}\n"
     ]
    }
   ],
   "source": [
    "person = {}# create key in dictionaries by manualey\n",
    "\n",
    "person[\"first_name\"] = \"Aizaz\"\n",
    "person[\"last_name\"] = \"Ali\"\n",
    "person[\"age\"] = 18\n",
    "person[\"spouse\"] = \"Syed\"\n",
    "person[\"children\"] = [\"Azhar\", \"Ayyan \", \"Rahan\"]\n",
    "person[\"pets\"] = {\"dog\": \"Frieda\", \"cat\": \"Sox\"}\n",
    "print(person)"
   ]
  },
  {
   "cell_type": "markdown",
   "id": "adc32ac1",
   "metadata": {},
   "source": [
    "#### Adding key in a for Loop\n",
    "you can create the dictionaries by using for loop.you would required the range."
   ]
  },
  {
   "cell_type": "code",
   "execution_count": 21,
   "id": "096e72b5",
   "metadata": {},
   "outputs": [
    {
     "name": "stdout",
     "output_type": "stream",
     "text": [
      "{1: 1, 2: 4, 3: 9, 4: 16, 5: 25, 6: 36, 7: 49, 8: 64, 9: 81}\n"
     ]
    }
   ],
   "source": [
    "number={}\n",
    "for square in range(1, 10):\n",
    " number[square]=square**2\n",
    "print(number)"
   ]
  },
  {
   "cell_type": "markdown",
   "id": "b301a2d1",
   "metadata": {},
   "source": [
    "in this example we made a for loop in range of ten(10) and then square the number and the number of the square is the value and the number is key."
   ]
  },
  {
   "cell_type": "markdown",
   "id": "9bc45ea9",
   "metadata": {},
   "source": [
    "#### With Comprehensions\n",
    "using the coprehensions we can made the dictionaries."
   ]
  },
  {
   "cell_type": "code",
   "execution_count": 24,
   "id": "871d155c",
   "metadata": {},
   "outputs": [
    {
     "name": "stdout",
     "output_type": "stream",
     "text": [
      "{1: 1, 2: 4, 3: 9, 4: 16}\n"
     ]
    }
   ],
   "source": [
    "number={square:square**2 for square in range(1,5)}\n",
    "print(number)"
   ]
  },
  {
   "cell_type": "markdown",
   "id": "9bcca11c",
   "metadata": {},
   "source": [
    "The difference between loop and the list comprehensions is that the loop is take more place and the the list comprehensions give only one line of code"
   ]
  },
  {
   "cell_type": "markdown",
   "id": "e3619e50",
   "metadata": {},
   "source": [
    "#### updating a Dictionry  \n",
    ".update([other]) function update the dict with new dict."
   ]
  },
  {
   "cell_type": "code",
   "execution_count": 39,
   "id": "feec31a6",
   "metadata": {},
   "outputs": [
    {
     "name": "stdout",
     "output_type": "stream",
     "text": [
      "{'aizaz': 100, 'palar': 2, 'jalozai': 3, 'shanai': 4, 'khan': 120, 'shafiq': 1300}\n"
     ]
    }
   ],
   "source": [
    "name={\n",
    "    'aizaz':100,\n",
    "      'khan':120,\n",
    "      'shafiq':1300\n",
    "      }\n",
    "village={\n",
    "    'aizaz':500,\n",
    "    'palar':2,\n",
    "    'jalozai':3,\n",
    "    'shanai':4\n",
    "    }\n",
    "village.update(name)\n",
    "print(village)"
   ]
  },
  {
   "cell_type": "markdown",
   "id": "8da91a40",
   "metadata": {},
   "source": [
    "The update function update the value by new value which have already present in the dictionaries. And messing value at the end of the libaries"
   ]
  },
  {
   "cell_type": "code",
   "execution_count": 43,
   "id": "1b225eea",
   "metadata": {},
   "outputs": [
    {
     "name": "stdout",
     "output_type": "stream",
     "text": [
      "{'khan': 120, 'shafiq': 1300}\n"
     ]
    }
   ],
   "source": [
    "# .pop method remove the key value pair and give the value of the key.\n",
    "name={\n",
    "    'aizaz':100,\n",
    "      'khan':120,\n",
    "      'shafiq':1300\n",
    "      }\n",
    "name.pop('aizaz')\n",
    "print(name)"
   ]
  },
  {
   "cell_type": "markdown",
   "id": "5ad087c6",
   "metadata": {},
   "source": [
    "if the key is not present the it well keyError."
   ]
  },
  {
   "cell_type": "code",
   "execution_count": 44,
   "id": "88f1fbfe",
   "metadata": {},
   "outputs": [
    {
     "ename": "KeyError",
     "evalue": "'like'",
     "output_type": "error",
     "traceback": [
      "\u001b[1;31m---------------------------------------------------------------------------\u001b[0m",
      "\u001b[1;31mKeyError\u001b[0m                                  Traceback (most recent call last)",
      "Cell \u001b[1;32mIn[44], line 6\u001b[0m\n\u001b[0;32m      1\u001b[0m name\u001b[38;5;241m=\u001b[39m{\n\u001b[0;32m      2\u001b[0m     \u001b[38;5;124m'\u001b[39m\u001b[38;5;124maizaz\u001b[39m\u001b[38;5;124m'\u001b[39m:\u001b[38;5;241m100\u001b[39m,\n\u001b[0;32m      3\u001b[0m       \u001b[38;5;124m'\u001b[39m\u001b[38;5;124mkhan\u001b[39m\u001b[38;5;124m'\u001b[39m:\u001b[38;5;241m120\u001b[39m,\n\u001b[0;32m      4\u001b[0m       \u001b[38;5;124m'\u001b[39m\u001b[38;5;124mshafiq\u001b[39m\u001b[38;5;124m'\u001b[39m:\u001b[38;5;241m1300\u001b[39m\n\u001b[0;32m      5\u001b[0m       }\n\u001b[1;32m----> 6\u001b[0m \u001b[38;5;28mprint\u001b[39m(\u001b[43mname\u001b[49m\u001b[38;5;241;43m.\u001b[39;49m\u001b[43mpop\u001b[49m\u001b[43m(\u001b[49m\u001b[38;5;124;43m'\u001b[39;49m\u001b[38;5;124;43mlike\u001b[39;49m\u001b[38;5;124;43m'\u001b[39;49m\u001b[43m)\u001b[49m)\n",
      "\u001b[1;31mKeyError\u001b[0m: 'like'"
     ]
    }
   ],
   "source": [
    "name={\n",
    "    'aizaz':100,\n",
    "      'khan':120,\n",
    "      'shafiq':1300\n",
    "      }\n",
    "print(name.pop('like'))"
   ]
  },
  {
   "cell_type": "markdown",
   "id": "28489e96",
   "metadata": {},
   "source": [
    "The .popitem() delate the last item of the list."
   ]
  },
  {
   "cell_type": "code",
   "execution_count": 47,
   "id": "aa1788d7",
   "metadata": {},
   "outputs": [
    {
     "name": "stdout",
     "output_type": "stream",
     "text": [
      "('shanai', 4)\n",
      "{'aizaz': 500, 'palar': 2, 'jalozai': 3}\n"
     ]
    }
   ],
   "source": [
    "village={\n",
    "    'aizaz':500,\n",
    "    'palar':2,\n",
    "    'jalozai':3,\n",
    "    'shanai':4\n",
    "    }\n",
    "print(village.popitem())\n",
    "print(village)"
   ]
  },
  {
   "cell_type": "markdown",
   "id": "6416be6b",
   "metadata": {},
   "source": [
    "the .popitem delate the item in the list in the last. and then give the dictionaries."
   ]
  },
  {
   "cell_type": "code",
   "execution_count": 48,
   "id": "aa2c5845",
   "metadata": {},
   "outputs": [
    {
     "name": "stdout",
     "output_type": "stream",
     "text": [
      "{}\n"
     ]
    }
   ],
   "source": [
    "# clear the dicitonaries\n",
    "village={\n",
    "    'aizaz':500,\n",
    "    'palar':2,\n",
    "    'jalozai':3,\n",
    "    'shanai':4\n",
    "    }\n",
    "village.clear()\n",
    "print(village)"
   ]
  },
  {
   "cell_type": "code",
   "execution_count": 51,
   "id": "ee874b2a",
   "metadata": {},
   "outputs": [
    {
     "data": {
      "text/plain": [
       "True"
      ]
     },
     "execution_count": 51,
     "metadata": {},
     "output_type": "execute_result"
    }
   ],
   "source": [
    "#using operation in dictionaries\n",
    "village={\n",
    "    'aizaz':500,\n",
    "    'palar':2,\n",
    "    'jalozai':3,\n",
    "    'shanai':4\n",
    "    }\n",
    "'aizaz' in village.keys()# the in and notin operator tell us the item present in the libaries"
   ]
  },
  {
   "cell_type": "code",
   "execution_count": 52,
   "id": "807b14df",
   "metadata": {},
   "outputs": [
    {
     "data": {
      "text/plain": [
       "True"
      ]
     },
     "execution_count": 52,
     "metadata": {},
     "output_type": "execute_result"
    }
   ],
   "source": [
    "x={1:2,3:4,5:6}\n",
    "y={5:6,3:4,1:2}\n",
    "x==y"
   ]
  },
  {
   "cell_type": "markdown",
   "id": "eaca5631",
   "metadata": {},
   "source": [
    "#### Union operator\n",
    "unoin operator creater a new dicitonaries to mearge the two dictionaries the key and value."
   ]
  },
  {
   "cell_type": "code",
   "execution_count": 56,
   "id": "142e34b8",
   "metadata": {},
   "outputs": [
    {
     "ename": "TypeError",
     "evalue": "unsupported operand type(s) for |: 'dict' and 'dict'",
     "output_type": "error",
     "traceback": [
      "\u001b[1;31m---------------------------------------------------------------------------\u001b[0m",
      "\u001b[1;31mTypeError\u001b[0m                                 Traceback (most recent call last)",
      "Cell \u001b[1;32mIn[56], line 12\u001b[0m\n\u001b[0;32m      1\u001b[0m name\u001b[38;5;241m=\u001b[39m{\n\u001b[0;32m      2\u001b[0m     \u001b[38;5;124m'\u001b[39m\u001b[38;5;124maizaz\u001b[39m\u001b[38;5;124m'\u001b[39m:\u001b[38;5;241m100\u001b[39m,\n\u001b[0;32m      3\u001b[0m       \u001b[38;5;124m'\u001b[39m\u001b[38;5;124mkhan\u001b[39m\u001b[38;5;124m'\u001b[39m:\u001b[38;5;241m120\u001b[39m,\n\u001b[0;32m      4\u001b[0m       \u001b[38;5;124m'\u001b[39m\u001b[38;5;124mshafiq\u001b[39m\u001b[38;5;124m'\u001b[39m:\u001b[38;5;241m1300\u001b[39m\n\u001b[0;32m      5\u001b[0m       }\n\u001b[0;32m      6\u001b[0m village\u001b[38;5;241m=\u001b[39m{\n\u001b[0;32m      7\u001b[0m     \u001b[38;5;124m'\u001b[39m\u001b[38;5;124maizaz\u001b[39m\u001b[38;5;124m'\u001b[39m:\u001b[38;5;241m500\u001b[39m,\n\u001b[0;32m      8\u001b[0m     \u001b[38;5;124m'\u001b[39m\u001b[38;5;124mpalar\u001b[39m\u001b[38;5;124m'\u001b[39m:\u001b[38;5;241m2\u001b[39m,\n\u001b[0;32m      9\u001b[0m     \u001b[38;5;124m'\u001b[39m\u001b[38;5;124mjalozai\u001b[39m\u001b[38;5;124m'\u001b[39m:\u001b[38;5;241m3\u001b[39m,\n\u001b[0;32m     10\u001b[0m     \u001b[38;5;124m'\u001b[39m\u001b[38;5;124mshanai\u001b[39m\u001b[38;5;124m'\u001b[39m:\u001b[38;5;241m4\u001b[39m\n\u001b[0;32m     11\u001b[0m     }\n\u001b[1;32m---> 12\u001b[0m item \u001b[38;5;241m=\u001b[39m \u001b[43mvillage\u001b[49m\u001b[43m \u001b[49m\u001b[38;5;241;43m|\u001b[39;49m\u001b[43m \u001b[49m\u001b[43mname\u001b[49m\n\u001b[0;32m     13\u001b[0m \u001b[38;5;28mprint\u001b[39m(item)\n",
      "\u001b[1;31mTypeError\u001b[0m: unsupported operand type(s) for |: 'dict' and 'dict'"
     ]
    }
   ],
   "source": [
    "name={\n",
    "    'aizaz':100,\n",
    "      'khan':120,\n",
    "      'shafiq':1300\n",
    "      }\n",
    "village={\n",
    "    'aizaz':500,\n",
    "    'palar':2,\n",
    "    'jalozai':3,\n",
    "    'shanai':4\n",
    "    }\n",
    "item = village | name\n",
    "print(item)"
   ]
  },
  {
   "cell_type": "markdown",
   "id": "e4141831",
   "metadata": {},
   "source": [
    "This error occur because the version of python less 3.8 this operator not supported the the 3.9 version supportedd this."
   ]
  },
  {
   "cell_type": "markdown",
   "id": "70596aaf",
   "metadata": {},
   "source": [
    "The built in function"
   ]
  },
  {
   "cell_type": "code",
   "execution_count": 59,
   "id": "b46ca7bd",
   "metadata": {},
   "outputs": [
    {
     "data": {
      "text/plain": [
       "True"
      ]
     },
     "execution_count": 59,
     "metadata": {},
     "output_type": "execute_result"
    }
   ],
   "source": [
    "inventory = {\"apple\": 100, \"orange\": 80, \"banana\": 100, \"mango\": 200}\n",
    "\n",
    "all(inventory.values())\n",
    "\n",
    "\n"
   ]
  },
  {
   "cell_type": "code",
   "execution_count": 60,
   "id": "56dc933f",
   "metadata": {},
   "outputs": [
    {
     "data": {
      "text/plain": [
       "False"
      ]
     },
     "execution_count": 60,
     "metadata": {},
     "output_type": "execute_result"
    }
   ],
   "source": [
    "inventory = {\"apple\": 100, \"orange\": 80, \"banana\": 100, \"mango\": 200}\n",
    "inventory[\"mango\"] = 0\n",
    "all(inventory.values())"
   ]
  },
  {
   "cell_type": "markdown",
   "id": "43788a98",
   "metadata": {},
   "source": [
    "in the first example the output is true because all value is in the inventory.\n",
    "in the second example the output is false because the value of the mango is zero in you well out of the mango."
   ]
  },
  {
   "cell_type": "code",
   "execution_count": 63,
   "id": "88bff08b",
   "metadata": {},
   "outputs": [
    {
     "name": "stdout",
     "output_type": "stream",
     "text": [
      "4\n",
      "80\n",
      "200\n"
     ]
    }
   ],
   "source": [
    "inventory = {\"apple\": 100, \"orange\": 80, \"banana\": 100, \"mango\": 200}\n",
    "print(len(inventory))\n",
    "print(min(inventory.values()))\n",
    "print(max(inventory.values()))"
   ]
  },
  {
   "cell_type": "code",
   "execution_count": null,
   "id": "031b28cf",
   "metadata": {},
   "outputs": [
    {
     "data": {
      "text/plain": [
       "['Alice', 'Bob', 'Charlie', 'Diana', 'Ethan', 'Fiona', 'George', 'Hannah']"
      ]
     },
     "execution_count": 73,
     "metadata": {},
     "output_type": "execute_result"
    }
   ],
   "source": [
    "students=['Bob','Charlie' , 'Alice', 'Diana', 'Ethan', 'Fiona', 'George', 'Hannah']\n",
    "sorted(students)\n",
    "# the sorted function assinding the value or key"
   ]
  },
  {
   "cell_type": "markdown",
   "id": "2d4b12d6",
   "metadata": {},
   "source": [
    "#### summing the dictionary"
   ]
  },
  {
   "cell_type": "code",
   "execution_count": 75,
   "id": "a99ff9f0",
   "metadata": {},
   "outputs": [
    {
     "data": {
      "text/plain": [
       "1850.0"
      ]
     },
     "execution_count": 75,
     "metadata": {},
     "output_type": "execute_result"
    }
   ],
   "source": [
    "daily_sales = {\n",
    "    \"Monday\": 1500,\n",
    "    \"Tuesday\": 1750,\n",
    "    \"Wednesday\": 1600,\n",
    "    \"Thursday\": 1800,\n",
    "    \"Friday\": 2000,\n",
    "    \"Saturday\": 2200,\n",
    "    \"Sunday\": 2100,\n",
    "}\n",
    "\n",
    "sum(daily_sales.values()) / len(daily_sales)"
   ]
  },
  {
   "cell_type": "markdown",
   "id": "fb40a9c3",
   "metadata": {},
   "source": [
    "The sum function sum the the all the value and the len function give the average of all value."
   ]
  },
  {
   "cell_type": "markdown",
   "id": "02eb50cb",
   "metadata": {},
   "source": [
    "#### Traversing Dictionaries by Keys\n",
    "There are two method one is direct and the other is .value() or .key() as you wish."
   ]
  },
  {
   "cell_type": "code",
   "execution_count": 77,
   "id": "a33dfa1f",
   "metadata": {},
   "outputs": [
    {
     "name": "stdout",
     "output_type": "stream",
     "text": [
      "Aizaz\n",
      "Syed\n",
      "Abdur\n",
      "Rahman\n",
      "Fahad\n",
      "Umar\n",
      "Yaseen\n",
      "Khan\n"
     ]
    }
   ],
   "source": [
    "students = {\n",
    "    \"Aizaz\": 89.5,\n",
    "    \"Syed\": 76.0,\n",
    "    \"Abdur\": 92.3,\n",
    "    \"Rahman\": 84.7,\n",
    "    \"Fahad\": 88.9,\n",
    "    \"Umar\": 95.6,\n",
    "    \"Yaseen\": 73.4,\n",
    "    \"Khan\": 81.2,\n",
    " }\n",
    "for students in students:\n",
    " print(students)"
   ]
  },
  {
   "cell_type": "code",
   "execution_count": 79,
   "id": "34e24b36",
   "metadata": {},
   "outputs": [
    {
     "name": "stdout",
     "output_type": "stream",
     "text": [
      "89.5\n",
      "76.0\n",
      "92.3\n",
      "84.7\n",
      "88.9\n",
      "95.6\n",
      "73.4\n",
      "81.2\n"
     ]
    }
   ],
   "source": [
    "students = {\n",
    "    \"Aizaz\": 89.5,\n",
    "    \"Syed\": 76.0,\n",
    "    \"Abdur\": 92.3,\n",
    "    \"Rahman\": 84.7,\n",
    "    \"Fahad\": 88.9,\n",
    "    \"Umar\": 95.6,\n",
    "    \"Yaseen\": 73.4,\n",
    "    \"Khan\": 81.2,\n",
    " }\n",
    "for students in students.values():\n",
    " print(students)"
   ]
  },
  {
   "cell_type": "code",
   "execution_count": null,
   "id": "a2ce3fd3",
   "metadata": {},
   "outputs": [
    {
     "name": "stdout",
     "output_type": "stream",
     "text": [
      "Rockies ->> Mariners\n",
      "White Sox ->> Mariners\n",
      "Red Sox ->> Mariners\n",
      "Twins ->> Mariners\n",
      "Brewers ->> Mariners\n",
      "Mariners ->> Mariners\n"
     ]
    }
   ],
   "source": [
    "MLB_teams = {\n",
    "    \"Colorado\": \"Rockies\",\n",
    "    \"Chicago\": \"White Sox\",\n",
    "    \"Boston\": \"Red Sox\",\n",
    "    \"Minnesota\": \"Twins\",\n",
    "    \"Milwaukee\": \"Brewers\",\n",
    "    \"Seattle\": \"Mariners\",\n",
    "}\n",
    "\n",
    "for place in MLB_teams.values():\n",
    "    print(place,\"->>\",team)# looping in a dictionaries"
   ]
  },
  {
   "cell_type": "markdown",
   "id": "9829ac72",
   "metadata": {},
   "source": [
    "#### Exploring Existing Dictionary-Like Classes\n"
   ]
  },
  {
   "cell_type": "code",
   "execution_count": null,
   "id": "cf347428",
   "metadata": {},
   "outputs": [
    {
     "data": {
      "text/plain": [
       "Counter({'A': 2, 'i': 1, 'z': 2})"
      ]
     },
     "execution_count": 87,
     "metadata": {},
     "output_type": "execute_result"
    }
   ],
   "source": [
    "from collections import Counter# the counter operator count the item in the dictionaries\n",
    "Counter(\"AizAz\")"
   ]
  }
 ],
 "metadata": {
  "kernelspec": {
   "display_name": "sum25",
   "language": "python",
   "name": "python3"
  },
  "language_info": {
   "codemirror_mode": {
    "name": "ipython",
    "version": 3
   },
   "file_extension": ".py",
   "mimetype": "text/x-python",
   "name": "python",
   "nbconvert_exporter": "python",
   "pygments_lexer": "ipython3",
   "version": "3.8.20"
  }
 },
 "nbformat": 4,
 "nbformat_minor": 5
}
