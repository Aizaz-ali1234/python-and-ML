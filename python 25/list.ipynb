{
 "cells": [
  {
   "cell_type": "markdown",
   "id": "9298f82d",
   "metadata": {},
   "source": [
    "#### List In Python"
   ]
  },
  {
   "cell_type": "markdown",
   "id": "ffeb7c2b",
   "metadata": {},
   "source": [
    "List in Python\n",
    "A list is a collection of items that is:\n",
    "you can define a list of colors using string objects separated by commas and anclose them in square brackets.\n",
    "\n",
    "Ordered\n",
    "\n",
    "list are mutable mean that can be changed\n",
    "\n",
    "Allows duplicate values\n",
    "\n",
    "You can store different data types in a list like integers, strings, floats, etc."
   ]
  },
  {
   "cell_type": "code",
   "execution_count": 2,
   "id": "382cf669",
   "metadata": {},
   "outputs": [
    {
     "name": "stdout",
     "output_type": "stream",
     "text": [
      "[1, 2, 3, 4, 5]\n",
      "['apple', 'banana', 'cherry']\n"
     ]
    }
   ],
   "source": [
    "# creating list in python\n",
    "number=[1,2,3,4,5]\n",
    "print(number)\n",
    "fruits = [\"apple\", \"banana\", \"cherry\"]\n",
    "print(fruits)"
   ]
  },
  {
   "cell_type": "markdown",
   "id": "2c960b9b",
   "metadata": {},
   "source": [
    "you can crete new list using the list() constructor."
   ]
  },
  {
   "cell_type": "code",
   "execution_count": 4,
   "id": "6a7f0fca",
   "metadata": {},
   "outputs": [
    {
     "name": "stdout",
     "output_type": "stream",
     "text": [
      "[0, 1, 2, 3, 4, 5, 6, 7, 8, 9]\n"
     ]
    }
   ],
   "source": [
    "number = list(range (10))\n",
    "print(number)"
   ]
  },
  {
   "cell_type": "markdown",
   "id": "8e68ced7",
   "metadata": {},
   "source": [
    "you can also create new list objects using list coprehensions."
   ]
  },
  {
   "cell_type": "code",
   "execution_count": 6,
   "id": "6818be44",
   "metadata": {},
   "outputs": [
    {
     "name": "stdout",
     "output_type": "stream",
     "text": [
      "[0, 2, 4, 6, 8]\n"
     ]
    }
   ],
   "source": [
    "even_number=[number for number in range(10) if number%2==0]\n",
    "print(even_number)"
   ]
  },
  {
   "cell_type": "markdown",
   "id": "5bd199f5",
   "metadata": {},
   "source": [
    "##### Accessing element in list\n"
   ]
  },
  {
   "cell_type": "code",
   "execution_count": 7,
   "id": "97904f83",
   "metadata": {},
   "outputs": [
    {
     "name": "stdout",
     "output_type": "stream",
     "text": [
      "1\n"
     ]
    }
   ],
   "source": [
    "number=[1,2,3,4,5]\n",
    "print(number[0])"
   ]
  },
  {
   "cell_type": "markdown",
   "id": "d879bd57",
   "metadata": {},
   "source": [
    "####  Modifying a List:\n",
    "\n"
   ]
  },
  {
   "cell_type": "code",
   "execution_count": 8,
   "id": "04f529e4",
   "metadata": {},
   "outputs": [
    {
     "name": "stdout",
     "output_type": "stream",
     "text": [
      "['mangeo', 'orange', 'banan']\n"
     ]
    }
   ],
   "source": [
    "fruits=[\"apple\",\"orange\",\"banan\"]\n",
    "fruits[0]='mangeo'\n",
    "print(fruits)"
   ]
  },
  {
   "cell_type": "markdown",
   "id": "6483f0c6",
   "metadata": {},
   "source": [
    "##### Common List Functions:\n",
    "\n"
   ]
  },
  {
   "cell_type": "markdown",
   "id": "66b9985b",
   "metadata": {},
   "source": [
    "the .append()function append item it the end of the list\n",
    "the .remove()function remove the item in the list\n",
    "len() get the number of item"
   ]
  },
  {
   "cell_type": "code",
   "execution_count": 13,
   "id": "e16d6888",
   "metadata": {},
   "outputs": [
    {
     "name": "stdout",
     "output_type": "stream",
     "text": [
      "['apple', 'orange', 'banan', 'grape']\n",
      "['orange', 'banan', 'grape']\n",
      "3\n"
     ]
    }
   ],
   "source": [
    "fruits=[\"apple\",\"orange\",\"banan\"]\n",
    "fruits.append('grape')\n",
    "print(fruits)\n",
    "fruits.remove('apple')\n",
    "print(fruits)\n",
    "print(len(fruits))"
   ]
  },
  {
   "cell_type": "code",
   "execution_count": 14,
   "id": "b27ade60",
   "metadata": {},
   "outputs": [
    {
     "name": "stdout",
     "output_type": "stream",
     "text": [
      "5\n"
     ]
    }
   ],
   "source": [
    "# negative indexing of list\n",
    "number=[1,2,3,4,5]\n",
    "print(number[-1])"
   ]
  },
  {
   "cell_type": "markdown",
   "id": "2acc4164",
   "metadata": {},
   "source": [
    "when you use the negative indexing.then the -1 give a value at the end of the list"
   ]
  }
 ],
 "metadata": {
  "kernelspec": {
   "display_name": "sum25",
   "language": "python",
   "name": "python3"
  },
  "language_info": {
   "codemirror_mode": {
    "name": "ipython",
    "version": 3
   },
   "file_extension": ".py",
   "mimetype": "text/x-python",
   "name": "python",
   "nbconvert_exporter": "python",
   "pygments_lexer": "ipython3",
   "version": "3.8.20"
  }
 },
 "nbformat": 4,
 "nbformat_minor": 5
}
