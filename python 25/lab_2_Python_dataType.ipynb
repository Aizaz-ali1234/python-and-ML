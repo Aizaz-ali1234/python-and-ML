{
 "cells": [
  {
   "cell_type": "markdown",
   "id": "e80909d4",
   "metadata": {},
   "source": [
    "<div class=\"uni-box\">\n",
    "  <div class=\"rainbow\"></div>\n",
    "  <div class=\"content\">\n",
    "    <h1>University of Engineering and Technology</h1>\n",
    "    <h2>Jalozai Campus</h2>\n",
    "  </div>\n",
    "</div>\n",
    "\n",
    "<style>\n",
    ".uni-box {\n",
    "  margin:50px auto; padding:40px 25px; border:2px solid rgba(255,255,255,0.2);\n",
    "  border-radius:25px; background:#080808; max-width:750px; text-align:center;\n",
    "  position:relative; overflow:hidden; cursor:pointer; transition:all 0.5s ease;\n",
    "  box-shadow:0 0 30px rgba(255,255,255,0.05), inset 0 0 25px rgba(255,255,255,0.05);\n",
    "}\n",
    "\n",
    "/* Rainbow Glow Background */\n",
    ".rainbow {\n",
    "  position:absolute; inset:-0%;\n",
    "  background:conic-gradient(\n",
    "    red, orange, yellow, lime, cyan, blue, magenta, red\n",
    "  );\n",
    "  animation:spinRainbow 12s linear infinite;\n",
    "  filter:blur(100px); opacity:0.55; z-index:0;\n",
    "  border-radius:50%;\n",
    "}\n",
    "\n",
    "/* Content */\n",
    ".content { position:relative; z-index:1; }\n",
    ".content h1, .content h2 {\n",
    "  font-family:'Times New Roman',serif; margin:0; text-transform:uppercase;\n",
    "  letter-spacing:2px; transition:all 0.5s ease;\n",
    "}\n",
    "\n",
    "/* Glowing Text */\n",
    ".content h1 {\n",
    "  font-size:32px; font-weight:bold; color:#fff;\n",
    "  text-shadow:0 0 10px #fff,0 0 20px #0ff,0 0 40px #0ff;\n",
    "  animation:glow1 4s ease-in-out infinite alternate;\n",
    "}\n",
    ".content h2 {\n",
    "  font-size:24px; margin-top:15px; color:#fff;\n",
    "  text-shadow:0 0 8px #fff,0 0 16px #ff0080,0 0 32px #ff0080;\n",
    "  animation:glow2 4s ease-in-out infinite alternate;\n",
    "}\n",
    "\n",
    "/* Animations */\n",
    "@keyframes spinRainbow { \n",
    "  0%{transform:rotate(0deg);} \n",
    "  100%{transform:rotate(360deg);} \n",
    "}\n",
    "@keyframes glow1 {\n",
    "  0%{text-shadow:0 0 10px #0ff,0 0 20px #0ff,0 0 40px #0ff;}\n",
    "  100%{text-shadow:0 0 20px #00ffff,0 0 40px #00ffff,0 0 80px #00ffff;}\n",
    "}\n",
    "@keyframes glow2 {\n",
    "  0%{text-shadow:0 0 10px #ffffffff,0 0 20px #ff0080,0 0 40px #ff0080;}\n",
    "  100%{text-shadow:0 0 20px #ff66cc,0 0 40px #ff66cc,0 0 80px #ff66cc;}\n",
    "}\n",
    "\n",
    "/* Hover Boost */\n",
    ".uni-box:hover {\n",
    "  transform:scale(1);\n",
    "  box-shadow:0 0 50px rgba(255,255,255,0.4), inset 0 0 40px rgba(255,255,255,0.1);\n",
    "}\n",
    ".uni-box:hover h1 { letter-spacing:3px; color:#0ff; }\n",
    ".uni-box:hover h2 { letter-spacing:2.5px; color:#ff3399; }\n",
    "</style>"
   ]
  },
  {
   "cell_type": "markdown",
   "id": "fcf09edf",
   "metadata": {},
   "source": [
    "<div class=\"uni-box\">\n",
    "  <div class=\"rainbow\"></div>\n",
    "  <div class=\"content\">\n",
    "    <h1>Course Title: Introduction To AI Programming</h1>\n",
    "    <h2></h2>\n",
    "  </div>\n",
    "</div>\n",
    "\n",
    "<style>\n",
    ".uni-box {\n",
    "  margin:50px auto; padding:40px 25px; border:2px solid rgba(255,255,255,0.2);\n",
    "  border-radius:25px; background:#080808; max-width:750px; text-align:center;\n",
    "  position:relative; overflow:hidden; cursor:pointer; transition:all 0.5s ease;\n",
    "  box-shadow:0 0 30px rgba(255,255,255,0.05), inset 0 0 25px rgba(255,255,255,0.05);\n",
    "}\n",
    "\n",
    "/* Rainbow Glow Background */\n",
    ".rainbow {\n",
    "  position:absolute; inset:-0%;\n",
    "  background:conic-gradient(\n",
    "    red, orange, yellow, lime, cyan, blue, magenta, red\n",
    "  );\n",
    "  animation:spinRainbow 12s linear infinite;\n",
    "  filter:blur(100px); opacity:0.55; z-index:0;\n",
    "  border-radius:50%;\n",
    "}\n",
    "\n",
    "/* Content */\n",
    ".content { position:relative; z-index:1; }\n",
    ".content h1, .content h2 {\n",
    "  font-family:'Times New Roman',serif; margin:0; text-transform:uppercase;\n",
    "  letter-spacing:2px; transition:all 0.5s ease;\n",
    "}\n",
    "\n",
    "/* Glowing Text */\n",
    ".content h1 {\n",
    "  font-size:32px; font-weight:bold; color:#fff;\n",
    "  text-shadow:0 0 10px #fff,0 0 20px #0ff,0 0 40px #0ff;\n",
    "  animation:glow1 4s ease-in-out infinite alternate;\n",
    "}\n",
    ".content h2 {\n",
    "  font-size:24px; margin-top:15px; color:#fff;\n",
    "  text-shadow:0 0 8px #fff,0 0 16px #ff0080,0 0 32px #ff0080;\n",
    "  animation:glow2 4s ease-in-out infinite alternate;\n",
    "}\n",
    "\n",
    "/* Animations */\n",
    "@keyframes spinRainbow { \n",
    "  0%{transform:rotate(0deg);} \n",
    "  100%{transform:rotate(360deg);} \n",
    "}\n",
    "@keyframes glow1 {\n",
    "  0%{text-shadow:0 0 10px #0ff,0 0 20px #0ff,0 0 40px #0ff;}\n",
    "  100%{text-shadow:0 0 20px #00ffff,0 0 40px #00ffff,0 0 80px #00ffff;}\n",
    "}\n",
    "@keyframes glow2 {\n",
    "  0%{text-shadow:0 0 10px #ffffffff,0 0 20px #ff0080,0 0 40px #ff0080;}\n",
    "  100%{text-shadow:0 0 20px #ff66cc,0 0 40px #ff66cc,0 0 80px #ff66cc;}\n",
    "}\n",
    "\n",
    "/* Hover Boost */\n",
    ".uni-box:hover {\n",
    "  transform:scale(1);\n",
    "  box-shadow:0 0 50px rgba(255,255,255,0.4), inset 0 0 40px rgba(255,255,255,0.1);\n",
    "}\n",
    ".uni-box:hover h1 { letter-spacing:3px; color:#0ff; }\n",
    ".uni-box:hover h2 { letter-spacing:2.5px; color:#ff3399; }\n",
    "</style>"
   ]
  },
  {
   "cell_type": "markdown",
   "id": "55a60b7b",
   "metadata": {},
   "source": [
    "<div class=\"uni-box\">\n",
    "  <div class=\"rainbow\"></div>\n",
    "  <div class=\"content\">\n",
    "    <h1>Lab No 02</h1>\n",
    "    <h2>Python Basic DataType</h2>\n",
    "  </div>\n",
    "</div>\n",
    "\n",
    "<style>\n",
    ".uni-box {\n",
    "  margin:50px auto; padding:40px 25px; border:2px solid rgba(255,255,255,0.2);\n",
    "  border-radius:25px; background:#080808; max-width:750px; text-align:center;\n",
    "  position:relative; overflow:hidden; cursor:pointer; transition:all 0.5s ease;\n",
    "  box-shadow:0 0 30px rgba(255,255,255,0.05), inset 0 0 25px rgba(255,255,255,0.05);\n",
    "}\n",
    "\n",
    "/* Rainbow Glow Background */\n",
    ".rainbow {\n",
    "  position:absolute; inset:-0%;\n",
    "  background:conic-gradient(\n",
    "    red, orange, yellow, lime, cyan, blue, magenta, red\n",
    "  );\n",
    "  animation:spinRainbow 12s linear infinite;\n",
    "  filter:blur(100px); opacity:0.55; z-index:0;\n",
    "  border-radius:50%;\n",
    "}\n",
    "\n",
    "/* Content */\n",
    ".content { position:relative; z-index:1; }\n",
    ".content h1, .content h2 {\n",
    "  font-family:'Times New Roman',serif; margin:0; text-transform:uppercase;\n",
    "  letter-spacing:2px; transition:all 0.5s ease;\n",
    "}\n",
    "\n",
    "/* Glowing Text */\n",
    ".content h1 {\n",
    "  font-size:32px; font-weight:bold; color:#fff;\n",
    "  text-shadow:0 0 10px #fff,0 0 20px #0ff,0 0 40px #0ff;\n",
    "  animation:glow1 4s ease-in-out infinite alternate;\n",
    "}\n",
    ".content h2 {\n",
    "  font-size:24px; margin-top:15px; color:#fff;\n",
    "  text-shadow:0 0 8px #fff,0 0 16px #ff0080,0 0 32px #ff0080;\n",
    "  animation:glow2 4s ease-in-out infinite alternate;\n",
    "}\n",
    "\n",
    "/* Animations */\n",
    "@keyframes spinRainbow { \n",
    "  0%{transform:rotate(0deg);} \n",
    "  100%{transform:rotate(360deg);} \n",
    "}\n",
    "@keyframes glow1 {\n",
    "  0%{text-shadow:0 0 10px #0ff,0 0 20px #0ff,0 0 40px #0ff;}\n",
    "  100%{text-shadow:0 0 20px #00ffff,0 0 40px #00ffff,0 0 80px #00ffff;}\n",
    "}\n",
    "@keyframes glow2 {\n",
    "  0%{text-shadow:0 0 10px #ffffffff,0 0 20px #ff0080,0 0 40px #ff0080;}\n",
    "  100%{text-shadow:0 0 20px #ff66cc,0 0 40px #ff66cc,0 0 80px #ff66cc;}\n",
    "}\n",
    "\n",
    "/* Hover Boost */\n",
    ".uni-box:hover {\n",
    "  transform:scale(1);\n",
    "  box-shadow:0 0 50px rgba(255,255,255,0.4), inset 0 0 40px rgba(255,255,255,0.1);\n",
    "}\n",
    ".uni-box:hover h1 { letter-spacing:3px; color:#0ff; }\n",
    ".uni-box:hover h2 { letter-spacing:2.5px; color:#ff3399; }\n",
    "</style>"
   ]
  },
  {
   "cell_type": "markdown",
   "id": "94f6fe57",
   "metadata": {},
   "source": [
    "____"
   ]
  },
  {
   "cell_type": "markdown",
   "id": "185d7eed",
   "metadata": {},
   "source": [
    "# Lab work tasks:"
   ]
  },
  {
   "cell_type": "markdown",
   "id": "c99f168f",
   "metadata": {},
   "source": [
    "## 1. String formatting:"
   ]
  },
  {
   "cell_type": "markdown",
   "id": "7921ecd5",
   "metadata": {},
   "source": [
    "### Task 1: (Set up Variables)"
   ]
  },
  {
   "cell_type": "code",
   "execution_count": 5,
   "id": "80a65fb6",
   "metadata": {},
   "outputs": [
    {
     "name": "stdout",
     "output_type": "stream",
     "text": [
      "25.323999999999998\n"
     ]
    }
   ],
   "source": [
    "resistance = 10\n",
    "current = 2.5324\n",
    "voltage = resistance * current\n",
    "print(voltage)"
   ]
  },
  {
   "cell_type": "markdown",
   "id": "eaeb57de",
   "metadata": {},
   "source": [
    "### Task 2: Old-Style Formatting (%)"
   ]
  },
  {
   "cell_type": "code",
   "execution_count": 6,
   "id": "f2f394a1",
   "metadata": {},
   "outputs": [
    {
     "name": "stdout",
     "output_type": "stream",
     "text": [
      "The resistor value is 10 Ω\n",
      "The current is 2.53 A\n",
      "The voltage across the resistor is 25.32 V\n"
     ]
    }
   ],
   "source": [
    "print(\"The resistor value is %d Ω\" % resistance)\n",
    "print(\"The current is %.2f A\" % current)\n",
    "print(\"The voltage across the resistor is %.2f V\" % voltage)"
   ]
  },
  {
   "cell_type": "markdown",
   "id": "52f2a35d",
   "metadata": {},
   "source": [
    "### Task 3: .format() Method"
   ]
  },
  {
   "cell_type": "code",
   "execution_count": 9,
   "id": "39b53c3a",
   "metadata": {},
   "outputs": [
    {
     "name": "stdout",
     "output_type": "stream",
     "text": [
      "Resistor: 10 Ω, Current: 2.5324 A, Voltage: 25.323999999999998V\n",
      "Voltage across 10 Ω resistor with 2.5324 A currentis 25.323999999999998 V\n"
     ]
    }
   ],
   "source": [
    "print(\"Resistor: {} Ω, Current: {} A, Voltage: {}V\".format(resistance, current, voltage))\n",
    "print(\"Voltage across {0} Ω resistor with {1} A currentis {2} V\".format(resistance, current, voltage))"
   ]
  },
  {
   "cell_type": "markdown",
   "id": "835bf196",
   "metadata": {},
   "source": [
    "### Task 4: f-Strings"
   ]
  },
  {
   "cell_type": "code",
   "execution_count": 10,
   "id": "2fb46a9b",
   "metadata": {},
   "outputs": [
    {
     "name": "stdout",
     "output_type": "stream",
     "text": [
      "Resistor: 10 Ω, Current: 2.53 A,Voltage: 25.32 V\n"
     ]
    }
   ],
   "source": [
    "print(f\"Resistor: {resistance} Ω, Current: {current:.2f} A,Voltage: {voltage:.2f} V\")"
   ]
  },
  {
   "cell_type": "markdown",
   "id": "6cfcebc4",
   "metadata": {},
   "source": [
    "___"
   ]
  },
  {
   "cell_type": "markdown",
   "id": "5a17b744",
   "metadata": {},
   "source": [
    "## File Handling:\n",
    "Please read the attached CSV file (you can easily create it using the CSV module). Once you have\n",
    "read the rows, add 2 to each row and print the result.\n",
    "File name: numbers.csv\n",
    "In addition, use the code in multiple scenarios and play with different data types."
   ]
  },
  {
   "cell_type": "code",
   "execution_count": 17,
   "id": "cc1c9e49",
   "metadata": {},
   "outputs": [],
   "source": [
    "import csv"
   ]
  },
  {
   "cell_type": "code",
   "execution_count": 18,
   "id": "72fc568b",
   "metadata": {},
   "outputs": [],
   "source": [
    "with open(\"numbers.csv\",\"r\") as f:\n",
    "    reader = csv.reader(f)"
   ]
  },
  {
   "cell_type": "code",
   "execution_count": 19,
   "id": "84c129c7",
   "metadata": {},
   "outputs": [
    {
     "name": "stdout",
     "output_type": "stream",
     "text": [
      "12\n",
      "22\n",
      "32\n",
      "42\n"
     ]
    }
   ],
   "source": [
    "import csv\n",
    "\n",
    "with open(\"numbers.csv\", \"r\") as f:\n",
    "    reader = csv.reader(f)\n",
    "    for row in reader:\n",
    "        number = int(row[0])  # convert from string to int\n",
    "        print(number + 2)\n"
   ]
  },
  {
   "cell_type": "markdown",
   "id": "1fbc4790",
   "metadata": {},
   "source": [
    "___"
   ]
  },
  {
   "cell_type": "markdown",
   "id": "8fe5493c",
   "metadata": {},
   "source": [
    "## 3. Task:\n",
    "You are given a CSV file named integers.csv that contains one number per row (some\n",
    "are integers, and some are decimal numbers).\n",
    "Write a Python program that:\n",
    "1. Reads all numbers from the CSV file.\n",
    "2. Converts them into floating-point numbers.\n",
    "3. Counts how many of them are whole numbers (integers).\n",
    "4. Prints the total count of integers."
   ]
  },
  {
   "cell_type": "code",
   "execution_count": 21,
   "id": "afdf1f08",
   "metadata": {},
   "outputs": [],
   "source": [
    "import csv\n",
    "\n",
    "# Step i & ii: Read all numbers and convert to float\n",
    "with open(\"integers.csv\", \"r\") as f:\n",
    "    reader = csv.reader(f)\n",
    "    numbers = [float(row[0]) for row in reader]"
   ]
  },
  {
   "cell_type": "code",
   "execution_count": 22,
   "id": "48a34c74",
   "metadata": {},
   "outputs": [
    {
     "name": "stdout",
     "output_type": "stream",
     "text": [
      "Numbers: [10.0, 20.3, 30.0, 40.67, 50.0, 60.1, 70.0, 80.9, 90.0, 100.5]\n",
      "Total integers: 5\n"
     ]
    }
   ],
   "source": [
    "# Step iii & iv: Count how many are whole numbers\n",
    "count_integers = sum(n.is_integer() for n in numbers)\n",
    "\n",
    "print(\"Numbers:\", numbers)\n",
    "print(\"Total integers:\", count_integers)\n"
   ]
  },
  {
   "cell_type": "markdown",
   "id": "4afd0b3d",
   "metadata": {},
   "source": [
    "___"
   ]
  },
  {
   "cell_type": "markdown",
   "id": "570ed97b",
   "metadata": {},
   "source": [
    "## 4.Task: Bit Parity Checker:\n",
    "Digital systems often use parity bits to detect errors in data transmission.\n",
    "1. Even Parity → If the number of 1s in a binary signal is even.\n",
    "2. Odd Parity → If the number of 1s in a binary signal is odd."
   ]
  },
  {
   "cell_type": "markdown",
   "id": "9fe3eb60",
   "metadata": {},
   "source": [
    "Write a Python program that:\n",
    "1. Takes a binary signal stored as an integer (e.g., 0b11010110).\n",
    "2. Counts the number of 1s in the signal using the .bit_count() method.\n",
    "3. Determines whether the signal has even parity or odd parity.\n",
    "4. Prints the result clearly."
   ]
  },
  {
   "cell_type": "code",
   "execution_count": 2,
   "id": "bf07094e",
   "metadata": {},
   "outputs": [],
   "source": [
    "# Example binary signal\n",
    "signal = 0b11010110   # Binary"
   ]
  },
  {
   "cell_type": "code",
   "execution_count": 3,
   "id": "2366cc17",
   "metadata": {},
   "outputs": [],
   "source": [
    "# Step i & ii: Count number of 1s\n",
    "ones_count = signal.bit_count()"
   ]
  },
  {
   "cell_type": "code",
   "execution_count": 7,
   "id": "2247942d",
   "metadata": {},
   "outputs": [
    {
     "name": "stdout",
     "output_type": "stream",
     "text": [
      "Odd Parity\n",
      "Binary Signal: 0b11010110\n",
      "Number of 1s: 5\n"
     ]
    }
   ],
   "source": [
    "# Step iii: Check parity\n",
    "\n",
    "if ones_count % 2 == 0:\n",
    "    print(\"Even Parity\")\n",
    "else:\n",
    "    print(\"Odd Parity\")\n",
    " \n",
    "\n",
    "print(f\"Binary Signal: {bin(signal)}\")\n",
    "print(f\"Number of 1s: {ones_count}\")\n",
    "\n"
   ]
  },
  {
   "cell_type": "markdown",
   "id": "acf30e32",
   "metadata": {},
   "source": [
    "___"
   ]
  },
  {
   "cell_type": "markdown",
   "id": "0fe7ebea",
   "metadata": {},
   "source": [
    "## 5. Task\n",
    "Represent Impedance Using Complex Numbers\n",
    "1. Define R, L, C, and f.\n",
    "2. Compute ω=2πf\n",
    "3. Represent 𝑍𝑅, 𝑍𝐿, 𝑎𝑛𝑑 𝑍𝑐 using Python’s complex type.\n",
    "4. Print them."
   ]
  },
  {
   "cell_type": "code",
   "execution_count": 26,
   "id": "54f111ce",
   "metadata": {},
   "outputs": [],
   "source": [
    "import cmath\n",
    "import math"
   ]
  },
  {
   "cell_type": "code",
   "execution_count": 27,
   "id": "6556fb63",
   "metadata": {},
   "outputs": [],
   "source": [
    "# Circuit parameters\n",
    "R = 50 # ohms\n",
    "L = 0.1 # H\n",
    "C = 100e-6 # F\n",
    "f = 60 # Hz"
   ]
  },
  {
   "cell_type": "code",
   "execution_count": 28,
   "id": "263a5702",
   "metadata": {},
   "outputs": [],
   "source": [
    "w = 2 * math.pi * f"
   ]
  },
  {
   "cell_type": "code",
   "execution_count": 29,
   "id": "b0820319",
   "metadata": {},
   "outputs": [],
   "source": [
    "# Impedances\n",
    "Z_R = complex(R, 0)\n",
    "Z_L = complex(0, w * L)\n",
    "Z_C = complex(0, -1 / (w * C))"
   ]
  },
  {
   "cell_type": "code",
   "execution_count": 30,
   "id": "89da82f7",
   "metadata": {},
   "outputs": [
    {
     "name": "stdout",
     "output_type": "stream",
     "text": [
      "Resistor Impedance: (50+0j)\n",
      "Inductor Impedance: 37.69911184307752j\n",
      "Capacitor Impedance: -26.525823848649225j\n"
     ]
    }
   ],
   "source": [
    "print(\"Resistor Impedance:\", Z_R)\n",
    "print(\"Inductor Impedance:\", Z_L)\n",
    "print(\"Capacitor Impedance:\", Z_C)"
   ]
  },
  {
   "cell_type": "markdown",
   "id": "6792607f",
   "metadata": {},
   "source": [
    "___"
   ]
  },
  {
   "cell_type": "markdown",
   "id": "14d69639",
   "metadata": {},
   "source": [
    "## Task 6 (Find Total Impedance)\n",
    "1. Add the three impedances.\n",
    "2. Print real part (resistive) and imaginary part (reactive).\n",
    "3. Print magnitude and phase angle (use abs() and cmath.phase())."
   ]
  },
  {
   "cell_type": "code",
   "execution_count": 35,
   "id": "b82ec89b",
   "metadata": {},
   "outputs": [
    {
     "name": "stdout",
     "output_type": "stream",
     "text": [
      "Total Impedance: (50+11.173287994428293j)\n"
     ]
    }
   ],
   "source": [
    "# Circuit parameters\n",
    "R = 50        # ohms\n",
    "L = 0.1       # H\n",
    "C = 100e-6    # F\n",
    "f = 60        # Hz\n",
    "\n",
    "# Angular frequency\n",
    "w = 2 * math.pi * f\n",
    "\n",
    "# Impedances\n",
    "Z_R = complex(R, 0)             # Resistor\n",
    "Z_L = complex(0, w * L)         # Inductor\n",
    "Z_C = complex(0, -1 / (w * C))  # Capacitor\n",
    "\n",
    "# iv. Add the three impedances\n",
    "Z_total = Z_R + Z_L + Z_C\n",
    "print(\"Total Impedance:\", Z_total)"
   ]
  },
  {
   "cell_type": "code",
   "execution_count": 36,
   "id": "02afef99",
   "metadata": {},
   "outputs": [
    {
     "name": "stdout",
     "output_type": "stream",
     "text": [
      "Resistive Part (Real): 50.0\n",
      "Reactive Part (Imag): 11.173287994428293\n"
     ]
    }
   ],
   "source": [
    "# v. Real and Imag parts\n",
    "R_total = Z_total.real   # Resistive\n",
    "X_total = Z_total.imag   # Reactive\n",
    "print(\"Resistive Part (Real):\", R_total)\n",
    "print(\"Reactive Part (Imag):\", X_total)"
   ]
  },
  {
   "cell_type": "code",
   "execution_count": 37,
   "id": "c3ef4d8e",
   "metadata": {},
   "outputs": [
    {
     "name": "stdout",
     "output_type": "stream",
     "text": [
      "Magnitude |Z|: 51.23321544278121\n",
      "Phase Angle (degrees): 12.596686346588346\n"
     ]
    }
   ],
   "source": [
    "# vi. Magnitude and Phase\n",
    "magnitude = abs(Z_total)\n",
    "phase_angle_rad = cmath.phase(Z_total)            # radians\n",
    "phase_angle_deg = phase_angle_rad * 180 / math.pi # degrees\n",
    "print(\"Magnitude |Z|:\", magnitude)\n",
    "print(\"Phase Angle (degrees):\", phase_angle_deg)"
   ]
  },
  {
   "cell_type": "markdown",
   "id": "9f6fcba9",
   "metadata": {},
   "source": [
    "___"
   ]
  },
  {
   "cell_type": "markdown",
   "id": "7e24e380",
   "metadata": {},
   "source": [
    "## 7. Task (Compute Circuit Current)\n",
    "1. Assume AC voltage source V=120∠0°V = 120∠0°V=120∠0° V (so in Python V= complex(120, 0)).\n",
    "2. Compute current:\n",
    "3. Print current magnitude and phase."
   ]
  },
  {
   "cell_type": "code",
   "execution_count": 38,
   "id": "883324af",
   "metadata": {},
   "outputs": [],
   "source": [
    "V = complex(120, 0)   # 120∠0°\n"
   ]
  },
  {
   "cell_type": "code",
   "execution_count": 39,
   "id": "3868fe0b",
   "metadata": {},
   "outputs": [],
   "source": [
    "I = V / Z_total\n"
   ]
  },
  {
   "cell_type": "code",
   "execution_count": 40,
   "id": "534802e2",
   "metadata": {},
   "outputs": [],
   "source": [
    "I_magnitude = abs(I)\n",
    "I_phase_rad = cmath.phase(I)\n",
    "I_phase_deg = I_phase_rad * 180 / math.pi"
   ]
  },
  {
   "cell_type": "code",
   "execution_count": null,
   "id": "90054488",
   "metadata": {},
   "outputs": [
    {
     "name": "stdout",
     "output_type": "stream",
     "text": [
      "Current (complex): (2.2858515547083647-0.5108095546653644j)\n",
      "Current Magnitude: 2.3422305034518005 A\n",
      "Current Phase (degrees): -12.596686346588346\n"
     ]
    }
   ],
   "source": [
    "print(\"Current (complex):\", I)\n",
    "print(\"Current Magnitude:\", I_magnitude, \"A\")\n",
    "print(\"Current Phase (degrees):\", I_phase_deg)\n"
   ]
  },
  {
   "cell_type": "markdown",
   "id": "8bb07bf0",
   "metadata": {},
   "source": [
    "---"
   ]
  },
  {
   "cell_type": "markdown",
   "id": "c633e3ee",
   "metadata": {},
   "source": [
    "## 8. Task: Run and understand"
   ]
  },
  {
   "cell_type": "markdown",
   "id": "21a795b5",
   "metadata": {},
   "source": [
    "### a. Ohm’s Law"
   ]
  },
  {
   "cell_type": "code",
   "execution_count": 42,
   "id": "1f23a002",
   "metadata": {},
   "outputs": [
    {
     "name": "stdout",
     "output_type": "stream",
     "text": [
      "The voltage is 230 V, the current is 5 A, so the resistanceis 46.00 Ω.\n",
      "The voltage is 230 V, the current is 5 A, so the resistance is46.00 Ω.\n"
     ]
    }
   ],
   "source": [
    "V = 230 # volts\n",
    "I = 5 # amps\n",
    "R = V / I # ohms\n",
    "# Using f-string\n",
    "print(f\"The voltage is {V} V, the current is {I} A, so the resistanceis {R:.2f} Ω.\")\n",
    "# Using .format()\n",
    "print(\"The voltage is {} V, the current is {} A, so the resistance is{:.2f} Ω.\".format(V, I, R))"
   ]
  },
  {
   "cell_type": "markdown",
   "id": "9e294e32",
   "metadata": {},
   "source": [
    "### b. AC Power"
   ]
  },
  {
   "cell_type": "code",
   "execution_count": 43,
   "id": "d171be84",
   "metadata": {},
   "outputs": [
    {
     "name": "stdout",
     "output_type": "stream",
     "text": [
      "The real power is 2000 W at 220 V supply, drawing 9.09 Acurrent.\n",
      "The real power is 2000 W at 220 V supply, drawing 9.09 Acurrent.\n"
     ]
    }
   ],
   "source": [
    "P = 2000 # watts\n",
    "V = 220 # volts\n",
    "I = P / V # amps\n",
    "print(f\"The real power is {P} W at {V} V supply, drawing {I:.2f} Acurrent.\")\n",
    "print(\"The real power is {0} W at {1} V supply, drawing {2:.2f} Acurrent.\".format(P, V, I))"
   ]
  },
  {
   "cell_type": "markdown",
   "id": "a5e05608",
   "metadata": {},
   "source": [
    "### c. RLC Circuit Impedance"
   ]
  },
  {
   "cell_type": "code",
   "execution_count": 44,
   "id": "989243b7",
   "metadata": {},
   "outputs": [
    {
     "name": "stdout",
     "output_type": "stream",
     "text": [
      "Impedance of the circuit is 50.0 + j10.0 Ω.\n",
      "Impedance of the circuit is 50.0 + j10.0 Ω.\n"
     ]
    }
   ],
   "source": [
    "R = 50\n",
    "X_L = 30\n",
    "X_C = 20\n",
    "Z = complex(R, X_L - X_C)\n",
    "print(f\"Impedance of the circuit is {Z.real} + j{Z.imag} Ω.\")\n",
    "print(\"Impedance of the circuit is {0} + j{1} Ω.\".format(Z.real,\n",
    "Z.imag))"
   ]
  },
  {
   "cell_type": "markdown",
   "id": "b9a2f20d",
   "metadata": {},
   "source": [
    "### d. Efficiency Calculation"
   ]
  },
  {
   "cell_type": "code",
   "execution_count": 46,
   "id": "fa54a3c5",
   "metadata": {},
   "outputs": [
    {
     "name": "stdout",
     "output_type": "stream",
     "text": [
      "The machine efficiency is 95.0% when output is 950 Wand input is 1000 W.\n",
      "The machine efficiency is 95.0% when output is 950 W and input is 1000 W.\n"
     ]
    }
   ],
   "source": [
    "P_out = 950 # watts\n",
    "P_in = 1000 # watts\n",
    "eff = (P_out / P_in) * 100\n",
    "print(f\"The machine efficiency is {eff:.1f}% when output is {P_out} Wand input is {P_in} W.\")\n",
    "print(\"The machine efficiency is {:.1f}% when output is {} W and input is {} W.\".format(eff, P_out, P_in))"
   ]
  },
  {
   "cell_type": "markdown",
   "id": "5473bf22",
   "metadata": {},
   "source": [
    "___"
   ]
  },
  {
   "cell_type": "markdown",
   "id": "f514fb85",
   "metadata": {},
   "source": [
    "## 9. Task (Write a Python Program That):\n",
    "1. Reads a given directory path.\n",
    "2. Checks all files in that directory.\n",
    "3. Counts how many files are PDF files (ending with .pdf).\n",
    "4. Prints the total number of PDF files."
   ]
  },
  {
   "cell_type": "code",
   "execution_count": 49,
   "id": "1b8d85b5",
   "metadata": {},
   "outputs": [
    {
     "name": "stdout",
     "output_type": "stream",
     "text": [
      "Total PDF files: 1\n"
     ]
    }
   ],
   "source": [
    "import os\n",
    "\n",
    "# Counter for PDF files\n",
    "pdf_count = 0\n",
    "\n",
    "# Loop through all files in the directory\n",
    "for file in os.listdir(r\"D:\\Electrical Engineering Computing & AI\\3rd Semester\\Introduction to AI Programming\\AI LAB\"):\n",
    "    if file.lower().endswith(\".pdf\"):   # case-insensitive check\n",
    "        pdf_count += 1\n",
    "\n",
    "print(f\"Total PDF files: {pdf_count}\")\n"
   ]
  },
  {
   "cell_type": "markdown",
   "id": "0781b2d6",
   "metadata": {},
   "source": [
    "___"
   ]
  }
 ],
 "metadata": {
  "kernelspec": {
   "display_name": "base",
   "language": "python",
   "name": "python3"
  },
  "language_info": {
   "codemirror_mode": {
    "name": "ipython",
    "version": 3
   },
   "file_extension": ".py",
   "mimetype": "text/x-python",
   "name": "python",
   "nbconvert_exporter": "python",
   "pygments_lexer": "ipython3",
   "version": "3.13.5"
  }
 },
 "nbformat": 4,
 "nbformat_minor": 5
}
