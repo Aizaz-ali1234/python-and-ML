{
 "cells": [
  {
   "cell_type": "markdown",
   "id": "ca83d59b",
   "metadata": {},
   "source": [
    "## <center><span> Organizing files</span></center>"
   ]
  },
  {
   "cell_type": "markdown",
   "id": "b1ca407d",
   "metadata": {},
   "source": [
    "#### The shutil module\n",
    " The shutil (or shell utilities) module has functions to let you copy, move, \n",
    "rename, and delete files in your Python programs. To use the shutil func\n",
    "tions, you will first need to use import shuti"
   ]
  },
  {
   "cell_type": "code",
   "execution_count": 17,
   "id": "00840373",
   "metadata": {},
   "outputs": [
    {
     "data": {
      "text/plain": [
       "'D:\\\\pyhton and ML 25\\\\python 25\\\\khan.txt'"
      ]
     },
     "execution_count": 17,
     "metadata": {},
     "output_type": "execute_result"
    }
   ],
   "source": [
    "import shutil, os\n",
    "os.chdir('C:\\\\')\n",
    "shutil.copy(r\"C:\\Users\\TOSHIBA\\New_folder\\\\khan.txt\", r\"D:\\pyhton and ML 25\\python 25\")"
   ]
  },
  {
   "cell_type": "markdown",
   "id": "3b801f89",
   "metadata": {},
   "source": [
    "the file will copy to D folder."
   ]
  },
  {
   "cell_type": "code",
   "execution_count": 20,
   "id": "601eeebb",
   "metadata": {},
   "outputs": [
    {
     "data": {
      "text/plain": [
       "'D:\\\\pyhton and ML 25\\\\python 25\\\\aizaz.txt'"
      ]
     },
     "execution_count": 20,
     "metadata": {},
     "output_type": "execute_result"
    }
   ],
   "source": [
    "import shutil\n",
    "shutil.move(r\"C:\\Users\\TOSHIBA\\New_folder\\\\aizaz.txt\", r\"D:\\pyhton and ML 25\\python 25\")"
   ]
  },
  {
   "cell_type": "markdown",
   "id": "65fb7cbf",
   "metadata": {},
   "source": [
    "the file move from C to D."
   ]
  },
  {
   "cell_type": "markdown",
   "id": "6e411c38",
   "metadata": {},
   "source": [
    "#### Permanently Deleting Files and Folders\n",
    " You can delete a single file or a single empty folder with functions in the \n",
    "os module, whereas to delete a folder and all of its contents, you use the shutil module.\n",
    "\n",
    " •\tCalling os.unlink(path) will delete the file at path.\n",
    "\n",
    " •\tCalling os.rmdir(path) will delete the folder at path. This folder must be empty of any files or folders.\n",
    "\n",
    " •\tCalling shutil.rmtree(path) will remove the folder at path, and all files and folders it contains will also be deleted."
   ]
  },
  {
   "cell_type": "code",
   "execution_count": null,
   "id": "72e15160",
   "metadata": {},
   "outputs": [],
   "source": [
    "import os\n",
    "for filename in os.listdir():\n",
    "    if filename.endswith('.rxt'):\n",
    "        os.unlink(filename)"
   ]
  },
  {
   "cell_type": "markdown",
   "id": "e593d749",
   "metadata": {},
   "source": [
    "if you have a file .rxt then write a program like this. if you directly write the program which is above then your all text file was permenently delate."
   ]
  },
  {
   "cell_type": "code",
   "execution_count": null,
   "id": "b787cc29",
   "metadata": {},
   "outputs": [],
   "source": [
    "import os\n",
    "for filename in os.listdir():\n",
    "    if filename.endswith('.rxt'):\n",
    "        #os.unlink(filename)\n",
    "        print(filename)# its mean thet you have no file with .rxt"
   ]
  },
  {
   "cell_type": "code",
   "execution_count": 12,
   "id": "fdb00215",
   "metadata": {},
   "outputs": [],
   "source": [
    "import send2trash"
   ]
  },
  {
   "cell_type": "code",
   "execution_count": 13,
   "id": "6f9d9305",
   "metadata": {},
   "outputs": [],
   "source": [
    "\n",
    "baconFile = open(r\"C:\\Users\\TOSHIBA\\New_folder\\khan.txt\", \"a\")   # creates the file\n",
    "baconFile.write(\"Bacon is not a vegetable.\")\n",
    "\n",
    "baconFile.close()\n",
    "send2trash.send2trash(r\"C:\\Users\\TOSHIBA\\New_folder\\khan.txt\")"
   ]
  },
  {
   "cell_type": "code",
   "execution_count": 15,
   "id": "e8dc3bc6",
   "metadata": {},
   "outputs": [],
   "source": [
    "import os"
   ]
  },
  {
   "cell_type": "code",
   "execution_count": 18,
   "id": "37122942",
   "metadata": {},
   "outputs": [],
   "source": [
    "import shutil\n",
    "os.unlink(r\"D:\\pyhton and ML 25\\python 25\\aizaz.txt\")"
   ]
  },
  {
   "cell_type": "code",
   "execution_count": 5,
   "id": "a0e5dfb1",
   "metadata": {},
   "outputs": [],
   "source": [
    "import zipfile"
   ]
  },
  {
   "cell_type": "code",
   "execution_count": 19,
   "id": "6fd6cbed",
   "metadata": {},
   "outputs": [],
   "source": [
    "os.chdir('D:\\\\')"
   ]
  },
  {
   "cell_type": "code",
   "execution_count": 20,
   "id": "6dcf7d0b",
   "metadata": {},
   "outputs": [
    {
     "data": {
      "text/plain": [
       "'D:\\\\'"
      ]
     },
     "execution_count": 20,
     "metadata": {},
     "output_type": "execute_result"
    }
   ],
   "source": [
    "os.getcwd()"
   ]
  },
  {
   "cell_type": "code",
   "execution_count": 23,
   "id": "2543f308",
   "metadata": {},
   "outputs": [],
   "source": [
    "import zipfile\n",
    "newZip = zipfile.ZipFile('new.zip', 'w')\n",
    "newZip.write(r\"D:\\pyhton and ML 25\\python 25\\abc.txt\", compress_type=zipfile.ZIP_DEFLATED)\n",
    "newZip.close()"
   ]
  },
  {
   "cell_type": "code",
   "execution_count": null,
   "id": "0b54578a",
   "metadata": {},
   "outputs": [],
   "source": []
  }
 ],
 "metadata": {
  "kernelspec": {
   "display_name": "sum25",
   "language": "python",
   "name": "python3"
  },
  "language_info": {
   "codemirror_mode": {
    "name": "ipython",
    "version": 3
   },
   "file_extension": ".py",
   "mimetype": "text/x-python",
   "name": "python",
   "nbconvert_exporter": "python",
   "pygments_lexer": "ipython3",
   "version": "3.8.20"
  }
 },
 "nbformat": 4,
 "nbformat_minor": 5
}
