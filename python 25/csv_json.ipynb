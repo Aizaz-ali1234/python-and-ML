{
 "cells": [
  {
   "cell_type": "markdown",
   "id": "d7b6490a",
   "metadata": {},
   "source": [
    "### <center><span> Working with CSV files  and json data <center><span>"
   ]
  },
  {
   "cell_type": "markdown",
   "id": "ea7474d5",
   "metadata": {},
   "source": [
    "CSV files are simple, lacking many of the features of an Excel spread\n",
    "sheet. For example, CSV files\n",
    "\n",
    " •\tDon’t have types for their values—everything is a string\n",
    "\n",
    " •\tDon’t have settings for font size or color\n",
    "\n",
    " •\tDon’t have multiple worksheets\n",
    "\n",
    " •\tCan’t specify cell widths and heights\n",
    "\n",
    " •\tCan’t have merged cells\n",
    " \n",
    " •\tCan’t have images or charts embedded in them"
   ]
  },
  {
   "cell_type": "code",
   "execution_count": 62,
   "id": "2be2ca4b",
   "metadata": {},
   "outputs": [],
   "source": [
    "import csv"
   ]
  },
  {
   "cell_type": "code",
   "execution_count": 63,
   "id": "29d74b7c",
   "metadata": {},
   "outputs": [],
   "source": [
    "Aizaz_Ali = open(r\"D:\\pyhton and ML 25\\Book2.csv\")"
   ]
  },
  {
   "cell_type": "markdown",
   "id": "2371dddc",
   "metadata": {},
   "source": [
    "Note that you don’t pass a filename string directly to the csv.reader() \n",
    "function."
   ]
  },
  {
   "cell_type": "code",
   "execution_count": 64,
   "id": "b7d3d943",
   "metadata": {},
   "outputs": [
    {
     "data": {
      "text/plain": [
       "[['\\ufeffsdfghjhgfddfghjhgfd'],\n",
       " ['rtyui;trertyuio'],\n",
       " ['ctyviuboinomp,l'],\n",
       " ['drctfuyvuiboinokmpl,'],\n",
       " ['rtfgyuhijokpl']]"
      ]
     },
     "execution_count": 64,
     "metadata": {},
     "output_type": "execute_result"
    }
   ],
   "source": [
    "exampleReader = csv.reader(Aizaz_Ali)\n",
    "exampleData = list(exampleReader)\n",
    "exampleData"
   ]
  },
  {
   "cell_type": "code",
   "execution_count": 65,
   "id": "fdf70668",
   "metadata": {},
   "outputs": [
    {
     "data": {
      "text/plain": [
       "'\\ufeffsdfghjhgfddfghjhgfd'"
      ]
     },
     "execution_count": 65,
     "metadata": {},
     "output_type": "execute_result"
    }
   ],
   "source": [
    "exampleData[0][0]"
   ]
  },
  {
   "cell_type": "code",
   "execution_count": 66,
   "id": "26abe382",
   "metadata": {},
   "outputs": [],
   "source": [
    "import csv\n",
    "Aizaz_Ali = open(r\"D:\\pyhton and ML 25\\Book2.csv\")\n",
    "exampleReader = csv.reader(Aizaz_Ali)\n",
    "exampleData=list(exampleReader)\n",
    "for row in exampleReader:\n",
    "    print('Row #' + str(exampleReader.line_num) + ' ' + str(row))"
   ]
  },
  {
   "cell_type": "code",
   "execution_count": 67,
   "id": "e04d28ff",
   "metadata": {},
   "outputs": [
    {
     "data": {
      "text/plain": [
       "21"
      ]
     },
     "execution_count": 67,
     "metadata": {},
     "output_type": "execute_result"
    }
   ],
   "source": [
    "import csv\n",
    "outputFile = open('Aizaz_Ali.csv', 'w', newline='')\n",
    "outputWriter = csv.writer(outputFile)\n",
    "outputWriter.writerow(['spam', 'eggs', 'bacon', 'ham'])"
   ]
  },
  {
   "cell_type": "code",
   "execution_count": 68,
   "id": "5d1f1532",
   "metadata": {},
   "outputs": [
    {
     "data": {
      "text/plain": [
       "32"
      ]
     },
     "execution_count": 68,
     "metadata": {},
     "output_type": "execute_result"
    }
   ],
   "source": [
    "outputWriter.writerow(['Hello, world!', 'eggs', 'bacon', 'ham'])"
   ]
  },
  {
   "cell_type": "code",
   "execution_count": 69,
   "id": "e693799e",
   "metadata": {},
   "outputs": [
    {
     "data": {
      "text/plain": [
       "16"
      ]
     },
     "execution_count": 69,
     "metadata": {},
     "output_type": "execute_result"
    }
   ],
   "source": [
    "outputWriter.writerow([1, 2, 3.141592, 4])"
   ]
  },
  {
   "cell_type": "code",
   "execution_count": 70,
   "id": "2664e67a",
   "metadata": {},
   "outputs": [],
   "source": [
    "outputFile.close()"
   ]
  },
  {
   "cell_type": "code",
   "execution_count": 71,
   "id": "212bee7e",
   "metadata": {},
   "outputs": [
    {
     "data": {
      "text/plain": [
       "'d:\\\\pyhton and ML 25\\\\python 25'"
      ]
     },
     "execution_count": 71,
     "metadata": {},
     "output_type": "execute_result"
    }
   ],
   "source": [
    "import os\n",
    "os.getcwd()"
   ]
  },
  {
   "cell_type": "code",
   "execution_count": 72,
   "id": "65b12beb",
   "metadata": {},
   "outputs": [
    {
     "data": {
      "text/plain": [
       "38"
      ]
     },
     "execution_count": 72,
     "metadata": {},
     "output_type": "execute_result"
    }
   ],
   "source": [
    "import csv\n",
    "csvFile=open(\"Aizaz_Ali.tsv\",'w',newline='')\n",
    "csvWriter=csv.writer(csvFile,delimiter='\\t',lineterminator='\\n\\n')\n",
    "csvWriter.writerow(['apple','orange','banan','watermellon','peach'])"
   ]
  },
  {
   "cell_type": "code",
   "execution_count": 73,
   "id": "12b8b3a3",
   "metadata": {},
   "outputs": [
    {
     "data": {
      "text/plain": [
       "30"
      ]
     },
     "execution_count": 73,
     "metadata": {},
     "output_type": "execute_result"
    }
   ],
   "source": [
    "csvWriter.writerow(['Aizaz','Ali','Abdur','Rahman','Umair'])"
   ]
  },
  {
   "cell_type": "code",
   "execution_count": 74,
   "id": "14ed2bf1",
   "metadata": {},
   "outputs": [
    {
     "data": {
      "text/plain": [
       "19"
      ]
     },
     "execution_count": 74,
     "metadata": {},
     "output_type": "execute_result"
    }
   ],
   "source": [
    "csvWriter.writerow([1,2,3,4,5,6,7,8,9])"
   ]
  },
  {
   "cell_type": "code",
   "execution_count": 75,
   "id": "733ae55c",
   "metadata": {},
   "outputs": [],
   "source": [
    "csvFile.close()"
   ]
  },
  {
   "cell_type": "markdown",
   "id": "3b6de5ff",
   "metadata": {},
   "source": [
    "## <center><spame>JSON and APIs<center><spame>"
   ]
  },
  {
   "cell_type": "markdown",
   "id": "59a6e81e",
   "metadata": {},
   "source": [
    " JavaScript Object Notation is a popular way to format data as a single \n",
    "human-readable string."
   ]
  },
  {
   "cell_type": "markdown",
   "id": "bd58c1f6",
   "metadata": {},
   "source": [
    " #### The json module\n",
    " Python’s json module handles all the details of translating between a string \n",
    "with JSON data and Python values for the json.loads() and json.dumps() \n",
    "functions. JSON can’t store every kind of Python value. It can contain values \n",
    "of only the following data types: strings, integers, floats, Booleans, lists, \n",
    "dictionaries, and NoneType. JSON cannot  represent Python-specific objects, \n",
    "such as File objects,CSV Reader or Writer objects, Regex objects, or Selenium \n",
    "WebElement objects."
   ]
  },
  {
   "cell_type": "markdown",
   "id": "d218f6b3",
   "metadata": {},
   "source": [
    "#### Reading JSON with the loads() Function"
   ]
  },
  {
   "cell_type": "code",
   "execution_count": 78,
   "id": "be5f4fed",
   "metadata": {},
   "outputs": [
    {
     "name": "stdout",
     "output_type": "stream",
     "text": [
      "{'name': 'Zophie', 'isCat': True, 'miceCaught': 0, 'felineIQ': None}\n"
     ]
    }
   ],
   "source": [
    "string_of_json_data='{\"name\": \"Zophie\", \"isCat\": true, \"miceCaught\": 0, \"felineIQ\": null}'\n",
    "import json\n",
    "jsondata_as_pythonvalue=json.loads(string_of_json_data)\n",
    "print(jsondata_as_pythonvalue)\n"
   ]
  },
  {
   "cell_type": "markdown",
   "id": "15f9f717",
   "metadata": {},
   "source": [
    "#### Writing JSON with the dumps() Function"
   ]
  },
  {
   "cell_type": "markdown",
   "id": "a125135d",
   "metadata": {},
   "source": [
    "##### dump (without s)\n",
    "Meaning: Write JSON data directly to a file.\n",
    "\n",
    "You give it Python data and a file object, and it dumps the data into that file.\n",
    "\n",
    "Think of it as \"dump into fil"
   ]
  },
  {
   "cell_type": "code",
   "execution_count": 79,
   "id": "77116fbd",
   "metadata": {},
   "outputs": [],
   "source": [
    "import json\n",
    "\n",
    "data = {\"name\": \"Aizaz\", \"age\": 20}\n",
    "\n",
    "with open(\"data.json\", \"w\") as file:\n",
    "    json.dump(data, file)  # Writes JSON directly to file\n"
   ]
  },
  {
   "cell_type": "markdown",
   "id": "47a291f0",
   "metadata": {},
   "source": [
    "##### dumps (with s, means “dump string”)\n",
    "Meaning: Convert Python data into a JSON string (not into a file).\n",
    "\n",
    "You get the JSON as a string in memory, which you can print or send over a network.\n",
    "\n",
    "The s in dumps means string."
   ]
  },
  {
   "cell_type": "code",
   "execution_count": 80,
   "id": "96863d1e",
   "metadata": {},
   "outputs": [
    {
     "name": "stdout",
     "output_type": "stream",
     "text": [
      "{\"name\": \"Aizaz\", \"age\": 20}\n"
     ]
    }
   ],
   "source": [
    "import json\n",
    "\n",
    "data = {\"name\": \"Aizaz\", \"age\": 20}\n",
    "\n",
    "json_string = json.dumps(data)  # Converts to string\n",
    "print(json_string)\n"
   ]
  }
 ],
 "metadata": {
  "kernelspec": {
   "display_name": "sum25",
   "language": "python",
   "name": "python3"
  },
  "language_info": {
   "codemirror_mode": {
    "name": "ipython",
    "version": 3
   },
   "file_extension": ".py",
   "mimetype": "text/x-python",
   "name": "python",
   "nbconvert_exporter": "python",
   "pygments_lexer": "ipython3",
   "version": "3.8.20"
  }
 },
 "nbformat": 4,
 "nbformat_minor": 5
}
