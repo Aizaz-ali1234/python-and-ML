{
 "cells": [
  {
   "cell_type": "markdown",
   "id": "a5d7b69f",
   "metadata": {},
   "source": [
    "### List Comprehensions"
   ]
  },
  {
   "cell_type": "markdown",
   "id": "e7321b7a",
   "metadata": {},
   "source": [
    "#### Using for loop\n",
    "The most common type of loop is the for loop. You can use a for loop to create a list of elements in three steps:\n",
    "\n",
    "Instantiate an empty list.\n",
    "\n",
    "Loop over an iterable or range of elements.\n",
    "\n",
    "Append each element to the end of the list."
   ]
  },
  {
   "cell_type": "markdown",
   "id": "470cd3bf",
   "metadata": {},
   "source": [
    "If you want to create a perfect square of the first ten number then use the three steps."
   ]
  },
  {
   "cell_type": "code",
   "execution_count": 4,
   "id": "5d4eaabf",
   "metadata": {},
   "outputs": [
    {
     "name": "stdout",
     "output_type": "stream",
     "text": [
      "[0, 1, 4, 9, 16, 25, 36, 49, 64, 81]\n"
     ]
    }
   ],
   "source": [
    "square=[]#empty list\n",
    "for number in range(10):#range of an element\n",
    "    square.append(number*number)#append the element\n",
    "print(square)"
   ]
  },
  {
   "cell_type": "markdown",
   "id": "c4571e60",
   "metadata": {},
   "source": [
    "#### Work With map Objects\n",
    "For an alternative approach that’s based in functional programming, you can use map(). You pass in a function and an iterable, and map() will create an object. This object contains the result that you’d get from running each iterable element through the supplied function."
   ]
  },
  {
   "cell_type": "code",
   "execution_count": null,
   "id": "da6b8cda",
   "metadata": {},
   "outputs": [
    {
     "name": "stdout",
     "output_type": "stream",
     "text": [
      "<map object at 0x000002AE454A1910>\n",
      "[3.0, 4.5, 6.0, 7.5, 9.0]\n"
     ]
    }
   ],
   "source": [
    "# Example of map()\n",
    "price=[2,3,4,5,6]\n",
    "tax=.5\n",
    "def tax_price(price):\n",
    "    return price*(1+tax)\n",
    "final_price=map(tax_price,price)\n",
    "print(final_price)# This will create an object \n",
    "print(list(final_price))# This will create an a list"
   ]
  },
  {
   "cell_type": "markdown",
   "id": "d77af1b1",
   "metadata": {},
   "source": [
    "#### Leverage List Comprehensions\n",
    "List comprehensions are a third way of making or transforming lists. With this elegant approach, you could rewrite the for loop from the first example in just a single line of code:"
   ]
  },
  {
   "cell_type": "code",
   "execution_count": 12,
   "id": "b41e06db",
   "metadata": {},
   "outputs": [
    {
     "name": "stdout",
     "output_type": "stream",
     "text": [
      "[0, 1, 4, 9, 16, 25, 36, 49, 64, 81]\n"
     ]
    }
   ],
   "source": [
    "square=[number*number for number in range(10)]\n",
    "print(square)"
   ]
  },
  {
   "cell_type": "markdown",
   "id": "755dacaf",
   "metadata": {},
   "source": [
    "new_list = [expression for member in iterable]\n",
    "\n",
    "expression: is the member itself, a call to a method, or any other valid expression that returns a value. In the example above, the expression number * number is the square of the member value.\n",
    "\n",
    "member: is the object or value in the list or iterable. In the example above, the member value is number.\n",
    "\n",
    "iterable: is a list, set, sequence, generator, or any other object that can return its elements one at a time. In the example above, the iterable is range(10)"
   ]
  },
  {
   "cell_type": "markdown",
   "id": "6108f33f",
   "metadata": {},
   "source": [
    "we can rewrite with has own list"
   ]
  },
  {
   "cell_type": "code",
   "execution_count": 13,
   "id": "7f62f76d",
   "metadata": {},
   "outputs": [
    {
     "name": "stdout",
     "output_type": "stream",
     "text": [
      "[3.0, 4.5, 6.0, 7.5, 9.0]\n"
     ]
    }
   ],
   "source": [
    "# Example of map()\n",
    "price=[2,3,4,5,6]\n",
    "tax=.5\n",
    "def tax_price(price):\n",
    "    return price*(1+tax)\n",
    "final_price=[tax_price(price) for price in price]\n",
    "print(final_price)# This will create an object \n",
    "#print(list(final_price))# This will create an a list"
   ]
  },
  {
   "cell_type": "markdown",
   "id": "afb4ce80",
   "metadata": {},
   "source": [
    "list comprehension in python retrurn a list not a map object."
   ]
  },
  {
   "cell_type": "markdown",
   "id": "dbb24a25",
   "metadata": {},
   "source": [
    "#### Filter Values From a List\n",
    "The most common way to add conditional logic to a list comprehension is to add a conditional to the end of the expression."
   ]
  },
  {
   "cell_type": "code",
   "execution_count": 18,
   "id": "60bc04e2",
   "metadata": {},
   "outputs": [
    {
     "data": {
      "text/plain": [
       "['u', 'i', 'o', 'o', 'u', 'o', 'e', 'e', 'a', 'o']"
      ]
     },
     "execution_count": 18,
     "metadata": {},
     "output_type": "execute_result"
    }
   ],
   "source": [
    "sentence=\"A quick brown fox jump over the lazy dog\"\n",
    "[char for char in sentence if char in \"aeiou\"]"
   ]
  },
  {
   "cell_type": "code",
   "execution_count": null,
   "id": "77f95bdf",
   "metadata": {},
   "outputs": [
    {
     "data": {
      "text/plain": [
       "['a',\n",
       " 'e',\n",
       " 'i',\n",
       " 'A',\n",
       " 'i',\n",
       " 'a',\n",
       " 'a',\n",
       " 'i',\n",
       " 'I',\n",
       " 'a',\n",
       " 'o',\n",
       " 'u',\n",
       " 'e',\n",
       " 'a',\n",
       " 'a',\n",
       " 'a',\n",
       " 'i']"
      ]
     },
     "execution_count": 24,
     "metadata": {},
     "output_type": "execute_result"
    }
   ],
   "source": [
    " sentence = (\n",
    "     \"My name is Aiza ali \"\n",
    "     \"I am from buner chagharzai\"\n",
    " )\n",
    " def is_consonant(letter):\n",
    "     vowels = \"aeiou\"\n",
    "     return letter.isalpha() and letter.lower()  not in vowels\n",
    "\n",
    "\n",
    " [char for char in sentence if is_consonant(char)]"
   ]
  },
  {
   "cell_type": "code",
   "execution_count": null,
   "id": "86b8e3ae",
   "metadata": {},
   "outputs": [
    {
     "data": {
      "text/plain": [
       "[1, 2, 3, 0, 0, 5, 1.3]"
      ]
     },
     "execution_count": 27,
     "metadata": {},
     "output_type": "execute_result"
    }
   ],
   "source": [
    "# new_list = [true_expr if conditional else false_expr for member in iterable]\n",
    "number=[1,2,3,-5,-29,5,1.3]\n",
    "[P_number if P_number>0 else 0 for P_number in number]# conditional expression"
   ]
  },
  {
   "cell_type": "markdown",
   "id": "bbf9cfdc",
   "metadata": {},
   "source": [
    "#### Remove Duplicates With Set and Dictionary Comprehensions\n",
    " A set comprehension is almost exactly the same as a list comprehension in Python. The difference is that set comprehensions make sure the output contains no duplicates. You can create a set comprehension by using curly braces instead of brackets"
   ]
  },
  {
   "cell_type": "code",
   "execution_count": 29,
   "id": "e178abfb",
   "metadata": {},
   "outputs": [
    {
     "data": {
      "text/plain": [
       "{'a', 'e', 'i', 'o'}"
      ]
     },
     "execution_count": 29,
     "metadata": {},
     "output_type": "execute_result"
    }
   ],
   "source": [
    "sentence=\"Hello my name is Aizaz Ali\"\n",
    "{char for char in sentence if char in \"aeiou\"}"
   ]
  },
  {
   "cell_type": "code",
   "execution_count": null,
   "id": "5c2b0e25",
   "metadata": {},
   "outputs": [
    {
     "data": {
      "text/plain": [
       "{0: 0, 1: 1, 2: 4, 3: 9, 4: 16, 5: 25, 6: 36, 7: 49, 8: 64, 9: 81}"
      ]
     },
     "execution_count": 30,
     "metadata": {},
     "output_type": "execute_result"
    }
   ],
   "source": [
    "{number:number*number for number in range(10)}#dictionaries comperhension\n"
   ]
  },
  {
   "cell_type": "code",
   "execution_count": null,
   "id": "dc56e6a8",
   "metadata": {},
   "outputs": [
    {
     "data": {
      "text/plain": [
       "[105, 106, 101, 103, 109, 105]"
      ]
     },
     "execution_count": 67,
     "metadata": {},
     "output_type": "execute_result"
    }
   ],
   "source": [
    "import random\n",
    "def get_wether_data():\n",
    "    return random.randrange(90,110)\n",
    "[temp for _ in range(10) if (temp :=get_wether_data())>=100]#walrus operator (:=)\n",
    "#Say you need to make ten requests to an API that will return temperature data. You only want to return results that are greater than 100 degrees Fahrenheit."
   ]
  },
  {
   "cell_type": "markdown",
   "id": "456de082",
   "metadata": {},
   "source": [
    "#### for Nested Comprehensions"
   ]
  },
  {
   "cell_type": "code",
   "execution_count": null,
   "id": "8a47580d",
   "metadata": {},
   "outputs": [
    {
     "data": {
      "text/plain": [
       "{'karachi': [2, 2, 2, 2, 2, 2, 2],\n",
       " 'abbatabad': [2, 2, 2, 2, 2, 2, 2],\n",
       " 'lahor': [2, 2, 2, 2, 2, 2, 2],\n",
       " 'peshawar': [2, 2, 2, 2, 2, 2, 2],\n",
       " 'multn': [2, 2, 2, 2, 2, 2, 2],\n",
       " 'swat': [2, 2, 2, 2, 2, 2, 2]}"
      ]
     },
     "execution_count": 73,
     "metadata": {},
     "output_type": "execute_result"
    }
   ],
   "source": [
    "cities = [\"karachi\",\"abbatabad\",\"lahor\",\"peshawar\",\"multn\",\"swat\"]\n",
    "number=2# and you direct use the numer before for\n",
    "{city:[number for _ in range(7)] for city in cities}#nested loop"
   ]
  },
  {
   "cell_type": "code",
   "execution_count": 75,
   "id": "77ad4f7d",
   "metadata": {},
   "outputs": [
    {
     "data": {
      "text/plain": [
       "[[0, 1, 2, 3, 4], [0, 1, 2, 3, 4], [0, 1, 2, 3, 4]]"
      ]
     },
     "execution_count": 75,
     "metadata": {},
     "output_type": "execute_result"
    }
   ],
   "source": [
    "[[number for number in range(5)]for _ in range(3)]"
   ]
  },
  {
   "cell_type": "markdown",
   "id": "fd8703a0",
   "metadata": {},
   "source": [
    "#### Choose Generators for Large Datasets"
   ]
  },
  {
   "cell_type": "code",
   "execution_count": 77,
   "id": "6e5e9b15",
   "metadata": {},
   "outputs": [
    {
     "data": {
      "text/plain": [
       "332833500"
      ]
     },
     "execution_count": 77,
     "metadata": {},
     "output_type": "execute_result"
    }
   ],
   "source": [
    "sum([number*number for number in range(1000)])"
   ]
  },
  {
   "cell_type": "code",
   "execution_count": null,
   "id": "c503160a",
   "metadata": {},
   "outputs": [],
   "source": [
    "sum([number*number for number in range(1_000_000_000)])\n",
    "# in the above code over machine is unresponsive \n",
    "# when we see this type of problem we use generator.\n",
    "# generator just remove the square breacet\n",
    "sum(lambda number: number * number, range(1_000_000_000))\n",
    "# or we use the map function instead of generator\n",
    "sum(map(lambda number: number * number, range(1_000_000_000)))"
   ]
  },
  {
   "cell_type": "markdown",
   "id": "79722218",
   "metadata": {},
   "source": [
    "| Type                     | Example                                           | Result                    |\n",
    "| ------------------------ | ------------------------------------------------- | ------------------------- |\n",
    "| Basic                    | `[x for x in range(3)]`                           | `[0, 1, 2]`               |\n",
    "| With Condition           | `[x for x in range(5) if x%2==0]`                 | `[0, 2, 4]`               |\n",
    "| With If-Else             | `[\"even\" if x%2==0 else \"odd\" for x in range(3)]` | `['even', 'odd', 'even']` |\n",
    "| Nested List              | `[[j for j in range(2)] for i in range(2)]`       | `[[0, 1], [0, 1]]`        |\n",
    "| Dictionary Comprehension | `{x: x**2 for x in range(3)}`                     | `{0: 0, 1: 1, 2: 4}`      |\n",
    "| Set Comprehension        | `{x**2 for x in range(3)}`                        | `{0, 1, 4}`               |\n"
   ]
  }
 ],
 "metadata": {
  "kernelspec": {
   "display_name": "sum25",
   "language": "python",
   "name": "python3"
  },
  "language_info": {
   "codemirror_mode": {
    "name": "ipython",
    "version": 3
   },
   "file_extension": ".py",
   "mimetype": "text/x-python",
   "name": "python",
   "nbconvert_exporter": "python",
   "pygments_lexer": "ipython3",
   "version": "3.8.20"
  }
 },
 "nbformat": 4,
 "nbformat_minor": 5
}
