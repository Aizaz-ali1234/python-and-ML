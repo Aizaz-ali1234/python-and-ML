{
 "cells": [
  {
   "cell_type": "markdown",
   "id": "1e313b75",
   "metadata": {},
   "source": [
    "### Function in Pyton\n",
    "A function in Python is a named block of code that performs a specific task when called. "
   ]
  },
  {
   "cell_type": "markdown",
   "id": "4234e939",
   "metadata": {},
   "source": [
    "#### Why Use Functions?\n",
    " Break large code into smaller pieces\n",
    "\n",
    " Reuse code without rewriting\n",
    "\n",
    " Easier to test and debug\n",
    "\n",
    " Improves readability and structure\n",
    "\n",
    " There are three kind of function one is user define function and built in function and lambda (Anonymous one-line functions)."
   ]
  },
  {
   "cell_type": "code",
   "execution_count": 45,
   "id": "90f0e490",
   "metadata": {},
   "outputs": [
    {
     "name": "stdout",
     "output_type": "stream",
     "text": [
      "hello, AIZAZ\n"
     ]
    }
   ],
   "source": [
    "def first(num):# def function_name(parameter)\n",
    "    print(f'hello, {num}')#block of code\n",
    "first('AIZAZ')#calling a function"
   ]
  },
  {
   "cell_type": "markdown",
   "id": "b244a164",
   "metadata": {},
   "source": [
    "Parameter: Variable listed in function definition\n",
    "\n",
    "Argument: Actual value passed to the function"
   ]
  },
  {
   "cell_type": "code",
   "execution_count": 46,
   "id": "c0458333",
   "metadata": {},
   "outputs": [
    {
     "data": {
      "text/plain": [
       "7"
      ]
     },
     "execution_count": 46,
     "metadata": {},
     "output_type": "execute_result"
    }
   ],
   "source": [
    "def add(a,b):#a, b is the parameter of the function\n",
    "    return(a+b)\n",
    "add(3,4)# aurgument of the function 3 and 4"
   ]
  },
  {
   "cell_type": "code",
   "execution_count": 47,
   "id": "aa0f9424",
   "metadata": {},
   "outputs": [
    {
     "name": "stdout",
     "output_type": "stream",
     "text": [
      "9\n"
     ]
    }
   ],
   "source": [
    "def squar(n):\n",
    "    return n*n\n",
    "print(squar(3))\n",
    "#this program demonstrate the userdefine function.\n",
    "#we define a function called square and then called it."
   ]
  },
  {
   "cell_type": "markdown",
   "id": "8b22d557",
   "metadata": {},
   "source": [
    "we use the funcntion in our code to decrease the redendency in our code. recendency mean repatation."
   ]
  },
  {
   "cell_type": "code",
   "execution_count": 48,
   "id": "a08194fc",
   "metadata": {},
   "outputs": [
    {
     "name": "stdout",
     "output_type": "stream",
     "text": [
      "the number is odd\n"
     ]
    }
   ],
   "source": [
    "def find():#to find the no is even or odd\n",
    "    number=float(input('enter the number '))\n",
    "    if number%2==0:\n",
    "        print('the number is even')\n",
    "    else:\n",
    "         print('the number is odd')\n",
    "find()"
   ]
  },
  {
   "cell_type": "code",
   "execution_count": 49,
   "id": "d30239ec",
   "metadata": {},
   "outputs": [
    {
     "name": "stdout",
     "output_type": "stream",
     "text": [
      "hello,aizaz ali\n"
     ]
    }
   ],
   "source": [
    "def greet(name):\n",
    "    print(f'hello,{name}')\n",
    "greet(\"aizaz ali\")"
   ]
  },
  {
   "cell_type": "code",
   "execution_count": 50,
   "id": "f5066fec",
   "metadata": {},
   "outputs": [
    {
     "name": "stdout",
     "output_type": "stream",
     "text": [
      "5\n",
      "4\n",
      "3\n",
      "2\n",
      "1\n"
     ]
    }
   ],
   "source": [
    "def show(n):#recursive function\n",
    "    if n==0:\n",
    "        return(0)\n",
    "    print(n)\n",
    "    show(n-1)\n",
    "show(5)"
   ]
  },
  {
   "cell_type": "code",
   "execution_count": 51,
   "id": "8c6f34dc",
   "metadata": {},
   "outputs": [
    {
     "name": "stdout",
     "output_type": "stream",
     "text": [
      "12 egg cost 3.0$\n"
     ]
    }
   ],
   "source": [
    "def calc_cost(item='banana', quantity=3, price=.20):#by default value when we call the function with empty parameter then the function use the default value\n",
    "    print(f\"{quantity} {item} cost {quantity*price}$\")\n",
    "\n",
    "calc_cost('egg',12,0.25)"
   ]
  },
  {
   "cell_type": "code",
   "execution_count": 52,
   "id": "fbd92028",
   "metadata": {},
   "outputs": [
    {
     "name": "stdout",
     "output_type": "stream",
     "text": [
      "[2, 4, 6, 8, 10]\n"
     ]
    }
   ],
   "source": [
    "#function that takes a list  of integer values and doubles them\n",
    "def double(number):\n",
    "    for i, _ in enumerate(number):\n",
    "        number[i]*=2\n",
    "number=[1,2,3,4,5]\n",
    "double(number)\n",
    "print(number)"
   ]
  },
  {
   "cell_type": "code",
   "execution_count": 53,
   "id": "03f869f0",
   "metadata": {},
   "outputs": [
    {
     "name": "stdout",
     "output_type": "stream",
     "text": [
      "[2, 4, 6, 8, 10]\n",
      "[1, 2, 3, 4, 5]\n"
     ]
    }
   ],
   "source": [
    "def double(numbers):\n",
    "    result=[]\n",
    "    for number in numbers:\n",
    "        result.append(number*2)\n",
    "    return(result)\n",
    "numbers=[1,2,3,4,5]\n",
    "double_number=double(numbers)\n",
    "print(double_number)\n",
    "print (numbers)"
   ]
  },
  {
   "cell_type": "markdown",
   "id": "0c924058",
   "metadata": {},
   "source": [
    "#### Returning Boolean Values"
   ]
  },
  {
   "cell_type": "code",
   "execution_count": 54,
   "id": "c5c2afc0",
   "metadata": {},
   "outputs": [
    {
     "data": {
      "text/plain": [
       "False"
      ]
     },
     "execution_count": 54,
     "metadata": {},
     "output_type": "execute_result"
    }
   ],
   "source": [
    "def is_even (number):\n",
    "    return number %2==0\n",
    "is_even(3)"
   ]
  },
  {
   "cell_type": "markdown",
   "id": "b67cfc63",
   "metadata": {},
   "source": [
    "#### Variable Number of Positional Arguments: *args\n",
    "Python provides a syntax for passing an arbitrary number of positional arguments to a function."
   ]
  },
  {
   "cell_type": "code",
   "execution_count": 56,
   "id": "4f194b96",
   "metadata": {},
   "outputs": [
    {
     "name": "stdout",
     "output_type": "stream",
     "text": [
      "(1, 2, 3, 4, 5)\n"
     ]
    }
   ],
   "source": [
    "def function(*args):\n",
    "    print(args)\n",
    "function(1,2,3,4,5)"
   ]
  },
  {
   "cell_type": "markdown",
   "id": "4e6f288f",
   "metadata": {},
   "source": [
    "In the function’s definition, you use the *args syntax. Then, when you call this function with an arbitrary number of arguments, Python packs them into a tuple.\n",
    "\n"
   ]
  },
  {
   "cell_type": "code",
   "execution_count": 58,
   "id": "c268e5ff",
   "metadata": {},
   "outputs": [
    {
     "data": {
      "text/plain": [
       "2.5"
      ]
     },
     "execution_count": 58,
     "metadata": {},
     "output_type": "execute_result"
    }
   ],
   "source": [
    "def average(*args):\n",
    "    return sum(args)/len(args)\n",
    "average(1,2,3,4)"
   ]
  },
  {
   "cell_type": "markdown",
   "id": "84dbcdde",
   "metadata": {},
   "source": [
    "#### Variable Number of Keyword Arguments: **kwargs\n",
    "Python also has the **kwargs syntax that lets you pass an arbitrary number of keyword arguments to a function."
   ]
  },
  {
   "cell_type": "code",
   "execution_count": 59,
   "id": "3410f68e",
   "metadata": {},
   "outputs": [
    {
     "name": "stdout",
     "output_type": "stream",
     "text": [
      "{'one': 1, 'two': 2, 'three': 3}\n"
     ]
    }
   ],
   "source": [
    "def function(**kwargs):\n",
    "     print(kwargs)\n",
    "\n",
    "\n",
    "function(one=1, two=2, three=3)"
   ]
  },
  {
   "cell_type": "markdown",
   "id": "bb180534",
   "metadata": {},
   "source": [
    "In this case, Python packs the keyword arguments one=1, two=2, and three=3 into a dictionary."
   ]
  },
  {
   "cell_type": "markdown",
   "id": "6d7e5f6b",
   "metadata": {},
   "source": [
    "#### Positional and Keywords Combined: *args and **kwargs"
   ]
  },
  {
   "cell_type": "code",
   "execution_count": null,
   "id": "3b9e6f20",
   "metadata": {},
   "outputs": [
    {
     "name": "stdout",
     "output_type": "stream",
     "text": [
      "A\n",
      "B\n",
      "(1, 2, 3)\n",
      "{'one': 1, 'two': 2, 'three': 3}\n"
     ]
    }
   ],
   "source": [
    "def function(a, b, *args, **kwargs):\n",
    "    print(a)\n",
    "    print(b)\n",
    "    print(args)\n",
    "    print(kwargs)\n",
    "\n",
    "function(\"A\", \"B\", 1, 2, 3, one=1, two=2, three=3)\n",
    "#the function separate the string,positional value *args and keyvalue **kwargs\n",
    "\n"
   ]
  },
  {
   "cell_type": "markdown",
   "id": "6d6d0ee3",
   "metadata": {},
   "source": [
    "#### Unpacking an Iterable Into Positional Arguments\n",
    "When you precede an iterable in a function call with an asterisk (*), you’re performing an unpacking operation."
   ]
  },
  {
   "cell_type": "code",
   "execution_count": 64,
   "id": "1a9c1c9a",
   "metadata": {},
   "outputs": [
    {
     "name": "stdout",
     "output_type": "stream",
     "text": [
      "1\n",
      "2\n",
      "(3, 4, 5, 'a', 'b', 'b', 'c')\n",
      "{}\n"
     ]
    }
   ],
   "source": [
    "numbers = [1, 2, 3, 4, 5]\n",
    "letters = (\"a\", \"b\", \"b\", \"c\")\n",
    "function(*numbers, *letters)\n"
   ]
  },
  {
   "cell_type": "markdown",
   "id": "7cdab429",
   "metadata": {},
   "source": [
    "#### Unpacking Keyword Arguments\n",
    "You can also unpack dictionaries in function calls.\n",
    "\n",
    "When you precede an argument with the dictionary unpacking operator (**) in a function call,"
   ]
  },
  {
   "cell_type": "code",
   "execution_count": 65,
   "id": "d7c10151",
   "metadata": {},
   "outputs": [
    {
     "name": "stdout",
     "output_type": "stream",
     "text": [
      "one = 1\n",
      "two = 2\n",
      "three = 3\n"
     ]
    }
   ],
   "source": [
    "def function(one, two, three):\n",
    "    print(f\"{one = }\")\n",
    "    print(f\"{two = }\")\n",
    "    print(f\"{three = }\")\n",
    "\n",
    "numbers = {\"one\": 1, \"two\": 2, \"three\": 3}\n",
    "function(**numbers)"
   ]
  }
 ],
 "metadata": {
  "kernelspec": {
   "display_name": "sum25",
   "language": "python",
   "name": "python3"
  },
  "language_info": {
   "codemirror_mode": {
    "name": "ipython",
    "version": 3
   },
   "file_extension": ".py",
   "mimetype": "text/x-python",
   "name": "python",
   "nbconvert_exporter": "python",
   "pygments_lexer": "ipython3",
   "version": "3.8.20"
  }
 },
 "nbformat": 4,
 "nbformat_minor": 5
}
