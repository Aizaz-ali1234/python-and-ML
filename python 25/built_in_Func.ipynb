{
 "cells": [
  {
   "cell_type": "markdown",
   "id": "f236bb60",
   "metadata": {},
   "source": [
    "### Built in Function in Python\n",
    "abs()\tCalculates the absolute value of a number\n",
    "\n",
    "divmod()=\tComputes the quotient and remainder of integer division\n",
    "\n",
    "max()=\tFinds the largest of the given arguments or items in an iterable\n",
    "\n",
    "min()=\tFinds the smallest of the given arguments or items in an iterable\n",
    "\n",
    "pow()=\tRaises a number to a power\n",
    "\n",
    "round()=\tRounds a floating-point value\n",
    "\n",
    "sum()=\tSums the values in an iterable"
   ]
  },
  {
   "cell_type": "code",
   "execution_count": 1,
   "id": "a40a6fd3",
   "metadata": {},
   "outputs": [
    {
     "name": "stdout",
     "output_type": "stream",
     "text": [
      "4\n",
      "4\n"
     ]
    }
   ],
   "source": [
    "print(abs(-4))\n",
    "print(abs(4))"
   ]
  },
  {
   "cell_type": "code",
   "execution_count": 2,
   "id": "35401b9c",
   "metadata": {},
   "outputs": [
    {
     "data": {
      "text/plain": [
       "2.8284271247461903"
      ]
     },
     "execution_count": 2,
     "metadata": {},
     "output_type": "execute_result"
    }
   ],
   "source": [
    "abs(complex(-2-2j))"
   ]
  },
  {
   "cell_type": "markdown",
   "id": "c7392c07",
   "metadata": {},
   "source": [
    "For a practical example, say that you need to compute the total profits and losses of your company from a month’s transactions:"
   ]
  },
  {
   "cell_type": "code",
   "execution_count": 10,
   "id": "608516f0",
   "metadata": {},
   "outputs": [
    {
     "name": "stdout",
     "output_type": "stream",
     "text": [
      "Total income 800\n",
      "Total expenses 300\n",
      "Total profit 500\n"
     ]
    }
   ],
   "source": [
    "transaction=[300,-200,500,-100]\n",
    "income=sum(income for income in transaction if income>0)\n",
    "expenses=abs(sum(expenses for expenses in transaction if expenses<0)\n",
    "             )\n",
    "print(f\"Total income {income}\")\n",
    "print(f\"Total expenses { expenses}\")\n",
    "print(f\"Total profit {income-expenses}\")"
   ]
  },
  {
   "cell_type": "markdown",
   "id": "27d447c4",
   "metadata": {},
   "source": [
    "#### Rounding Numbers: round()\n",
    "Python’s built-in round() function takes a numeric argument and returns it rounded to a given number of digits."
   ]
  },
  {
   "cell_type": "code",
   "execution_count": null,
   "id": "2c85ccc7",
   "metadata": {},
   "outputs": [
    {
     "name": "stdout",
     "output_type": "stream",
     "text": [
      "3.14\n",
      "3.1416\n",
      "3.141593\n"
     ]
    }
   ],
   "source": [
    "from math import pi\n",
    "print(round(pi,2))#two dicimal point value of pi\n",
    "print(round(pi,4))#four dicimal point value of pi\n",
    "print(round(pi,6))#six dicimal point value of pi"
   ]
  },
  {
   "cell_type": "code",
   "execution_count": null,
   "id": "b2d28d43",
   "metadata": {},
   "outputs": [
    {
     "name": "stdout",
     "output_type": "stream",
     "text": [
      "datetime.datetime(2025, 7, 26, 11, 52, 23, 877647)\n",
      "2025-07-26 11:52:23.877647\n"
     ]
    }
   ],
   "source": [
    "import datetime\n",
    "today=datetime.datetime.now()\n",
    "print(repr(today))#The repr() method gives you a developer-friendly string representation of the datetime object.\n",
    "print(str(today))"
   ]
  },
  {
   "cell_type": "markdown",
   "id": "4818f6dd",
   "metadata": {},
   "source": [
    "#### Encoding Strings: ord() and chr()\n",
    "To get the code point of a given character, you can use the built-in ord() function:"
   ]
  },
  {
   "cell_type": "code",
   "execution_count": 19,
   "id": "84a24480",
   "metadata": {},
   "outputs": [
    {
     "name": "stdout",
     "output_type": "stream",
     "text": [
      "65\n",
      "64\n",
      "36\n"
     ]
    }
   ],
   "source": [
    "print(ord('A'))\n",
    "print(ord('@'))\n",
    "print(ord('$'))"
   ]
  },
  {
   "cell_type": "markdown",
   "id": "8780e400",
   "metadata": {},
   "source": [
    "Sometimes, you may need to determine the code point that identifies a given Unicode character. In this situation, you can use the built-in chr() function:"
   ]
  },
  {
   "cell_type": "code",
   "execution_count": 21,
   "id": "37b5ddb5",
   "metadata": {},
   "outputs": [
    {
     "name": "stdout",
     "output_type": "stream",
     "text": [
      "A\n",
      "$\n"
     ]
    }
   ],
   "source": [
    "print(chr(65))\n",
    "print(chr(36))"
   ]
  },
  {
   "cell_type": "markdown",
   "id": "050a014f",
   "metadata": {},
   "source": [
    "Argument:\tDescription\n",
    "\n",
    "start:\tIt holds the initial value in the range. It defaults to 0 and is included in the range.\n",
    "\n",
    "stop:\tIt holds the value at which the range stops. It’s a required argument, and its value isn’t included in the range.\n",
    "\n",
    "step:\tIt holds the step through successive values. It’s an optional argument that defaults to 1."
   ]
  },
  {
   "cell_type": "code",
   "execution_count": null,
   "id": "f8fca4cf",
   "metadata": {},
   "outputs": [
    {
     "data": {
      "text/plain": [
       "[10, 20, 30, 40, 50, 60, 70, 80, 90, 100]"
      ]
     },
     "execution_count": 22,
     "metadata": {},
     "output_type": "execute_result"
    }
   ],
   "source": [
    "list(range(10, 101, 10))\n",
    "#list(range(start,stop,step ))"
   ]
  },
  {
   "cell_type": "code",
   "execution_count": null,
   "id": "42f86c2e",
   "metadata": {},
   "outputs": [
    {
     "name": "stdout",
     "output_type": "stream",
     "text": [
      "You guessed it! The secret number is 5\n"
     ]
    }
   ],
   "source": [
    "from random import randint#randint is used to generate a random integer\n",
    "\n",
    "LOW, HIGH = 1, 10\n",
    "\n",
    "secret_number = randint(LOW, HIGH)\n",
    "clue = \"\"\n",
    "\n",
    "while True:\n",
    "    guess = input(f\"Guess a number between {LOW} and {HIGH} {clue} \")\n",
    "    number = int(guess)\n",
    "    if number > secret_number:\n",
    "        clue = f\"(less than {number})\"\n",
    "    elif number < secret_number:\n",
    "        clue = f\"(greater than {number})\"\n",
    "    else:\n",
    "        break\n",
    "\n",
    "print(f\"You guessed it! The secret number is {number}\")"
   ]
  },
  {
   "cell_type": "code",
   "execution_count": 30,
   "id": "31011134",
   "metadata": {},
   "outputs": [
    {
     "name": "stdout",
     "output_type": "stream",
     "text": [
      "\n",
      "Welcome to Python 3.8's help utility!\n",
      "\n",
      "If this is your first time using Python, you should definitely check out\n",
      "the tutorial on the Internet at https://docs.python.org/3.8/tutorial/.\n",
      "\n",
      "Enter the name of any module, keyword, or topic to get help on writing\n",
      "Python programs and using Python modules.  To quit this help utility and\n",
      "return to the interpreter, just type \"quit\".\n",
      "\n",
      "To get a list of available modules, keywords, symbols, or topics, type\n",
      "\"modules\", \"keywords\", \"symbols\", or \"topics\".  Each module also comes\n",
      "with a one-line summary of what it does; to list the modules whose name\n",
      "or summary contain a given string such as \"spam\", type \"modules spam\".\n",
      "\n",
      "\n",
      "You are now leaving help and returning to the Python interpreter.\n",
      "If you want to ask for help on a particular object directly from the\n",
      "interpreter, you can type \"help(object)\".  Executing \"help('string')\"\n",
      "has the same effect as typing a particular string at the help> prompt.\n"
     ]
    }
   ],
   "source": [
    "help()"
   ]
  },
  {
   "cell_type": "markdown",
   "id": "3735061e",
   "metadata": {},
   "source": [
    "#### Conclusion\n",
    "| Category        | Examples                                |\n",
    "| --------------- | --------------------------------------- |\n",
    "| Input/Output    | `input()`, `print()`                    |\n",
    "| Type Conversion | `int()`, `float()`, `str()`             |\n",
    "| Math            | `abs()`, `round()`, `pow()`, `sum()`    |\n",
    "| Sequences       | `len()`, `range()`, `sorted()`, `zip()` |\n",
    "| Functional      | `map()`, `filter()`, `lambda`           |\n",
    "| Object Handling | `type()`, `id()`, `isinstance()`        |\n",
    "| File Handling   | `open()`                                |\n",
    "| Misc            | `eval()`, `exec()`, `chr()`, `ord()`    |\n"
   ]
  },
  {
   "cell_type": "code",
   "execution_count": 2,
   "id": "14dd2cde",
   "metadata": {},
   "outputs": [
    {
     "name": "stdout",
     "output_type": "stream",
     "text": [
      "['ArithmeticError', 'AssertionError', 'AttributeError', 'BaseException', 'BlockingIOError', 'BrokenPipeError', 'BufferError', 'BytesWarning', 'ChildProcessError', 'ConnectionAbortedError', 'ConnectionError', 'ConnectionRefusedError', 'ConnectionResetError', 'DeprecationWarning', 'EOFError', 'Ellipsis', 'EnvironmentError', 'Exception', 'False', 'FileExistsError', 'FileNotFoundError', 'FloatingPointError', 'FutureWarning', 'GeneratorExit', 'IOError', 'ImportError', 'ImportWarning', 'IndentationError', 'IndexError', 'InterruptedError', 'IsADirectoryError', 'KeyError', 'KeyboardInterrupt', 'LookupError', 'MemoryError', 'ModuleNotFoundError', 'NameError', 'None', 'NotADirectoryError', 'NotImplemented', 'NotImplementedError', 'OSError', 'OverflowError', 'PendingDeprecationWarning', 'PermissionError', 'ProcessLookupError', 'RecursionError', 'ReferenceError', 'ResourceWarning', 'RuntimeError', 'RuntimeWarning', 'StopAsyncIteration', 'StopIteration', 'SyntaxError', 'SyntaxWarning', 'SystemError', 'SystemExit', 'TabError', 'TimeoutError', 'True', 'TypeError', 'UnboundLocalError', 'UnicodeDecodeError', 'UnicodeEncodeError', 'UnicodeError', 'UnicodeTranslateError', 'UnicodeWarning', 'UserWarning', 'ValueError', 'Warning', 'WindowsError', 'ZeroDivisionError', '__IPYTHON__', '__build_class__', '__debug__', '__doc__', '__import__', '__loader__', '__name__', '__package__', '__spec__', 'abs', 'all', 'any', 'ascii', 'bin', 'bool', 'breakpoint', 'bytearray', 'bytes', 'callable', 'chr', 'classmethod', 'compile', 'complex', 'copyright', 'credits', 'delattr', 'dict', 'dir', 'display', 'divmod', 'enumerate', 'eval', 'exec', 'execfile', 'filter', 'float', 'format', 'frozenset', 'get_ipython', 'getattr', 'globals', 'hasattr', 'hash', 'help', 'hex', 'id', 'input', 'int', 'isinstance', 'issubclass', 'iter', 'len', 'license', 'list', 'locals', 'map', 'max', 'memoryview', 'min', 'next', 'object', 'oct', 'open', 'ord', 'pow', 'print', 'property', 'range', 'repr', 'reversed', 'round', 'runfile', 'set', 'setattr', 'slice', 'sorted', 'staticmethod', 'str', 'sum', 'super', 'tuple', 'type', 'vars', 'zip']\n"
     ]
    }
   ],
   "source": [
    "print (dir(__builtins__))#this show all built in function in pyton"
   ]
  }
 ],
 "metadata": {
  "kernelspec": {
   "display_name": "sum25",
   "language": "python",
   "name": "python3"
  },
  "language_info": {
   "codemirror_mode": {
    "name": "ipython",
    "version": 3
   },
   "file_extension": ".py",
   "mimetype": "text/x-python",
   "name": "python",
   "nbconvert_exporter": "python",
   "pygments_lexer": "ipython3",
   "version": "3.8.20"
  }
 },
 "nbformat": 4,
 "nbformat_minor": 5
}
