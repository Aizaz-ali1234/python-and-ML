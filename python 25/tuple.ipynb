{
 "cells": [
  {
   "cell_type": "markdown",
   "id": "cc16926e",
   "metadata": {},
   "source": [
    "#### Tuple in Pythoon\n",
    "Tuples are also collections of arbitrary objects. to define tuple you will enclose a comma separated sequence of objects in parentheses (()) as  shown below"
   ]
  },
  {
   "cell_type": "code",
   "execution_count": 2,
   "id": "64b61e5f",
   "metadata": {},
   "outputs": [
    {
     "name": "stdout",
     "output_type": "stream",
     "text": [
      "('aizaz', 'umair', 'yahaya', 'nabeel')\n"
     ]
    }
   ],
   "source": [
    "name=('aizaz','umair','yahaya','nabeel')\n",
    "print(name)"
   ]
  },
  {
   "cell_type": "markdown",
   "id": "f67639ea",
   "metadata": {},
   "source": [
    "Tuple are immutable. Its mean that when tuple are define there are no change in tuple.\n",
    "Tuple are used commnly to stoe data in Heterogeneous form."
   ]
  },
  {
   "cell_type": "code",
   "execution_count": 4,
   "id": "48e57154",
   "metadata": {},
   "outputs": [
    {
     "name": "stdout",
     "output_type": "stream",
     "text": [
      "<class 'tuple'>\n",
      "<class 'int'>\n"
     ]
    }
   ],
   "source": [
    "t=(2,)\n",
    "print(type(t))\n",
    "t=(2)\n",
    "print(type(t))"
   ]
  },
  {
   "cell_type": "markdown",
   "id": "dd0c9567",
   "metadata": {},
   "source": [
    "In the first example you create a tuple containing a single value by appending a comma after the value. in the second example you use the parentheses  without the comma. in this case you create an integer value instead of a tuple.\n",
    "You can also create new tuples using the tuple() constructor."
   ]
  },
  {
   "cell_type": "code",
   "execution_count": 5,
   "id": "63264532",
   "metadata": {},
   "outputs": [
    {
     "name": "stdout",
     "output_type": "stream",
     "text": [
      "(0, 1, 2, 3, 4, 5, 6, 7, 8, 9)\n"
     ]
    }
   ],
   "source": [
    "print(tuple(range(10)))"
   ]
  },
  {
   "cell_type": "code",
   "execution_count": 6,
   "id": "9f5fff09",
   "metadata": {},
   "outputs": [
    {
     "name": "stdout",
     "output_type": "stream",
     "text": [
      "('jane', 25, 'norway')\n"
     ]
    }
   ],
   "source": [
    "#tuple are ordered sequence\n",
    "person=('jane',25,'norway')\n",
    "print(person)"
   ]
  },
  {
   "cell_type": "code",
   "execution_count": 13,
   "id": "5eb92c8d",
   "metadata": {},
   "outputs": [
    {
     "name": "stdout",
     "output_type": "stream",
     "text": [
      "0\n",
      "(1, 2)\n"
     ]
    }
   ],
   "source": [
    "#tuple can be indexing\n",
    "name=tuple(range(10))\n",
    "print(name[0])\n",
    "print(name[1:3])\n"
   ]
  },
  {
   "cell_type": "code",
   "execution_count": 21,
   "id": "73254d8f",
   "metadata": {},
   "outputs": [
    {
     "name": "stdout",
     "output_type": "stream",
     "text": [
      "B\n",
      "((2, 3),)\n"
     ]
    }
   ],
   "source": [
    "#list are nested\n",
    "number=('A',(2,3),'B',(4,5),'C')\n",
    "print(number[2])\n",
    "print(number[1:2])"
   ]
  },
  {
   "cell_type": "markdown",
   "id": "fde26b11",
   "metadata": {},
   "source": [
    "In this example you create a nested tuple.\n",
    "in then indexing the tuple."
   ]
  },
  {
   "cell_type": "markdown",
   "id": "79214e41",
   "metadata": {},
   "source": [
    "##### tuple are Immutable\n",
    "if you try to update the value of the tuple then you will get the typeError."
   ]
  },
  {
   "cell_type": "code",
   "execution_count": null,
   "id": "f9525bad",
   "metadata": {},
   "outputs": [
    {
     "ename": "TypeError",
     "evalue": "'tuple' object does not support item assignment",
     "output_type": "error",
     "traceback": [
      "\u001b[1;31m---------------------------------------------------------------------------\u001b[0m",
      "\u001b[1;31mTypeError\u001b[0m                                 Traceback (most recent call last)",
      "Cell \u001b[1;32mIn[22], line 2\u001b[0m\n\u001b[0;32m      1\u001b[0m number\u001b[38;5;241m=\u001b[39m(\u001b[38;5;241m1\u001b[39m,\u001b[38;5;241m2\u001b[39m,\u001b[38;5;241m3\u001b[39m,\u001b[38;5;241m4\u001b[39m,\u001b[38;5;241m5\u001b[39m,\u001b[38;5;241m6\u001b[39m,\u001b[38;5;241m7\u001b[39m)\n\u001b[1;32m----> 2\u001b[0m number[\u001b[38;5;241m1\u001b[39m]\u001b[38;5;241m=\u001b[39m\u001b[38;5;241m8\u001b[39m\n\u001b[0;32m      3\u001b[0m \u001b[38;5;28mprint\u001b[39m(number)\n",
      "\u001b[1;31mTypeError\u001b[0m: 'tuple' object does not support item assignment"
     ]
    }
   ],
   "source": [
    "number=(1,2,3,4,5,6,7)\n",
    "number[1]=8 # the tuple are not update because it is immutable\n",
    "print(number)"
   ]
  },
  {
   "cell_type": "markdown",
   "id": "b87ebbfd",
   "metadata": {},
   "source": [
    "##### packing and unpacking in tuple\n"
   ]
  },
  {
   "cell_type": "code",
   "execution_count": 23,
   "id": "2f840fb6",
   "metadata": {},
   "outputs": [
    {
     "name": "stdout",
     "output_type": "stream",
     "text": [
      "1\n"
     ]
    }
   ],
   "source": [
    "a=(1,2,3,4)\n",
    "s1,s2,s3,s4=a\n",
    "print(s1)"
   ]
  },
  {
   "cell_type": "markdown",
   "id": "4db15468",
   "metadata": {},
   "source": [
    "If you try to pic the less or more value then you will get the value error."
   ]
  },
  {
   "cell_type": "code",
   "execution_count": null,
   "id": "278086a8",
   "metadata": {},
   "outputs": [
    {
     "ename": "ValueError",
     "evalue": "too many values to unpack (expected 3)",
     "output_type": "error",
     "traceback": [
      "\u001b[1;31m---------------------------------------------------------------------------\u001b[0m",
      "\u001b[1;31mValueError\u001b[0m                                Traceback (most recent call last)",
      "Cell \u001b[1;32mIn[25], line 2\u001b[0m\n\u001b[0;32m      1\u001b[0m a\u001b[38;5;241m=\u001b[39m(\u001b[38;5;241m1\u001b[39m,\u001b[38;5;241m2\u001b[39m,\u001b[38;5;241m3\u001b[39m,\u001b[38;5;241m4\u001b[39m)\n\u001b[1;32m----> 2\u001b[0m s1,s2,s3\u001b[38;5;241m=\u001b[39ma\n\u001b[0;32m      3\u001b[0m \u001b[38;5;28mprint\u001b[39m(s1)\n",
      "\u001b[1;31mValueError\u001b[0m: too many values to unpack (expected 3)"
     ]
    }
   ],
   "source": [
    "a=(1,2,3,4)\n",
    "s1,s2,s3=a# the error occure due to you pick the less value\n",
    "print(s1)"
   ]
  },
  {
   "cell_type": "code",
   "execution_count": null,
   "id": "8df33dea",
   "metadata": {},
   "outputs": [
    {
     "ename": "ValueError",
     "evalue": "not enough values to unpack (expected 5, got 4)",
     "output_type": "error",
     "traceback": [
      "\u001b[1;31m---------------------------------------------------------------------------\u001b[0m",
      "\u001b[1;31mValueError\u001b[0m                                Traceback (most recent call last)",
      "Cell \u001b[1;32mIn[26], line 2\u001b[0m\n\u001b[0;32m      1\u001b[0m a\u001b[38;5;241m=\u001b[39m(\u001b[38;5;241m1\u001b[39m,\u001b[38;5;241m2\u001b[39m,\u001b[38;5;241m3\u001b[39m,\u001b[38;5;241m4\u001b[39m)\n\u001b[1;32m----> 2\u001b[0m s1,s2,s3,s4,s5\u001b[38;5;241m=\u001b[39ma\n\u001b[0;32m      3\u001b[0m \u001b[38;5;28mprint\u001b[39m(s1)\n",
      "\u001b[1;31mValueError\u001b[0m: not enough values to unpack (expected 5, got 4)"
     ]
    }
   ],
   "source": [
    "a=(1,2,3,4)\n",
    "s1,s2,s3,s4,s5=a# the error occure due to the more pick vaue\n",
    "print(s1)"
   ]
  }
 ],
 "metadata": {
  "kernelspec": {
   "display_name": "sum25",
   "language": "python",
   "name": "python3"
  },
  "language_info": {
   "codemirror_mode": {
    "name": "ipython",
    "version": 3
   },
   "file_extension": ".py",
   "mimetype": "text/x-python",
   "name": "python",
   "nbconvert_exporter": "python",
   "pygments_lexer": "ipython3",
   "version": "3.8.20"
  }
 },
 "nbformat": 4,
 "nbformat_minor": 5
}
