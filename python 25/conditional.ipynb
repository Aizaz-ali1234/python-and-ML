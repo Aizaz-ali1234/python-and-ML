{
 "cells": [
  {
   "cell_type": "markdown",
   "id": "ad2c9595",
   "metadata": {},
   "source": [
    "### Conditional Statements in Python\n",
    "Conditional statements let your program make decisions based on certain conditions (like yes/no or true/false)\n",
    "There are Three Condition in Python.\n",
    "\n",
    "if\n",
    "\n",
    "elif (else if)\n",
    "\n",
    "else"
   ]
  },
  {
   "cell_type": "markdown",
   "id": "be3ac951",
   "metadata": {},
   "source": [
    "#### IF Condition \n",
    "if the condition is true the code inside the condition run. If the condition is false then outside the condition is run."
   ]
  },
  {
   "cell_type": "code",
   "execution_count": 3,
   "id": "d19a97e9",
   "metadata": {},
   "outputs": [
    {
     "name": "stdout",
     "output_type": "stream",
     "text": [
      "You can vote\n",
      "my name is aizaz\n"
     ]
    }
   ],
   "source": [
    "age = 20\n",
    "\n",
    "if age >= 18:\n",
    "    print(\"You can vote\")\n",
    "print('my name is aizaz')# if the condition is false then this line of code will run"
   ]
  },
  {
   "cell_type": "markdown",
   "id": "fa65369f",
   "metadata": {},
   "source": [
    "In this example the condition is true inside the condition the code run.\n",
    "\n",
    "Note that the colon (:) following <expr> is required. Some programming languages require <expr> to be enclosed in parentheses, but Python does not"
   ]
  },
  {
   "cell_type": "markdown",
   "id": "6e10d1e0",
   "metadata": {},
   "source": [
    "#### if-else \n",
    "If expression is true, the first suite is executed, and the second is skipped. If expression is false, the first suite is skipped and the second is executed."
   ]
  },
  {
   "cell_type": "code",
   "execution_count": 4,
   "id": "af24a364",
   "metadata": {},
   "outputs": [
    {
     "name": "stdout",
     "output_type": "stream",
     "text": [
      "Fail\n"
     ]
    }
   ],
   "source": [
    "marks = 45\n",
    "\n",
    "if marks >= 50:\n",
    "    print(\"Pass\")\n",
    "else:\n",
    "    print(\"Fail\")"
   ]
  },
  {
   "cell_type": "markdown",
   "id": "4e2faa68",
   "metadata": {},
   "source": [
    "In this example the if statement is flas and the else statement is true the else statement is print."
   ]
  },
  {
   "cell_type": "markdown",
   "id": "1fbd8c60",
   "metadata": {},
   "source": [
    "#### One-Line if Statements"
   ]
  },
  {
   "cell_type": "code",
   "execution_count": 5,
   "id": "9014031a",
   "metadata": {},
   "outputs": [
    {
     "name": "stdout",
     "output_type": "stream",
     "text": [
      "x is greater then 5\n",
      "the condition is true\n"
     ]
    }
   ],
   "source": [
    "x=5\n",
    "if x>3:print('x is greater then 5');print('the condition is true');"
   ]
  },
  {
   "cell_type": "markdown",
   "id": "3e229969",
   "metadata": {},
   "source": [
    "#### If-elif-else\n",
    "the elif condition check more then two condition.\n",
    "if the if condition is true then the if stetement is execute. if the elif condition is true then the elif condition is execute. if all condition is false then the else condition is execute."
   ]
  },
  {
   "cell_type": "code",
   "execution_count": 16,
   "id": "53d0292d",
   "metadata": {},
   "outputs": [
    {
     "name": "stdout",
     "output_type": "stream",
     "text": [
      "Grade B\n"
     ]
    }
   ],
   "source": [
    "score = 80\n",
    "\n",
    "if score >= 90:\n",
    "    print(\"Grade A\")\n",
    "elif score >= 75:\n",
    "    print(\"Grade B\")\n",
    "else:\n",
    "    print(\"Grade C\")"
   ]
  },
  {
   "cell_type": "markdown",
   "id": "8dcea6ac",
   "metadata": {},
   "source": [
    "#### Indentation in condition statment in python\n",
    "In Python, indentation (space before a line) is very important. It tells Python which code belongs to a block (like inside an if, else, loop, or function).\n",
    "\n",
    "Unlike other languages that use { }, Python uses indentation to group lines of code."
   ]
  },
  {
   "cell_type": "code",
   "execution_count": 17,
   "id": "1aa02ecc",
   "metadata": {},
   "outputs": [
    {
     "name": "stdout",
     "output_type": "stream",
     "text": [
      "x is greater than 5\n",
      "Condition is True\n"
     ]
    }
   ],
   "source": [
    "x = 10\n",
    "\n",
    "if x > 5:\n",
    "    print(\"x is greater than 5\")  # This line is indented. it is part of the if block\n",
    "    print(\"Condition is True\")    # this line also inside the if"
   ]
  },
  {
   "cell_type": "code",
   "execution_count": 18,
   "id": "2739e615",
   "metadata": {},
   "outputs": [
    {
     "ename": "IndentationError",
     "evalue": "expected an indented block (1697637335.py, line 4)",
     "output_type": "error",
     "traceback": [
      "\u001b[1;36m  Cell \u001b[1;32mIn[18], line 4\u001b[1;36m\u001b[0m\n\u001b[1;33m    print(\"x is greater than 5\")  # This  give an IndentationError\u001b[0m\n\u001b[1;37m    ^\u001b[0m\n\u001b[1;31mIndentationError\u001b[0m\u001b[1;31m:\u001b[0m expected an indented block\n"
     ]
    }
   ],
   "source": [
    "x = 10\n",
    "\n",
    "if x > 5:\n",
    "print(\"x is greater than 5\")  # This  give an IndentationError"
   ]
  },
  {
   "cell_type": "markdown",
   "id": "f49899d0",
   "metadata": {},
   "source": [
    "this error occur because of indentation you do not use the space after statement."
   ]
  },
  {
   "cell_type": "markdown",
   "id": "c3300d47",
   "metadata": {},
   "source": [
    "Indentation tells Python what code belongs to what block.\n",
    "\n",
    "Always indent after if, else, elif, for, while, def, etc.\n",
    "\n",
    "Use consistent indentation (preferably 4 spaces)."
   ]
  }
 ],
 "metadata": {
  "kernelspec": {
   "display_name": "sum25",
   "language": "python",
   "name": "python3"
  },
  "language_info": {
   "codemirror_mode": {
    "name": "ipython",
    "version": 3
   },
   "file_extension": ".py",
   "mimetype": "text/x-python",
   "name": "python",
   "nbconvert_exporter": "python",
   "pygments_lexer": "ipython3",
   "version": "3.8.20"
  }
 },
 "nbformat": 4,
 "nbformat_minor": 5
}
