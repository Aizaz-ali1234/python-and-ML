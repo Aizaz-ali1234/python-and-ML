{
 "cells": [
  {
   "cell_type": "markdown",
   "id": "dd1c142b",
   "metadata": {},
   "source": [
    "###  Loops in Python"
   ]
  },
  {
   "cell_type": "markdown",
   "id": "15db73e8",
   "metadata": {},
   "source": [
    "loops are control flow statements that allow you to repeat a given set of operations a number of times. "
   ]
  },
  {
   "cell_type": "markdown",
   "id": "98b063f8",
   "metadata": {},
   "source": [
    "#### For loops \n",
    "for loops are mostly used to iterate a known number of times, which is common when you’re processing data collections with a specific number of data items"
   ]
  },
  {
   "cell_type": "markdown",
   "id": "41feafdf",
   "metadata": {},
   "source": [
    "#### While loops\n",
    "While loops are commonly used to iterate an unknown number of times, which is useful when the number of iterations depends on a given condition"
   ]
  },
  {
   "cell_type": "code",
   "execution_count": 8,
   "id": "540334bf",
   "metadata": {},
   "outputs": [
    {
     "name": "stdout",
     "output_type": "stream",
     "text": [
      "0\n",
      "1\n",
      "2\n",
      "3\n",
      "4\n",
      "5\n",
      "6\n",
      "7\n",
      "8\n",
      "9\n"
     ]
    }
   ],
   "source": [
    "for i in range (10):\n",
    " print(i)"
   ]
  },
  {
   "cell_type": "markdown",
   "id": "b627d62d",
   "metadata": {},
   "source": [
    "for i in range(10):\n",
    "This is a for loop.\n",
    "\n",
    "range(10) creates a sequence of numbers from 0 to 9 (10 is not included).\n",
    "\n",
    "i is a loop variable that takes each value from the range one by one."
   ]
  },
  {
   "cell_type": "markdown",
   "id": "68b82dc9",
   "metadata": {},
   "source": [
    "using for loop in a list:"
   ]
  },
  {
   "cell_type": "code",
   "execution_count": 11,
   "id": "90e2c5c2",
   "metadata": {},
   "outputs": [
    {
     "name": "stdout",
     "output_type": "stream",
     "text": [
      "red\n",
      "green\n",
      "yellow\n",
      "orange\n",
      "white\n"
     ]
    }
   ],
   "source": [
    "color=['red','green','yellow','orange','white']\n",
    "for color in color:\n",
    "    print(color)\n"
   ]
  },
  {
   "cell_type": "markdown",
   "id": "3955b910",
   "metadata": {},
   "source": [
    "This is a for loop.\n",
    "\n",
    "It loops through each item in the list color.\n",
    "\n",
    "In each loop cycle the variable color will take the value of one element from the list."
   ]
  },
  {
   "cell_type": "code",
   "execution_count": 19,
   "id": "53bcb52a",
   "metadata": {},
   "outputs": [
    {
     "name": "stdout",
     "output_type": "stream",
     "text": [
      "x=1 and y=2 and z=3\n",
      "x=3 and y=4 and z=5\n",
      "x=1 and y=3 and z=6\n",
      "x=7 and y=8 and z=9\n"
     ]
    }
   ],
   "source": [
    "no=[(1,2,3),(3,4,5),(1,3,6),(7,8,9)]\n",
    "for x,y,z in no:\n",
    "    print(f\"{x=}\",\"and\"f\"{ y=}\"' and' f'{ z=}')"
   ]
  },
  {
   "cell_type": "markdown",
   "id": "ffdd3c5b",
   "metadata": {},
   "source": [
    "how this code work.\n",
    "\n",
    "This creates a list of tuples.\n",
    "\n",
    "Each tuple has two numbers.\n",
    "\n",
    "This uses tuple unpacking.\n",
    "\n",
    "It loops through each tuple and assigns the first value to x and second value to y.\n",
    "\n",
    "f\"{x=}\" shows the variable name and its value, like: x=1\n",
    "\n",
    "\"and\" is just a string separator.\n",
    "\n",
    "f\"{y=}\" shows y=2, etc up to end."
   ]
  },
  {
   "cell_type": "code",
   "execution_count": 21,
   "id": "556d05a0",
   "metadata": {},
   "outputs": [
    {
     "name": "stdout",
     "output_type": "stream",
     "text": [
      "Aizaz\n",
      "18\n",
      "Buner\n",
      "UET Jalozai\n"
     ]
    }
   ],
   "source": [
    "data=('Aizaz',18,'Buner','UET Jalozai')\n",
    "for i in data:\n",
    "    print(i)"
   ]
  },
  {
   "cell_type": "code",
   "execution_count": 22,
   "id": "40048f7c",
   "metadata": {},
   "outputs": [
    {
     "name": "stdout",
     "output_type": "stream",
     "text": [
      "A\n",
      "B\n",
      "C\n",
      "D\n",
      "E\n",
      "F\n"
     ]
    }
   ],
   "source": [
    "text='ABCDEF'\n",
    "for alpabet in text:\n",
    "    print(alpabet)"
   ]
  },
  {
   "cell_type": "code",
   "execution_count": 23,
   "id": "5aefd5a9",
   "metadata": {},
   "outputs": [
    {
     "name": "stdout",
     "output_type": "stream",
     "text": [
      "0\n",
      "1\n",
      "2\n",
      "3\n",
      "4\n"
     ]
    }
   ],
   "source": [
    "for index in range(5):\n",
    "    print(index)"
   ]
  },
  {
   "cell_type": "markdown",
   "id": "3c2ec261",
   "metadata": {},
   "source": [
    "#### Collections: Dictionaries and Sets"
   ]
  },
  {
   "cell_type": "markdown",
   "id": "2068f8d0",
   "metadata": {},
   "source": [
    "You’ll have two different ways to iterate over the keys of a dictionary. You can either use:\n",
    "\n",
    "The dictionary directly.\n",
    "\n",
    "The .keys() method"
   ]
  },
  {
   "cell_type": "code",
   "execution_count": 24,
   "id": "82c95cc9",
   "metadata": {},
   "outputs": [
    {
     "name": "stdout",
     "output_type": "stream",
     "text": [
      "aizaz\n",
      "abdur\n",
      "rahman\n",
      "fahad\n"
     ]
    }
   ],
   "source": [
    "student={\n",
    "    'aizaz':50,\n",
    "    'abdur':60,\n",
    "    'rahman':70,\n",
    "    'fahad':80,\n",
    "}\n",
    "for student in student:\n",
    "    print(student)"
   ]
  },
  {
   "cell_type": "code",
   "execution_count": 25,
   "id": "ba05cdd7",
   "metadata": {},
   "outputs": [
    {
     "name": "stdout",
     "output_type": "stream",
     "text": [
      "aizaz\n",
      "abdur\n",
      "rahman\n",
      "fahad\n"
     ]
    }
   ],
   "source": [
    "student={\n",
    "    'aizaz':50,\n",
    "    'abdur':60,\n",
    "    'rahman':70,\n",
    "    'fahad':80,\n",
    "}\n",
    "for student in student.keys():\n",
    "    print(student)"
   ]
  },
  {
   "cell_type": "code",
   "execution_count": 26,
   "id": "9bef0ea2",
   "metadata": {},
   "outputs": [
    {
     "name": "stdout",
     "output_type": "stream",
     "text": [
      "50\n",
      "60\n",
      "70\n",
      "80\n"
     ]
    }
   ],
   "source": [
    "student={\n",
    "    'aizaz':50,\n",
    "    'abdur':60,\n",
    "    'rahman':70,\n",
    "    'fahad':80,\n",
    "}\n",
    "for student in student.values():\n",
    "    print(student)"
   ]
  },
  {
   "cell_type": "code",
   "execution_count": null,
   "id": "5d68ab1e",
   "metadata": {},
   "outputs": [
    {
     "name": "stdout",
     "output_type": "stream",
     "text": [
      "aizaz 50\n",
      "abdur 60\n",
      "rahman 70\n",
      "fahad 80\n"
     ]
    }
   ],
   "source": [
    "students={\n",
    "    'aizaz':50,\n",
    "    'abdur':60,\n",
    "    'rahman':70,\n",
    "    'fahad':80,\n",
    "}\n",
    "for student in students:#for value,student in students.items():\n",
    "    print(student,students[student])#print(value, student)"
   ]
  },
  {
   "cell_type": "markdown",
   "id": "7b2c66b6",
   "metadata": {},
   "source": [
    "There are different way to use dictionaries in for loop.\n",
    "you can use .key() operator to print the output of all the key in a loop.\n",
    "you can use .value to print the value."
   ]
  },
  {
   "cell_type": "code",
   "execution_count": 35,
   "id": "9cddd407",
   "metadata": {},
   "outputs": [
    {
     "name": "stdout",
     "output_type": "stream",
     "text": [
      "Django\n",
      "NumPy\n",
      "Flask\n",
      "pandas\n"
     ]
    }
   ],
   "source": [
    "tools = {\"Django\", \"Flask\", \"pandas\", \"NumPy\"}\n",
    "for tool in tools:\n",
    "    print(tool)"
   ]
  },
  {
   "cell_type": "markdown",
   "id": "e276297a",
   "metadata": {},
   "source": [
    "#### The break statement "
   ]
  },
  {
   "cell_type": "code",
   "execution_count": 39,
   "id": "433ad2c4",
   "metadata": {},
   "outputs": [
    {
     "name": "stdout",
     "output_type": "stream",
     "text": [
      "number1\n",
      "number2\n",
      "number of target2\n"
     ]
    }
   ],
   "source": [
    "number=[1,2,3,4,5]\n",
    "target=2\n",
    "for number in number:\n",
    "    print(f'number{number}')\n",
    "    if number==target:\n",
    "        print(f'number of target{target}')\n",
    "        break"
   ]
  },
  {
   "cell_type": "markdown",
   "id": "b9f38f6c",
   "metadata": {},
   "source": [
    "The meaning of the code:\n",
    "using break statement in for loop. The loop goes untell the target was found. When the target were found the loop stop.it donot print the 3 4 5."
   ]
  },
  {
   "cell_type": "markdown",
   "id": "d567eb98",
   "metadata": {},
   "source": [
    "#### The continue Statement:"
   ]
  },
  {
   "cell_type": "code",
   "execution_count": 69,
   "id": "8521620b",
   "metadata": {},
   "outputs": [
    {
     "name": "stdout",
     "output_type": "stream",
     "text": [
      "1\n",
      "2\n",
      "3\n",
      "4\n",
      "6\n",
      "7\n",
      "8\n",
      "9\n"
     ]
    }
   ],
   "source": [
    "numbers = [1, 2, 3, 4, 5, 6,7,8,9]\n",
    "\n",
    "for number in numbers:\n",
    "     if number  == 5:\n",
    "         continue\n",
    "     print(number)"
   ]
  },
  {
   "cell_type": "code",
   "execution_count": 74,
   "id": "9f92a3c2",
   "metadata": {},
   "outputs": [
    {
     "name": "stdout",
     "output_type": "stream",
     "text": [
      "number=1\n",
      "1 is odd\n",
      "number=2\n",
      "number=3\n",
      "3 is odd\n",
      "number=4\n",
      "number=5\n",
      "5 is odd\n",
      "number=6\n",
      "number=7\n",
      "7 is odd\n",
      "number=8\n",
      "number=9\n",
      "9 is odd\n"
     ]
    }
   ],
   "source": [
    "numbers=[1,2,3,4,5,6,7,8,9]\n",
    "for number in numbers:\n",
    "    print(f\"{number=}\")\n",
    "    if number % 2 == 0:\n",
    "        continue\n",
    "    print(f\"{number} is odd\")          "
   ]
  },
  {
   "cell_type": "markdown",
   "id": "9a578352",
   "metadata": {},
   "source": [
    "In this example, the code that processes the numbers is only reached if the number is even. Otherwise, the continue statement skips that code and jumps right into the next iteration."
   ]
  },
  {
   "cell_type": "code",
   "execution_count": 85,
   "id": "0d8a166d",
   "metadata": {},
   "outputs": [
    {
     "name": "stdout",
     "output_type": "stream",
     "text": [
      "number 1\n",
      "number 2\n",
      "number 3\n",
      "target is 3\n"
     ]
    }
   ],
   "source": [
    "# else statement\n",
    "numbers=[1,2,3,4,5,6]\n",
    "target=3\n",
    "for number in numbers:\n",
    "    print(f'number {number}')\n",
    "    if number==target:\n",
    "        print(f'target is {target}')\n",
    "        break\n",
    "else:\n",
    "    print(f'target was not found {target}')"
   ]
  },
  {
   "cell_type": "code",
   "execution_count": 86,
   "id": "503bc84b",
   "metadata": {},
   "outputs": [
    {
     "name": "stdout",
     "output_type": "stream",
     "text": [
      "number 1\n",
      "number 2\n",
      "number 3\n",
      "number 4\n",
      "number 5\n",
      "number 6\n",
      "target was not found 30\n"
     ]
    }
   ],
   "source": [
    "# else statement\n",
    "numbers=[1,2,3,4,5,6]\n",
    "target=30\n",
    "for number in numbers:\n",
    "    print(f'number {number}')\n",
    "    if number==target:\n",
    "        print(f'target is {target}')\n",
    "        break\n",
    "else:\n",
    "    print(f'target was not found {target}')"
   ]
  },
  {
   "cell_type": "markdown",
   "id": "02f46cc3",
   "metadata": {},
   "source": [
    "The else clause won’t run if the loop breaks out with the break statement. It only runs if the loop terminates normally, allowing you to inform the user that the target number wasn’t found."
   ]
  },
  {
   "cell_type": "code",
   "execution_count": null,
   "id": "582989a5",
   "metadata": {},
   "outputs": [
    {
     "name": "stdout",
     "output_type": "stream",
     "text": [
      "    1    2    3    4    5    6    7    8    9   10\n",
      "    2    4    6    8   10   12   14   16   18   20\n",
      "    3    6    9   12   15   18   21   24   27   30\n",
      "    4    8   12   16   20   24   28   32   36   40\n",
      "    5   10   15   20   25   30   35   40   45   50\n",
      "    6   12   18   24   30   36   42   48   54   60\n",
      "    7   14   21   28   35   42   49   56   63   70\n",
      "    8   16   24   32   40   48   56   64   72   80\n",
      "    9   18   27   36   45   54   63   72   81   90\n",
      "   10   20   30   40   50   60   70   80   90  100\n"
     ]
    }
   ],
   "source": [
    "for number in range(1,11):#This outer loop runs from 1 to 10\n",
    "    for product in range(number,number*11,number):#This inner loop starts from number and goes up to number * 10 (but non-inclusive of number*11) with a step of number.\n",
    "        print(f'{product:>5d}',end=\"\") # :>nd use for space \n",
    "    print()#end= don not go to another line if each number is same"
   ]
  },
  {
   "cell_type": "code",
   "execution_count": null,
   "id": "02f54dc5",
   "metadata": {},
   "outputs": [
    {
     "name": "stdout",
     "output_type": "stream",
     "text": [
      "0 orange\n",
      "1 banana\n",
      "2 apple\n",
      "3 water mellon\n"
     ]
    }
   ],
   "source": [
    "fruits=['orange','banana','apple','water mellon']\n",
    "for index,fruite in enumerate(fruits):#there’s a better way—the built-in enumerate() function:\n",
    "    print(index,fruite)"
   ]
  },
  {
   "cell_type": "markdown",
   "id": "41cff826",
   "metadata": {},
   "source": [
    "The enumerate() function adds a counter (index) to an iterable (like a list, string, or tuple) and returns it as a tuple of (index, item)."
   ]
  },
  {
   "cell_type": "code",
   "execution_count": 98,
   "id": "cb9499f1",
   "metadata": {},
   "outputs": [
    {
     "name": "stdout",
     "output_type": "stream",
     "text": [
      "0 orange\n",
      "1 banana\n",
      "2 apple\n",
      "3 water mellon\n"
     ]
    }
   ],
   "source": [
    "fruites=['orange','banana','apple','water mellon']\n",
    "for index in range(len(fruites)):\n",
    "    fruite=fruites[index]\n",
    "    print(index, fruite)"
   ]
  },
  {
   "cell_type": "markdown",
   "id": "7c727f37",
   "metadata": {},
   "source": [
    "#### Looping Over Several Iterables in Parallel\n",
    "Looping through two or more iterables in parallel may be another common task you encounter in Python programming. To do this, you can use the built-in zip() function, which takes two or more iterables and yields tuples that combine items from each iterable."
   ]
  },
  {
   "cell_type": "code",
   "execution_count": 99,
   "id": "1782c065",
   "metadata": {},
   "outputs": [
    {
     "name": "stdout",
     "output_type": "stream",
     "text": [
      "1 a\n",
      "2 b\n",
      "3 c\n",
      "4 d\n",
      "5 f\n"
     ]
    }
   ],
   "source": [
    "number=[1,2,3,4,5]\n",
    "letter=['a','b','c','d','f']\n",
    "for number,letter in zip(number,letter):\n",
    "    print(number,letter)"
   ]
  },
  {
   "cell_type": "markdown",
   "id": "e5beca10",
   "metadata": {},
   "source": [
    "#### Iterating Over Multiple Iterables Sequentially\n",
    "There may be times when you need to iterate over multiple iterables sequentially in a single loop. In such cases, you can use the chain() function from Python’s itertools module."
   ]
  },
  {
   "cell_type": "code",
   "execution_count": null,
   "id": "d5d70ba4",
   "metadata": {},
   "outputs": [
    {
     "name": "stdout",
     "output_type": "stream",
     "text": [
      "1\n",
      "4\n",
      "9\n",
      "16\n",
      "25\n",
      "36\n",
      "16\n",
      "25\n",
      "36\n",
      "49\n",
      "64\n",
      "81\n"
     ]
    }
   ],
   "source": [
    "from itertools import chain\n",
    "numebers=[1,2,3]\n",
    "num2=[4,5,6]\n",
    "num3=[7,8,9]\n",
    "for value in chain(numbers,num2,num3):\n",
    "    print(value**2)\n"
   ]
  },
  {
   "cell_type": "code",
   "execution_count": 103,
   "id": "a829312c",
   "metadata": {},
   "outputs": [
    {
     "name": "stdout",
     "output_type": "stream",
     "text": [
      "81\n",
      "9\n",
      "64\n",
      "16\n",
      "25\n",
      "4\n",
      "36\n",
      "16\n",
      "9\n"
     ]
    }
   ],
   "source": [
    "matrix = [\n",
    "     [9, 3, 8],\n",
    "     [4, 5, 2],\n",
    "     [6, 4, 3],\n",
    " ]\n",
    "for value in chain(*matrix):\n",
    "    print(value**2)"
   ]
  },
  {
   "cell_type": "code",
   "execution_count": null,
   "id": "cd12be46",
   "metadata": {},
   "outputs": [
    {
     "name": "stdout",
     "output_type": "stream",
     "text": [
      "Knock, knock, knock\n",
      "penny!\n",
      "Knock, knock, knock\n",
      "penny!\n",
      "Knock, knock, knock\n",
      "penny!\n"
     ]
    }
   ],
   "source": [
    "for _ in range(3):#Note that the loop variable is a single underscore character in this example\n",
    "    print(\"Knock, knock, knock\")\n",
    "    print(\"penny!\")"
   ]
  },
  {
   "cell_type": "markdown",
   "id": "44fb7593",
   "metadata": {},
   "source": [
    "#### Iterating Over Reversed and Sorted Iterables\n",
    "reversed function mean the loop are reverse the lest and prent."
   ]
  },
  {
   "cell_type": "code",
   "execution_count": 105,
   "id": "d0e49763",
   "metadata": {},
   "outputs": [
    {
     "name": "stdout",
     "output_type": "stream",
     "text": [
      "Hello younas\n",
      "Hello waqar\n",
      "Hello ali\n",
      "Hello aizaz\n"
     ]
    }
   ],
   "source": [
    "name=['aizaz','ali','waqar','younas']\n",
    "for name in reversed(name):\n",
    "    print(f'Hello {name}')"
   ]
  },
  {
   "cell_type": "markdown",
   "id": "3d9e3d0c",
   "metadata": {},
   "source": [
    "#### Understanding the common pitfalls in for loops"
   ]
  },
  {
   "cell_type": "code",
   "execution_count": 114,
   "id": "924ff43c",
   "metadata": {},
   "outputs": [
    {
     "name": "stdout",
     "output_type": "stream",
     "text": [
      "2\n",
      "6\n"
     ]
    }
   ],
   "source": [
    "numbers = [2, 4, 6, 8]\n",
    "\n",
    "for number in numbers:\n",
    "     if number % 2 == 0:\n",
    "         numbers.remove(number)\n",
    "         print(number)"
   ]
  },
  {
   "cell_type": "code",
   "execution_count": null,
   "id": "0dc57409",
   "metadata": {},
   "outputs": [
    {
     "name": "stdout",
     "output_type": "stream",
     "text": [
      "[]\n"
     ]
    }
   ],
   "source": [
    "numbers = [2, 4, 6, 8]\n",
    "\n",
    "for number in numbers[:]:\n",
    "     if number % 2 == 0:\n",
    "         numbers.remove(number)\n",
    "print(numbers)"
   ]
  },
  {
   "cell_type": "code",
   "execution_count": 130,
   "id": "4f7c9c20",
   "metadata": {},
   "outputs": [
    {
     "name": "stdout",
     "output_type": "stream",
     "text": [
      "1\n",
      "25\n"
     ]
    }
   ],
   "source": [
    "numbers = [2, 1, 4, 6, 5, 8]\n",
    "num=[]\n",
    "for number in numbers:\n",
    "    if number%2!=0:\n",
    "        num.append(number)\n",
    "        print(number**2)"
   ]
  },
  {
   "cell_type": "code",
   "execution_count": null,
   "id": "ccddd304",
   "metadata": {},
   "outputs": [
    {
     "name": "stdout",
     "output_type": "stream",
     "text": [
      "ALICE\n",
      "BOB\n",
      "JOHN\n",
      "JANE\n",
      "JANE\n"
     ]
    }
   ],
   "source": [
    "names = [\"Alice\", \"Bob\", \"John\", \"Jane\"]\n",
    "\n",
    "for name in names:\n",
    "     name = name.upper()\n",
    "     print(name)\n"
   ]
  },
  {
   "cell_type": "markdown",
   "id": "2f0b3648",
   "metadata": {},
   "source": [
    "#### Using for Loops vs Comprehensions\n",
    "When you use for loops to transform data and build new collections, it may be possible to replace the loop with a comprehension."
   ]
  },
  {
   "cell_type": "code",
   "execution_count": 140,
   "id": "7fd748da",
   "metadata": {},
   "outputs": [
    {
     "name": "stdout",
     "output_type": "stream",
     "text": [
      "0\n",
      "1\n",
      "4\n",
      "9\n",
      "16\n",
      "25\n",
      "36\n",
      "49\n",
      "64\n",
      "81\n"
     ]
    }
   ],
   "source": [
    "squar=[]\n",
    "for number in range(10):\n",
    "    squar.append(number)\n",
    "    print(number**2)"
   ]
  },
  {
   "cell_type": "markdown",
   "id": "3a4fdb1f",
   "metadata": {},
   "source": [
    "You can quickly replace the above loop with a list comprehension like the following:"
   ]
  },
  {
   "cell_type": "code",
   "execution_count": 147,
   "id": "134ed940",
   "metadata": {},
   "outputs": [
    {
     "name": "stdout",
     "output_type": "stream",
     "text": [
      "[0, 1, 4, 9, 16, 25, 36, 49, 64, 81]\n"
     ]
    }
   ],
   "source": [
    "square=[number**2 for number in range(10)]\n",
    "print(square)"
   ]
  }
 ],
 "metadata": {
  "kernelspec": {
   "display_name": "sum25",
   "language": "python",
   "name": "python3"
  },
  "language_info": {
   "codemirror_mode": {
    "name": "ipython",
    "version": 3
   },
   "file_extension": ".py",
   "mimetype": "text/x-python",
   "name": "python",
   "nbconvert_exporter": "python",
   "pygments_lexer": "ipython3",
   "version": "3.8.20"
  }
 },
 "nbformat": 4,
 "nbformat_minor": 5
}
