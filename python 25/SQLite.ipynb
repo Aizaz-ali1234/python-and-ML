{
 "cells": [
  {
   "cell_type": "markdown",
   "id": "349afb1b",
   "metadata": {},
   "source": [
    "### SQLite Database in python"
   ]
  },
  {
   "cell_type": "markdown",
   "id": "5ee33c7b",
   "metadata": {},
   "source": [
    "when we use the sqlite in pyhton we start from some steps."
   ]
  },
  {
   "cell_type": "markdown",
   "id": "e3560b51",
   "metadata": {},
   "source": [
    "step 1: import sqlite."
   ]
  },
  {
   "cell_type": "code",
   "execution_count": 1,
   "id": "220f0c41",
   "metadata": {},
   "outputs": [],
   "source": [
    "import sqlite3"
   ]
  },
  {
   "cell_type": "markdown",
   "id": "38fa92e8",
   "metadata": {},
   "source": [
    "step 2:connect to database.\n",
    "\n",
    "when we use the sqlite database in python then we use the connection method."
   ]
  },
  {
   "cell_type": "code",
   "execution_count": 2,
   "id": "a5bcde1f",
   "metadata": {},
   "outputs": [],
   "source": [
    "conn=sqlite3.connect('sqlite.db')"
   ]
  },
  {
   "cell_type": "markdown",
   "id": "f11dfafb",
   "metadata": {},
   "source": [
    "step 3: create a table.\n",
    "\n",
    "We create a cursor object to interact wiht the database and use the execute() mehtod to create a table with desired columns."
   ]
  },
  {
   "cell_type": "code",
   "execution_count": 3,
   "id": "440d663b",
   "metadata": {},
   "outputs": [],
   "source": [
    "cursor =conn.cursor()\n",
    "cursor.execute(\"\"\"CREATE TABLE IF NOT EXISTS employees\n",
    "                  (id INTEGER PRIMARY KEY, name TEXT, position TEXT, salary REAL)\"\"\")\n",
    "conn.commit()"
   ]
  },
  {
   "cell_type": "markdown",
   "id": "5115cc7e",
   "metadata": {},
   "source": [
    "step 4: insert data into the table.\n",
    "\n",
    "we can insert data into the table using the execute() mehtod with placeholders:"
   ]
  },
  {
   "cell_type": "code",
   "execution_count": 4,
   "id": "9e3ffa34",
   "metadata": {},
   "outputs": [],
   "source": [
    "cursor.execute(\"INSERT INTO employees (name, position, salary) VALUES (?, ?, ?)\", ('John Doe', 'Software Engineer', 80000))\n",
    "conn.commit()"
   ]
  },
  {
   "cell_type": "markdown",
   "id": "4b014e58",
   "metadata": {},
   "source": [
    "Step 5: Query the data from the table.\n",
    "\n",
    "To query data from the table, we use the execute() method to run a SELECT statement and the fetchall() method to retrieve the results:"
   ]
  },
  {
   "cell_type": "code",
   "execution_count": 5,
   "id": "4051cfa2",
   "metadata": {},
   "outputs": [
    {
     "name": "stdout",
     "output_type": "stream",
     "text": [
      "(1, 'John Doe', 'Software Engineer', 80000.0)\n"
     ]
    }
   ],
   "source": [
    "cursor.execute(\"SELECT * FROM employees\")\n",
    "rows = cursor.fetchall()\n",
    "for row in rows:\n",
    "    print(row)"
   ]
  },
  {
   "cell_type": "markdown",
   "id": "b6358596",
   "metadata": {},
   "source": [
    "step 6: Update the data in the table.\n",
    "\n",
    "To update data in the table, we use the execute() method with an UPDATE statement:"
   ]
  },
  {
   "cell_type": "code",
   "execution_count": 6,
   "id": "1c9e931e",
   "metadata": {},
   "outputs": [],
   "source": [
    "cursor.execute(\"UPDATE employees SET salary = ? WHERE id = ?\", (90000, 1))\n",
    "conn.commit()"
   ]
  },
  {
   "cell_type": "markdown",
   "id": "79f6af37",
   "metadata": {},
   "source": [
    "Step 7: Delete data from the table.\n",
    "\n",
    "To delete data from the table, we use the execute() method with a DELETE statement:"
   ]
  },
  {
   "cell_type": "code",
   "execution_count": 7,
   "id": "c293eadb",
   "metadata": {},
   "outputs": [],
   "source": [
    "cursor.execute(\"DELETE FROM employees WHERE id = ?\", (1,))\n",
    "conn.commit()"
   ]
  },
  {
   "cell_type": "markdown",
   "id": "0f397bf3",
   "metadata": {},
   "source": [
    "Step 8: Close the connection.\n",
    "\n",
    "It’s essential to close the connection when you’re done interacting with the database:"
   ]
  },
  {
   "cell_type": "code",
   "execution_count": 8,
   "id": "8f57a0fa",
   "metadata": {},
   "outputs": [],
   "source": [
    "conn.close()"
   ]
  },
  {
   "cell_type": "code",
   "execution_count": 9,
   "id": "77df07b1",
   "metadata": {},
   "outputs": [
    {
     "name": "stdout",
     "output_type": "stream",
     "text": [
      "--- all contacts ---\n",
      "{'id': 1, 'name': 'Alice', 'email': 'alice@example.com', 'phone': '555-0100', 'created_at': '2025-08-08 11:46:05'}\n",
      "{'id': 2, 'name': 'Bob', 'email': 'bob@example.com', 'phone': '555-0110', 'created_at': '2025-08-08 11:46:05'}\n",
      "{'id': 3, 'name': 'Charlie', 'email': 'charlie@example.com', 'phone': None, 'created_at': '2025-08-08 11:46:05'}\n",
      "---------------------\n",
      "Found Bob: {'id': 2, 'name': 'Bob', 'email': 'bob@example.com', 'phone': '555-0110', 'created_at': '2025-08-08 11:46:05'}\n",
      "After phone update:\n",
      "--- all contacts ---\n",
      "{'id': 1, 'name': 'Alice', 'email': 'alice@example.com', 'phone': '555-0100', 'created_at': '2025-08-08 11:46:05'}\n",
      "{'id': 2, 'name': 'Bob', 'email': 'bob@example.com', 'phone': '555-9999', 'created_at': '2025-08-08 11:46:05'}\n",
      "{'id': 3, 'name': 'Charlie', 'email': 'charlie@example.com', 'phone': None, 'created_at': '2025-08-08 11:46:05'}\n",
      "---------------------\n",
      "Transaction failed, rolled back: UNIQUE constraint failed: contacts.email\n",
      "After transaction attempt:\n",
      "--- all contacts ---\n",
      "{'id': 1, 'name': 'Alice', 'email': 'alice@example.com', 'phone': '555-0100', 'created_at': '2025-08-08 11:46:05'}\n",
      "{'id': 2, 'name': 'Bob', 'email': 'bob@example.com', 'phone': '555-9999', 'created_at': '2025-08-08 11:46:05'}\n",
      "{'id': 3, 'name': 'Charlie', 'email': 'charlie@example.com', 'phone': None, 'created_at': '2025-08-08 11:46:05'}\n",
      "---------------------\n",
      "After delete:\n",
      "--- all contacts ---\n",
      "{'id': 1, 'name': 'Alice', 'email': 'alice@example.com', 'phone': '555-0100', 'created_at': '2025-08-08 11:46:05'}\n",
      "{'id': 2, 'name': 'Bob', 'email': 'bob@example.com', 'phone': '555-9999', 'created_at': '2025-08-08 11:46:05'}\n",
      "---------------------\n"
     ]
    }
   ],
   "source": [
    "# sample_world.py\n",
    "import sqlite3\n",
    "from sqlite3 import IntegrityError\n",
    "\n",
    "DB = \"sample_world.db\"\n",
    "\n",
    "def get_conn(db=DB):\n",
    "    # Use a row factory so results are accessible by column name: row[\"name\"]\n",
    "    conn = sqlite3.connect(db)\n",
    "    conn.row_factory = sqlite3.Row\n",
    "    # enable foreign keys if you plan to use them\n",
    "    conn.execute(\"PRAGMA foreign_keys = ON;\")\n",
    "    return conn\n",
    "\n",
    "def init_db(conn):\n",
    "    \"\"\"Create the contacts table.\"\"\"\n",
    "    with conn:\n",
    "        conn.execute(\"\"\"\n",
    "            CREATE TABLE IF NOT EXISTS contacts (\n",
    "                id INTEGER PRIMARY KEY AUTOINCREMENT,\n",
    "                name TEXT NOT NULL,\n",
    "                email TEXT UNIQUE,\n",
    "                phone TEXT,\n",
    "                created_at TEXT DEFAULT (datetime('now'))\n",
    "            );\n",
    "        \"\"\")\n",
    "\n",
    "def insert_contacts(conn, contacts):\n",
    "    \"\"\"\n",
    "    contacts: iterable of (name, email, phone)\n",
    "    uses executemany for bulk insert\n",
    "    \"\"\"\n",
    "    with conn:\n",
    "        conn.executemany(\n",
    "            \"INSERT INTO contacts (name, email, phone) VALUES (?, ?, ?);\",\n",
    "            contacts\n",
    "        )\n",
    "\n",
    "def list_contacts(conn):\n",
    "    cur = conn.execute(\"SELECT * FROM contacts ORDER BY id;\")\n",
    "    rows = cur.fetchall()\n",
    "    print(\"--- all contacts ---\")\n",
    "    for r in rows:\n",
    "        # convert sqlite3.Row to dict for pretty print\n",
    "        print(dict(r))\n",
    "    print(\"---------------------\")\n",
    "\n",
    "def find_by_email(conn, email):\n",
    "    cur = conn.execute(\"SELECT * FROM contacts WHERE email = ?;\", (email,))\n",
    "    return cur.fetchone()  # None or sqlite3.Row\n",
    "\n",
    "def update_phone(conn, contact_id, new_phone):\n",
    "    with conn:\n",
    "        conn.execute(\"UPDATE contacts SET phone = ? WHERE id = ?;\", (new_phone, contact_id))\n",
    "\n",
    "def delete_contact(conn, contact_id):\n",
    "    with conn:\n",
    "        conn.execute(\"DELETE FROM contacts WHERE id = ?;\", (contact_id,))\n",
    "\n",
    "def transaction_example(conn):\n",
    "    \"\"\"\n",
    "    Example transaction: swap two emails (this will rollback on integrity errors).\n",
    "    Demonstrates automatic commit/rollback when using `with conn:`\n",
    "    \"\"\"\n",
    "    try:\n",
    "        with conn:  # enters a transaction, commits on success, rollbacks on exception\n",
    "            a = conn.execute(\"SELECT id, email FROM contacts WHERE id = ?;\", (1,)).fetchone()\n",
    "            b = conn.execute(\"SELECT id, email FROM contacts WHERE id = ?;\", (2,)).fetchone()\n",
    "            if not a or not b:\n",
    "                raise ValueError(\"need two contacts with id 1 and 2\")\n",
    "            # swap emails\n",
    "            conn.execute(\"UPDATE contacts SET email = ? WHERE id = ?;\", (b[\"email\"], a[\"id\"]))\n",
    "            conn.execute(\"UPDATE contacts SET email = ? WHERE id = ?;\", (a[\"email\"], b[\"id\"]))\n",
    "            # if one of the emails violates UNIQUE, sqlite will raise IntegrityError and entire transaction rolls back\n",
    "    except IntegrityError as e:\n",
    "        print(\"Transaction failed, rolled back:\", e)\n",
    "\n",
    "def main():\n",
    "    conn = get_conn()\n",
    "    init_db(conn)\n",
    "\n",
    "    # Insert sample data (ignore if already present)\n",
    "    sample = [\n",
    "        (\"Alice\", \"alice@example.com\", \"555-0100\"),\n",
    "        (\"Bob\", \"bob@example.com\", \"555-0110\"),\n",
    "        (\"Charlie\", \"charlie@example.com\", None)\n",
    "    ]\n",
    "    try:\n",
    "        insert_contacts(conn, sample)\n",
    "    except IntegrityError:\n",
    "        # likely already inserted earlier — safe to ignore for this demo\n",
    "        pass\n",
    "\n",
    "    list_contacts(conn)\n",
    "\n",
    "    # Find one by email\n",
    "    r = find_by_email(conn, \"bob@example.com\")\n",
    "    print(\"Found Bob:\", dict(r) if r else \"not found\")\n",
    "\n",
    "    # Update phone for id=2 (Bob)\n",
    "    update_phone(conn, 2, \"555-9999\")\n",
    "    print(\"After phone update:\")\n",
    "    list_contacts(conn)\n",
    "\n",
    "    # Swap emails (shows transaction)\n",
    "    transaction_example(conn)\n",
    "    print(\"After transaction attempt:\")\n",
    "    list_contacts(conn)\n",
    "\n",
    "    # Delete a contact\n",
    "    delete_contact(conn, 3)  # delete Charlie\n",
    "    print(\"After delete:\")\n",
    "    list_contacts(conn)\n",
    "\n",
    "    conn.close()\n",
    "\n",
    "if __name__ == \"__main__\":\n",
    "    main()\n"
   ]
  },
  {
   "cell_type": "code",
   "execution_count": 10,
   "id": "a31ae83c",
   "metadata": {},
   "outputs": [
    {
     "name": "stdout",
     "output_type": "stream",
     "text": [
      "Table 'books' created (if not exists).\n"
     ]
    }
   ],
   "source": [
    "import sqlite3\n",
    "\n",
    "conn = sqlite3.connect(\"library.db\")\n",
    "conn.row_factory = sqlite3.Row\n",
    "cur = conn.cursor()\n",
    "\n",
    "cur.execute(\"\"\"\n",
    "CREATE TABLE IF NOT EXISTS books (\n",
    "    id INTEGER PRIMARY KEY AUTOINCREMENT,\n",
    "    title TEXT NOT NULL,\n",
    "    author TEXT NOT NULL,\n",
    "    year INTEGER,\n",
    "    available BOOLEAN DEFAULT 1\n",
    ");\n",
    "\"\"\")\n",
    "conn.commit()\n",
    "print(\"Table 'books' created (if not exists).\")\n"
   ]
  },
  {
   "cell_type": "code",
   "execution_count": 11,
   "id": "2c62f6ee",
   "metadata": {},
   "outputs": [
    {
     "name": "stdout",
     "output_type": "stream",
     "text": [
      "Inserted one book.\n"
     ]
    }
   ],
   "source": [
    "cur.execute(\"INSERT INTO books (title, author, year) VALUES (?, ?, ?);\",\n",
    "            (\"1984\", \"George Orwell\", 1949))\n",
    "conn.commit()\n",
    "print(\"Inserted one book.\")\n"
   ]
  },
  {
   "cell_type": "code",
   "execution_count": 12,
   "id": "634b6318",
   "metadata": {},
   "outputs": [
    {
     "name": "stdout",
     "output_type": "stream",
     "text": [
      "Inserted multiple books.\n"
     ]
    }
   ],
   "source": [
    "books_to_add = [\n",
    "    (\"Brave New World\", \"Aldous Huxley\", 1932),\n",
    "    (\"Fahrenheit 451\", \"Ray Bradbury\", 1953),\n",
    "    (\"The Handmaid's Tale\", \"Margaret Atwood\", 1985)\n",
    "]\n",
    "cur.executemany(\"INSERT INTO books (title, author, year) VALUES (?, ?, ?);\", books_to_add)\n",
    "conn.commit()\n",
    "print(\"Inserted multiple books.\")\n"
   ]
  },
  {
   "cell_type": "code",
   "execution_count": 13,
   "id": "4abe140f",
   "metadata": {},
   "outputs": [
    {
     "name": "stdout",
     "output_type": "stream",
     "text": [
      "All books in library:\n",
      "1: 1984 by George Orwell (1949)\n",
      "2: Brave New World by Aldous Huxley (1932)\n",
      "3: Fahrenheit 451 by Ray Bradbury (1953)\n",
      "4: The Handmaid's Tale by Margaret Atwood (1985)\n"
     ]
    }
   ],
   "source": [
    "cur.execute(\"SELECT * FROM books;\")\n",
    "all_books = cur.fetchall()\n",
    "print(\"All books in library:\")\n",
    "for book in all_books:\n",
    "    print(f\"{book['id']}: {book['title']} by {book['author']} ({book['year']})\")\n"
   ]
  },
  {
   "cell_type": "code",
   "execution_count": 14,
   "id": "8eb106ea",
   "metadata": {},
   "outputs": [
    {
     "name": "stdout",
     "output_type": "stream",
     "text": [
      "Fetched one book with fetchone():\n",
      "1: 1984 by George Orwell (1949)\n"
     ]
    }
   ],
   "source": [
    "cur.execute(\"SELECT * FROM books WHERE title = ?;\", (\"1984\",))\n",
    "book = cur.fetchone()\n",
    "if book:\n",
    "    print(\"Fetched one book with fetchone():\")\n",
    "    print(f\"{book['id']}: {book['title']} by {book['author']} ({book['year']})\")\n",
    "else:\n",
    "    print(\"Book not found.\")\n"
   ]
  },
  {
   "cell_type": "code",
   "execution_count": 15,
   "id": "7abb6f1c",
   "metadata": {},
   "outputs": [
    {
     "name": "stdout",
     "output_type": "stream",
     "text": [
      "First two books with fetchmany():\n",
      "1: 1984\n",
      "2: Brave New World\n"
     ]
    }
   ],
   "source": [
    "cur.execute(\"SELECT * FROM books;\")\n",
    "first_two = cur.fetchmany(2)\n",
    "print(\"First two books with fetchmany():\")\n",
    "for book in first_two:\n",
    "    print(f\"{book['id']}: {book['title']}\")\n"
   ]
  },
  {
   "cell_type": "code",
   "execution_count": 16,
   "id": "e9bcfd58",
   "metadata": {},
   "outputs": [
    {
     "name": "stdout",
     "output_type": "stream",
     "text": [
      "Updated availability of 'Fahrenheit 451'.\n"
     ]
    }
   ],
   "source": [
    "cur.execute(\"UPDATE books SET available = 0 WHERE title = ?;\", (\"Fahrenheit 451\",))\n",
    "conn.commit()\n",
    "print(\"Updated availability of 'Fahrenheit 451'.\")\n"
   ]
  },
  {
   "cell_type": "code",
   "execution_count": 17,
   "id": "ef8db3d6",
   "metadata": {},
   "outputs": [
    {
     "name": "stdout",
     "output_type": "stream",
     "text": [
      "Deleted 'The Handmaid's Tale'.\n"
     ]
    }
   ],
   "source": [
    "cur.execute(\"DELETE FROM books WHERE title = ?;\", (\"The Handmaid's Tale\",))\n",
    "conn.commit()\n",
    "print(\"Deleted 'The Handmaid's Tale'.\")\n"
   ]
  },
  {
   "cell_type": "code",
   "execution_count": 18,
   "id": "2f6c27a4",
   "metadata": {},
   "outputs": [
    {
     "name": "stdout",
     "output_type": "stream",
     "text": [
      "Books left after deletion:\n",
      "1: 1984 — Available? Yes\n",
      "2: Brave New World — Available? Yes\n",
      "3: Fahrenheit 451 — Available? No\n"
     ]
    }
   ],
   "source": [
    "cur.execute(\"SELECT * FROM books;\")\n",
    "books_left = cur.fetchall()\n",
    "print(\"Books left after deletion:\")\n",
    "for book in books_left:\n",
    "    avail = \"Yes\" if book[\"available\"] else \"No\"\n",
    "    print(f\"{book['id']}: {book['title']} — Available? {avail}\")\n"
   ]
  },
  {
   "cell_type": "code",
   "execution_count": 19,
   "id": "d21f0615",
   "metadata": {},
   "outputs": [
    {
     "name": "stdout",
     "output_type": "stream",
     "text": [
      "Connection closed.\n"
     ]
    }
   ],
   "source": [
    "conn.close()\n",
    "print(\"Connection closed.\")\n"
   ]
  },
  {
   "cell_type": "code",
   "execution_count": null,
   "id": "d0ff7940",
   "metadata": {},
   "outputs": [],
   "source": []
  }
 ],
 "metadata": {
  "kernelspec": {
   "display_name": "sum25",
   "language": "python",
   "name": "python3"
  },
  "language_info": {
   "codemirror_mode": {
    "name": "ipython",
    "version": 3
   },
   "file_extension": ".py",
   "mimetype": "text/x-python",
   "name": "python",
   "nbconvert_exporter": "python",
   "pygments_lexer": "ipython3",
   "version": "3.8.20"
  }
 },
 "nbformat": 4,
 "nbformat_minor": 5
}
