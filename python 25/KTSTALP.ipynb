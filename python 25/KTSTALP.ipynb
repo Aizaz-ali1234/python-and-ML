{
 "cells": [
  {
   "cell_type": "markdown",
   "id": "d96b7fee",
   "metadata": {},
   "source": [
    " ### Keeping Time, Scheduling Tasks, and Launching Programs\n"
   ]
  },
  {
   "cell_type": "markdown",
   "id": "327c08bb",
   "metadata": {},
   "source": [
    "#### the time module\n",
    "Your computer’s system clock is set to a specific date, time, and time zone. \n",
    "The built-in time module allows your Python programs to read the system \n",
    "clock for the current time. The time.time() and time.sleep() functions are \n",
    "the most useful in the time module."
   ]
  },
  {
   "cell_type": "markdown",
   "id": "dd85ef3d",
   "metadata": {},
   "source": [
    "#### The time.time() function\n",
    "The Unix epoch is a time reference commonly used in programming: 12 Am \n",
    "on January 1, 1970, Coordinated Universal Time (UTC). The time.time() \n",
    "function returns the number of seconds since that moment as a float value."
   ]
  },
  {
   "cell_type": "code",
   "execution_count": 1,
   "id": "1d22db3f",
   "metadata": {},
   "outputs": [
    {
     "data": {
      "text/plain": [
       "1753947563.8218381"
      ]
     },
     "execution_count": 1,
     "metadata": {},
     "output_type": "execute_result"
    }
   ],
   "source": [
    "import time\n",
    "time.time()"
   ]
  },
  {
   "cell_type": "code",
   "execution_count": 4,
   "id": "02aadeaa",
   "metadata": {},
   "outputs": [],
   "source": [
    "import time"
   ]
  },
  {
   "cell_type": "code",
   "execution_count": 21,
   "id": "25d1d26b",
   "metadata": {},
   "outputs": [
    {
     "name": "stdout",
     "output_type": "stream",
     "text": [
      "the result is 2565 digit long.\n",
      "Took 0.0009975433349609375 second to calculate.\n"
     ]
    }
   ],
   "source": [
    "def calcprod():\n",
    "    product=1\n",
    "    for i in range (1,1000):\n",
    "        product=product*i\n",
    "    return product\n",
    "startTime=time.time()\n",
    "prod=calcprod()\n",
    "endTime=time.time()\n",
    "print('the result is %s digit long.' % len(str(prod)))\n",
    "print('Took %s second to calculate.' % (endTime-startTime))"
   ]
  },
  {
   "cell_type": "markdown",
   "id": "9c74873d",
   "metadata": {},
   "source": [
    "Another way to profile your code is to use the cProfile.run() function, which provides \n",
    "a much more informative level of detail than the simple time.time() technique."
   ]
  },
  {
   "cell_type": "markdown",
   "id": "58b83a4e",
   "metadata": {},
   "source": [
    "#### The time.sleep() Function\n",
    "If you need to pause your program for a while, call the time.sleep() function \n",
    "and pass it the number of seconds you want your program to stay paused. "
   ]
  },
  {
   "cell_type": "code",
   "execution_count": 22,
   "id": "19181ee7",
   "metadata": {},
   "outputs": [],
   "source": [
    "import time"
   ]
  },
  {
   "cell_type": "code",
   "execution_count": 27,
   "id": "ab141720",
   "metadata": {},
   "outputs": [
    {
     "name": "stdout",
     "output_type": "stream",
     "text": [
      "Aizaz\n",
      "Ali\n",
      "Aizaz\n",
      "Ali\n",
      "Aizaz\n",
      "Ali\n"
     ]
    }
   ],
   "source": [
    "for i in range(3):\n",
    "    print('Aizaz')\n",
    "    time.sleep(1)\n",
    "    print('Ali')\n",
    "    time.sleep(1)\n"
   ]
  },
  {
   "cell_type": "markdown",
   "id": "8b9c3f9e",
   "metadata": {},
   "source": [
    "The for loop will print Aizaz, pause for one second, print Ali, \n",
    "pause for one second, print Aizaz, pause, and so on until Aizaz and Ali have each been printed three times."
   ]
  },
  {
   "cell_type": "markdown",
   "id": "1830944a",
   "metadata": {},
   "source": [
    "#### rounding numbers\n",
    "When working with times, you’ll often encounter float values with many \n",
    "digits after the decimal. To make these values easier to work with, you can \n",
    "shorten them with Python’s built-in round() function, which rounds a float \n",
    "to the precision you specify. "
   ]
  },
  {
   "cell_type": "code",
   "execution_count": 30,
   "id": "80ae1713",
   "metadata": {},
   "outputs": [],
   "source": [
    "import time"
   ]
  },
  {
   "cell_type": "code",
   "execution_count": 31,
   "id": "7c032680",
   "metadata": {},
   "outputs": [
    {
     "name": "stdout",
     "output_type": "stream",
     "text": [
      "1753955282.0176585\n"
     ]
    }
   ],
   "source": [
    "now=time.time()\n",
    "print(now)"
   ]
  },
  {
   "cell_type": "code",
   "execution_count": null,
   "id": "3862eab4",
   "metadata": {},
   "outputs": [
    {
     "data": {
      "text/plain": [
       "1753955282.02"
      ]
     },
     "execution_count": 32,
     "metadata": {},
     "output_type": "execute_result"
    }
   ],
   "source": [
    "round(now,2)#to round now to two digits after the decimal"
   ]
  },
  {
   "cell_type": "code",
   "execution_count": null,
   "id": "459fa54a",
   "metadata": {},
   "outputs": [
    {
     "data": {
      "text/plain": [
       "1753955282"
      ]
     },
     "execution_count": 33,
     "metadata": {},
     "output_type": "execute_result"
    }
   ],
   "source": [
    "round(now)#to round to the nearest integer."
   ]
  },
  {
   "cell_type": "markdown",
   "id": "f49eaae1",
   "metadata": {},
   "source": [
    "#### the datetime module"
   ]
  },
  {
   "cell_type": "code",
   "execution_count": 47,
   "id": "bdac0143",
   "metadata": {},
   "outputs": [],
   "source": [
    "import datetime"
   ]
  },
  {
   "cell_type": "code",
   "execution_count": 48,
   "id": "0d62c9df",
   "metadata": {},
   "outputs": [
    {
     "data": {
      "text/plain": [
       "datetime.datetime(2025, 7, 31, 15, 12, 9, 478128)"
      ]
     },
     "execution_count": 48,
     "metadata": {},
     "output_type": "execute_result"
    }
   ],
   "source": [
    "datetime.datetime.now()"
   ]
  },
  {
   "cell_type": "code",
   "execution_count": 53,
   "id": "9d4381f5",
   "metadata": {},
   "outputs": [
    {
     "data": {
      "text/plain": [
       "(7, 31, 2025)"
      ]
     },
     "execution_count": 53,
     "metadata": {},
     "output_type": "execute_result"
    }
   ],
   "source": [
    "dt=datetime.datetime(2025,7,31,3,16,0)\n",
    "dt.month, dt.day, dt.year"
   ]
  },
  {
   "cell_type": "code",
   "execution_count": 54,
   "id": "945cf055",
   "metadata": {},
   "outputs": [
    {
     "data": {
      "text/plain": [
       "(3, 16, 0)"
      ]
     },
     "execution_count": 54,
     "metadata": {},
     "output_type": "execute_result"
    }
   ],
   "source": [
    "dt.hour, dt.minute, dt.second"
   ]
  },
  {
   "cell_type": "code",
   "execution_count": 55,
   "id": "0451c691",
   "metadata": {},
   "outputs": [
    {
     "data": {
      "text/plain": [
       "datetime.datetime(1970, 4, 26, 22, 46, 40)"
      ]
     },
     "execution_count": 55,
     "metadata": {},
     "output_type": "execute_result"
    }
   ],
   "source": [
    "datetime.datetime.fromtimestamp(10000000)"
   ]
  },
  {
   "cell_type": "code",
   "execution_count": 56,
   "id": "e3f46cc2",
   "metadata": {},
   "outputs": [
    {
     "data": {
      "text/plain": [
       "datetime.datetime(2025, 7, 31, 15, 19, 58, 426767)"
      ]
     },
     "execution_count": 56,
     "metadata": {},
     "output_type": "execute_result"
    }
   ],
   "source": [
    "datetime.datetime.fromtimestamp(time.time())"
   ]
  },
  {
   "cell_type": "markdown",
   "id": "6bcd003f",
   "metadata": {},
   "source": [
    "#### The timedelta Data Type\n",
    "The datetime module also provides a timedelta data type, which represents a \n",
    "duration of time rather than a moment in time. "
   ]
  },
  {
   "cell_type": "code",
   "execution_count": 62,
   "id": "14e6e9db",
   "metadata": {},
   "outputs": [
    {
     "data": {
      "text/plain": [
       "(12, 36548, 0)"
      ]
     },
     "execution_count": 62,
     "metadata": {},
     "output_type": "execute_result"
    }
   ],
   "source": [
    "delta =datetime.timedelta(days=12, hours=10, minutes=9, seconds=8)\n",
    "delta.days, delta.seconds, delta.microseconds"
   ]
  },
  {
   "cell_type": "code",
   "execution_count": 63,
   "id": "b9a53011",
   "metadata": {},
   "outputs": [
    {
     "data": {
      "text/plain": [
       "1073348.0"
      ]
     },
     "execution_count": 63,
     "metadata": {},
     "output_type": "execute_result"
    }
   ],
   "source": [
    "delta.total_seconds()"
   ]
  },
  {
   "cell_type": "code",
   "execution_count": 64,
   "id": "040a1a3d",
   "metadata": {},
   "outputs": [
    {
     "data": {
      "text/plain": [
       "'12 days, 10:09:08'"
      ]
     },
     "execution_count": 64,
     "metadata": {},
     "output_type": "execute_result"
    }
   ],
   "source": [
    "str(delta)"
   ]
  },
  {
   "cell_type": "markdown",
   "id": "c28122ab",
   "metadata": {},
   "source": [
    "There is no month or year key\n",
    "word argument because “a month” or “a year” is a variable amount of time \n",
    "depending on the particular month or year. A timedelta object has the total \n",
    "duration represented in days, seconds, and microseconds. These numbers \n",
    "are stored in the days, seconds, and microseconds attributes, respectively"
   ]
  },
  {
   "cell_type": "code",
   "execution_count": 67,
   "id": "e82daf55",
   "metadata": {},
   "outputs": [
    {
     "name": "stdout",
     "output_type": "stream",
     "text": [
      "2025-07-31 15:36:43.297266\n"
     ]
    }
   ],
   "source": [
    "dt=datetime.datetime.now()\n",
    "print(dt)"
   ]
  },
  {
   "cell_type": "code",
   "execution_count": 70,
   "id": "e68add12",
   "metadata": {},
   "outputs": [],
   "source": [
    "thousend_Day=datetime.timedelta(days=1000)"
   ]
  },
  {
   "cell_type": "code",
   "execution_count": 71,
   "id": "dd9eef8c",
   "metadata": {},
   "outputs": [
    {
     "data": {
      "text/plain": [
       "datetime.datetime(2028, 4, 26, 15, 36, 43, 297266)"
      ]
     },
     "execution_count": 71,
     "metadata": {},
     "output_type": "execute_result"
    }
   ],
   "source": [
    "dt+thousend_Day"
   ]
  },
  {
   "cell_type": "code",
   "execution_count": 73,
   "id": "0590c54e",
   "metadata": {},
   "outputs": [
    {
     "data": {
      "text/plain": [
       "datetime.datetime(1985, 10, 28, 16, 29)"
      ]
     },
     "execution_count": 73,
     "metadata": {},
     "output_type": "execute_result"
    }
   ],
   "source": [
    "oct21st = datetime.datetime(2015, 10, 21, 16, 29, 0)\n",
    "aboutThirtyYears = datetime.timedelta(days=365 * 30)\n",
    "oct21st\n",
    "datetime.datetime(2015, 10, 21, 16, 29)\n",
    "oct21st - aboutThirtyYears\n",
    "datetime.datetime(1985, 10, 28, 16, 29)\n"
   ]
  },
  {
   "cell_type": "code",
   "execution_count": 74,
   "id": "29889005",
   "metadata": {},
   "outputs": [
    {
     "data": {
      "text/plain": [
       "datetime.datetime(1955, 11, 5, 16, 29)"
      ]
     },
     "execution_count": 74,
     "metadata": {},
     "output_type": "execute_result"
    }
   ],
   "source": [
    "oct21st - (2 * aboutThirtyYears)\n",
    "datetime.datetime(1955, 11, 5, 16, 29)"
   ]
  },
  {
   "cell_type": "code",
   "execution_count": 77,
   "id": "1d89ebcd",
   "metadata": {},
   "outputs": [],
   "source": [
    "import datetime\n",
    "import time\n",
    "halloween2016 = datetime.datetime(2025, 7, 31, 15, 49, 0)\n",
    "while datetime.datetime.now() < halloween2016:\n",
    "    time.sleep(1)"
   ]
  },
  {
   "cell_type": "markdown",
   "id": "36a490f7",
   "metadata": {},
   "source": [
    "#### Converting datetime Objects into Strings"
   ]
  },
  {
   "cell_type": "markdown",
   "id": "40107a2f",
   "metadata": {},
   "source": [
    "| Directive                | Meaning                                       | Example Output             |\n",
    "| ------------------------ | --------------------------------------------- | -------------------------- |\n",
    "| **`%a`**                 | Abbreviated weekday name                      | `Sun`, `Mon`               |\n",
    "| **`%A`**                 | Full weekday name                             | `Sunday`, `Monday`         |\n",
    "| **`%w`**                 | Weekday as a number (0=Sunday, 6=Saturday)    | `0`, `1`, `6`              |\n",
    "| **`%d`**                 | Day of the month (zero-padded)                | `01`, `09`, `31`           |\n",
    "| **`%-d`** *(Linux only)* | Day of the month (no leading zero)            | `1`, `9`, `31`             |\n",
    "| **`%b`**                 | Abbreviated month name                        | `Jan`, `Feb`               |\n",
    "| **`%B`**                 | Full month name                               | `January`, `February`      |\n",
    "| **`%m`**                 | Month as a number (01–12)                     | `01`, `12`                 |\n",
    "| **`%-m`** *(Linux only)* | Month as a number (no leading zero)           | `1`, `12`                  |\n",
    "| **`%y`**                 | Year without century (00–99)                  | `25`                       |\n",
    "| **`%Y`**                 | Year with century                             | `2025`                     |\n",
    "| **`%H`**                 | Hour (24-hour clock, zero-padded)             | `00`, `23`                 |\n",
    "| **`%-H`** *(Linux only)* | Hour (24-hour, no leading zero)               | `0`, `23`                  |\n",
    "| **`%I`**                 | Hour (12-hour clock, zero-padded)             | `01`, `12`                 |\n",
    "| **`%-I`** *(Linux only)* | Hour (12-hour, no leading zero)               | `1`, `12`                  |\n",
    "| **`%p`**                 | AM or PM                                      | `AM`, `PM`                 |\n",
    "| **`%M`**                 | Minute (00–59)                                | `00`, `59`                 |\n",
    "| **`%S`**                 | Second (00–59)                                | `00`, `59`                 |\n",
    "| **`%f`**                 | Microsecond (000000–999999)                   | `123456`                   |\n",
    "| **`%z`**                 | UTC offset in +HHMM or -HHMM                  | `+0500`                    |\n",
    "| **`%Z`**                 | Time zone name                                | `UTC`, `PKT`               |\n",
    "| **`%j`**                 | Day of the year (001–366)                     | `001`, `365`               |\n",
    "| **`%U`**                 | Week number of the year (Sunday as first day) | `00`, `52`                 |\n",
    "| **`%W`**                 | Week number of the year (Monday as first day) | `00`, `52`                 |\n",
    "| **`%c`**                 | Local date and time                           | `Tue Jul 30 15:05:20 2025` |\n",
    "| **`%x`**                 | Local date                                    | `07/30/25`                 |\n",
    "| **`%X`**                 | Local time                                    | `15:05:20`                 |\n",
    "| **`%%`**                 | Literal `%` sign                              | `%`                        |\n"
   ]
  },
  {
   "cell_type": "code",
   "execution_count": 78,
   "id": "04d05bfd",
   "metadata": {},
   "outputs": [],
   "source": [
    "import datetime\n",
    "import time"
   ]
  },
  {
   "cell_type": "code",
   "execution_count": 83,
   "id": "bce4e432",
   "metadata": {},
   "outputs": [
    {
     "name": "stdout",
     "output_type": "stream",
     "text": [
      "Thursday,31 July 2025 04: 05: 03 PM\n"
     ]
    }
   ],
   "source": [
    "now=datetime.datetime.now()\n",
    "print(now.strftime(\"%A,%d %B %Y %I: %M: %S %p\"))"
   ]
  },
  {
   "cell_type": "markdown",
   "id": "21c260ba",
   "metadata": {},
   "source": [
    "#### Converting Strings into datetime Objects\n",
    "If you have a string of date information, such as '2015/10/21 16:29:00' \n",
    "or 'October 21, 2015', and need to convert it to a datetime object, use the \n",
    "datetime.datetime.strptime() function."
   ]
  },
  {
   "cell_type": "code",
   "execution_count": 84,
   "id": "8cd2435d",
   "metadata": {},
   "outputs": [
    {
     "data": {
      "text/plain": [
       "datetime.datetime(2015, 10, 21, 0, 0)"
      ]
     },
     "execution_count": 84,
     "metadata": {},
     "output_type": "execute_result"
    }
   ],
   "source": [
    "datetime.datetime.strptime('October 21, 2015', '%B %d, %Y')"
   ]
  },
  {
   "cell_type": "code",
   "execution_count": 85,
   "id": "93176d89",
   "metadata": {},
   "outputs": [
    {
     "data": {
      "text/plain": [
       "datetime.datetime(2015, 10, 21, 16, 29)"
      ]
     },
     "execution_count": 85,
     "metadata": {},
     "output_type": "execute_result"
    }
   ],
   "source": [
    "datetime.datetime.strptime('2015/10/21 16:29:00', '%Y/%m/%d %H:%M:%S')"
   ]
  },
  {
   "cell_type": "markdown",
   "id": "bac00bbb",
   "metadata": {},
   "source": [
    "#### multithreading\n"
   ]
  },
  {
   "cell_type": "code",
   "execution_count": 86,
   "id": "14637c0c",
   "metadata": {},
   "outputs": [],
   "source": [
    "import datetime, time"
   ]
  },
  {
   "cell_type": "code",
   "execution_count": 87,
   "id": "09c24e21",
   "metadata": {},
   "outputs": [
    {
     "name": "stdout",
     "output_type": "stream",
     "text": [
      "the program starting helloween 2025\n"
     ]
    }
   ],
   "source": [
    "star_time=datetime.datetime(2025,7,31,16,37,0)\n",
    "while datetime.datetime.now()<star_time:\n",
    "    time.sleep(1)\n",
    "print('the program starting helloween 2025')"
   ]
  },
  {
   "cell_type": "code",
   "execution_count": 92,
   "id": "377f9ea3",
   "metadata": {},
   "outputs": [
    {
     "name": "stdout",
     "output_type": "stream",
     "text": [
      "Start of program.\n",
      "End of program.\n"
     ]
    },
    {
     "name": "stdout",
     "output_type": "stream",
     "text": [
      "Wake up!\n"
     ]
    }
   ],
   "source": [
    "import threading, time\n",
    "print('Start of program.')\n",
    "def takeANap():\n",
    "    time.sleep(5)\n",
    "    print('Wake up!')\n",
    "threadObj = threading.Thread(target=takeANap)\n",
    "threadObj.start()\n",
    "print('End of program.')"
   ]
  },
  {
   "cell_type": "markdown",
   "id": "faf3f7e7",
   "metadata": {},
   "source": [
    "#### Passing Arguments to the Thread’s Target Function"
   ]
  },
  {
   "cell_type": "code",
   "execution_count": 93,
   "id": "443245ab",
   "metadata": {},
   "outputs": [
    {
     "name": "stdout",
     "output_type": "stream",
     "text": [
      "Cats & Dogs & Frogs\n"
     ]
    }
   ],
   "source": [
    "print('Cats', 'Dogs', 'Frogs', sep=' & ')"
   ]
  },
  {
   "cell_type": "code",
   "execution_count": 94,
   "id": "94f8f34c",
   "metadata": {},
   "outputs": [],
   "source": [
    "import threading, time"
   ]
  },
  {
   "cell_type": "code",
   "execution_count": 99,
   "id": "b80813eb",
   "metadata": {},
   "outputs": [
    {
     "name": "stdout",
     "output_type": "stream",
     "text": [
      "Cats & Dogs & Frogs\n"
     ]
    }
   ],
   "source": [
    "threadObj=threading.Thread(target=print,args=['Cats', 'Dogs', 'Frogs'],kwargs={'sep':' & '})\n",
    "threadObj.start()"
   ]
  },
  {
   "cell_type": "code",
   "execution_count": 100,
   "id": "0c8eed14",
   "metadata": {},
   "outputs": [],
   "source": [
    "import subprocess"
   ]
  },
  {
   "cell_type": "code",
   "execution_count": 106,
   "id": "280d9363",
   "metadata": {},
   "outputs": [
    {
     "data": {
      "text/plain": [
       "True"
      ]
     },
     "execution_count": 106,
     "metadata": {},
     "output_type": "execute_result"
    }
   ],
   "source": [
    "calcproc =subprocess.Popen('C:\\\\Windows\\\\System32\\\\calc.exe')\n",
    "calcproc.poll()==None   "
   ]
  },
  {
   "cell_type": "code",
   "execution_count": 107,
   "id": "3efec9ed",
   "metadata": {},
   "outputs": [
    {
     "data": {
      "text/plain": [
       "0"
      ]
     },
     "execution_count": 107,
     "metadata": {},
     "output_type": "execute_result"
    }
   ],
   "source": [
    "calcproc.wait()   "
   ]
  },
  {
   "cell_type": "code",
   "execution_count": 109,
   "id": "e08b7646",
   "metadata": {},
   "outputs": [
    {
     "data": {
      "text/plain": [
       "0"
      ]
     },
     "execution_count": 109,
     "metadata": {},
     "output_type": "execute_result"
    }
   ],
   "source": [
    "calcproc.poll()"
   ]
  },
  {
   "cell_type": "code",
   "execution_count": 112,
   "id": "70398241",
   "metadata": {},
   "outputs": [
    {
     "data": {
      "text/plain": [
       "<subprocess.Popen at 0x24f40337d90>"
      ]
     },
     "execution_count": 112,
     "metadata": {},
     "output_type": "execute_result"
    }
   ],
   "source": [
    "subprocess.Popen(['C:\\\\Windows\\\\notepad.exe', 'C:\\\\hello.txt'])"
   ]
  },
  {
   "cell_type": "code",
   "execution_count": 113,
   "id": "64ddd48d",
   "metadata": {},
   "outputs": [],
   "source": [
    "import webbrowser\n"
   ]
  },
  {
   "cell_type": "code",
   "execution_count": null,
   "id": "ac4e703c",
   "metadata": {},
   "outputs": [
    {
     "data": {
      "text/plain": [
       "True"
      ]
     },
     "execution_count": 114,
     "metadata": {},
     "output_type": "execute_result"
    }
   ],
   "source": [
    "webbrowser.open('http://inventwithpython.com/')# when we run the code the well open the website"
   ]
  },
  {
   "cell_type": "code",
   "execution_count": 119,
   "id": "0c3d2ad9",
   "metadata": {},
   "outputs": [
    {
     "data": {
      "text/plain": [
       "12"
      ]
     },
     "execution_count": 119,
     "metadata": {},
     "output_type": "execute_result"
    }
   ],
   "source": [
    "fileObj = open('hello.txt', 'w')\n",
    "fileObj.write('Hello world!')"
   ]
  },
  {
   "cell_type": "code",
   "execution_count": 129,
   "id": "80cfa3cb",
   "metadata": {},
   "outputs": [
    {
     "name": "stdout",
     "output_type": "stream",
     "text": [
      "6 5 4 3 2 1 "
     ]
    }
   ],
   "source": [
    "timeLeft = 6\n",
    "while timeLeft > 0:\n",
    "   print(timeLeft, end=' ')\n",
    "   time.sleep(1)\n",
    "   timeLeft = timeLeft - 1"
   ]
  },
  {
   "cell_type": "code",
   "execution_count": 130,
   "id": "9bfe07e4",
   "metadata": {},
   "outputs": [],
   "source": [
    "import time, subprocess"
   ]
  },
  {
   "cell_type": "code",
   "execution_count": 131,
   "id": "6d610234",
   "metadata": {},
   "outputs": [
    {
     "data": {
      "text/plain": [
       "<subprocess.Popen at 0x24f4033b760>"
      ]
     },
     "execution_count": 131,
     "metadata": {},
     "output_type": "execute_result"
    }
   ],
   "source": [
    "subprocess.Popen(['start', 'alarm.wav'], shell=True)"
   ]
  }
 ],
 "metadata": {
  "kernelspec": {
   "display_name": "sum25",
   "language": "python",
   "name": "python3"
  },
  "language_info": {
   "codemirror_mode": {
    "name": "ipython",
    "version": 3
   },
   "file_extension": ".py",
   "mimetype": "text/x-python",
   "name": "python",
   "nbconvert_exporter": "python",
   "pygments_lexer": "ipython3",
   "version": "3.8.20"
  }
 },
 "nbformat": 4,
 "nbformat_minor": 5
}
